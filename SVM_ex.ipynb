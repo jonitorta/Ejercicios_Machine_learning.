{
  "nbformat": 4,
  "nbformat_minor": 0,
  "metadata": {
    "colab": {
      "name": "SVM_ex",
      "provenance": [],
      "collapsed_sections": [],
      "authorship_tag": "ABX9TyOqgNjYm8Hk5fQAtGs5jhfd",
      "include_colab_link": true
    },
    "kernelspec": {
      "name": "python3",
      "display_name": "Python 3"
    }
  },
  "cells": [
    {
      "cell_type": "markdown",
      "metadata": {
        "id": "view-in-github",
        "colab_type": "text"
      },
      "source": [
        "<a href=\"https://colab.research.google.com/github/jonitorta/Ejercicios_Machine_learning./blob/main/SVM_ex.ipynb\" target=\"_parent\"><img src=\"https://colab.research.google.com/assets/colab-badge.svg\" alt=\"Open In Colab\"/></a>"
      ]
    },
    {
      "cell_type": "markdown",
      "source": [
        "### In this notebook I'll implement SVM with some variations."
      ],
      "metadata": {
        "id": "Ba4rqvDKrHy6"
      }
    },
    {
      "cell_type": "code",
      "source": [
        "import numpy as np\n",
        "import matplotlib.pyplot as plt\n",
        "\n",
        "from sklearn.pipeline import Pipeline\n",
        "from sklearn.preprocessing import StandardScaler\n",
        "from sklearn.svm import LinearSVC"
      ],
      "metadata": {
        "id": "yBHEoYqlFjTZ"
      },
      "execution_count": 1,
      "outputs": []
    },
    {
      "cell_type": "code",
      "metadata": {
        "id": "Y3b3rDaVsMRm"
      },
      "source": [
        "def generate_rn(size,mean,std):\n",
        "  \"\"\"\n",
        "  Generates a np.array of random points in R2\n",
        "  \"\"\"\n",
        "  x = np.random.normal(loc=mean, scale = std, size = size)\n",
        "  y = np.random.normal(loc=mean, scale = std, size = size)\n",
        "  vec = list(zip(x,y))\n",
        "  vec = np.array(vec)\n",
        "  return vec"
      ],
      "execution_count": 2,
      "outputs": []
    },
    {
      "cell_type": "code",
      "source": [
        "#Create two groups of random poits\n",
        "size = 1000\n",
        "first_class =  generate_rn(size = size, mean = -1 , std = 1)\n",
        "second_class =  generate_rn(size = size, mean = 5 , std = 1)"
      ],
      "metadata": {
        "id": "Huu3cdGkFjyY"
      },
      "execution_count": 3,
      "outputs": []
    },
    {
      "cell_type": "code",
      "metadata": {
        "id": "t4exRNtUtU9i",
        "colab": {
          "base_uri": "https://localhost:8080/"
        },
        "outputId": "2e9a9a44-3b08-4f1e-f190-96903cf53035"
      },
      "source": [
        "#Create labels for each cat, let the first class be cat 0 and second one 1\n",
        "labels = np.vstack((\n",
        "    np.ones(shape = (size,1)) , np.zeros(shape = (size,1))\n",
        ")).astype(np.float32)\n",
        "labels.ravel()"
      ],
      "execution_count": 63,
      "outputs": [
        {
          "output_type": "execute_result",
          "data": {
            "text/plain": [
              "array([1., 1., 1., ..., 0., 0., 0.], dtype=float32)"
            ]
          },
          "metadata": {},
          "execution_count": 63
        }
      ]
    },
    {
      "cell_type": "code",
      "metadata": {
        "id": "uA54hYKFuchk"
      },
      "source": [
        "#Let's do the same with the data\n",
        "data = np.vstack(\n",
        "    (first_class,second_class)\n",
        ").astype(np.float32)"
      ],
      "execution_count": 64,
      "outputs": []
    },
    {
      "cell_type": "code",
      "source": [
        "#Check the data\n",
        "plt.scatter(data[:,0], data[:,1], c = labels)\n",
        "plt.show()"
      ],
      "metadata": {
        "colab": {
          "base_uri": "https://localhost:8080/",
          "height": 265
        },
        "id": "54Nlh4xCKVso",
        "outputId": "14a8cb35-2b91-410c-854c-0c1b7a05b7cc"
      },
      "execution_count": 65,
      "outputs": [
        {
          "output_type": "display_data",
          "data": {
            "text/plain": [
              "<Figure size 432x288 with 1 Axes>"
            ],
            "image/png": "[encoded data removed]"
          },
          "metadata": {
            "needs_background": "light"
          }
        }
      ]
    },
    {
      "cell_type": "code",
      "metadata": {
        "id": "e0fyRrFqu1J3"
      },
      "source": [
        "#Define the worflow, first scale the data, then fit with the model\n",
        "svm_clf = Pipeline([\n",
        "                    (\"Scaler\", StandardScaler()),\n",
        "                    (\"Linear_svm\", LinearSVC(C = 1, loss = \"hinge\" ))\n",
        "])"
      ],
      "execution_count": 66,
      "outputs": []
    },
    {
      "cell_type": "code",
      "metadata": {
        "id": "xcjmKUrDxgLV",
        "colab": {
          "base_uri": "https://localhost:8080/"
        },
        "outputId": "2df8225c-48a7-4eb6-fa52-b4c3f62b5a7d"
      },
      "source": [
        "#Let's fit the modle\n",
        "svm_clf.fit(data,labels.ravel())"
      ],
      "execution_count": 67,
      "outputs": [
        {
          "output_type": "execute_result",
          "data": {
            "text/plain": [
              "Pipeline(steps=[('Scaler', StandardScaler()),\n",
              "                ('Linear_svm', LinearSVC(C=1, loss='hinge'))])"
            ]
          },
          "metadata": {},
          "execution_count": 67
        }
      ]
    },
    {
      "cell_type": "code",
      "source": [
        "#Extract coefficients for the line, we have dot((x,y),(w0,w1)) + b = 0\n",
        "coefs = svm_clf[1].coef_[0]\n",
        "intercept = svm_clf[1].intercept_[0]"
      ],
      "metadata": {
        "id": "kBzDX396gmi4"
      },
      "execution_count": 83,
      "outputs": []
    },
    {
      "cell_type": "code",
      "metadata": {
        "id": "_I-T9oOXyWfu"
      },
      "source": [
        "#Define the line function to check the classification\n",
        "y = lambda x : -x * coefs[0]/coefs[1] - intercept/coefs[1]\n",
        "x = np.linspace(start = -2 , stop = 4)\n",
        "line = [y(val) for val in x]"
      ],
      "execution_count": 84,
      "outputs": []
    },
    {
      "cell_type": "code",
      "source": [
        "#Rememeber standarize the data, as we did in the smv \n",
        "scaled_data = StandardScaler().fit_transform(data)"
      ],
      "metadata": {
        "id": "KMvAj9y_jdGp"
      },
      "execution_count": 85,
      "outputs": []
    },
    {
      "cell_type": "code",
      "metadata": {
        "id": "O76m7iV1ydhX",
        "colab": {
          "base_uri": "https://localhost:8080/",
          "height": 265
        },
        "outputId": "a29d2ca0-f92c-41bc-8a37-de208f815d76"
      },
      "source": [
        "#Here we can see the fit is good\n",
        "plt.plot(x, line )\n",
        "plt.scatter(scaled_data[:,0], scaled_data[:,1], c = labels)\n",
        "plt.show()"
      ],
      "execution_count": 86,
      "outputs": [
        {
          "output_type": "display_data",
          "data": {
            "text/plain": [
              "<Figure size 432x288 with 1 Axes>"
            ],
            "image/png": "[encoded data removed]"
          },
          "metadata": {
            "needs_background": "light"
          }
        }
      ]
    },
    {
      "cell_type": "code",
      "metadata": {
        "id": "mC0jwsWWzWxn"
      },
      "source": [
        ""
      ],
      "execution_count": null,
      "outputs": []
    },
    {
      "cell_type": "code",
      "metadata": {
        "id": "n8qYy_bAzZ8E"
      },
      "source": [
        ""
      ],
      "execution_count": null,
      "outputs": []
    },
    {
      "cell_type": "code",
      "metadata": {
        "id": "YNZvCMvo4U7x"
      },
      "source": [
        ""
      ],
      "execution_count": null,
      "outputs": []
    },
    {
      "cell_type": "code",
      "metadata": {
        "id": "CRHNgEMX5WMO"
      },
      "source": [
        ""
      ],
      "execution_count": null,
      "outputs": []
    }
  ]
}