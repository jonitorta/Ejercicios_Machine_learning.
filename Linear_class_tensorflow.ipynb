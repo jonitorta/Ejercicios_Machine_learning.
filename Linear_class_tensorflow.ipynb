{
  "nbformat": 4,
  "nbformat_minor": 0,
  "metadata": {
    "colab": {
      "name": "Linear_class_tensorflow",
      "provenance": [],
      "authorship_tag": "ABX9TyPY1JwuKP+w5Hf7oYhIB6S3",
      "include_colab_link": true
    },
    "kernelspec": {
      "name": "python3",
      "display_name": "Python 3"
    }
  },
  "cells": [
    {
      "cell_type": "markdown",
      "metadata": {
        "id": "view-in-github",
        "colab_type": "text"
      },
      "source": [
        "<a href=\"https://colab.research.google.com/github/jonitorta/Ejercicios_Machine_learning./blob/main/Linear_class_tensorflow.ipynb\" target=\"_parent\"><img src=\"https://colab.research.google.com/assets/colab-badge.svg\" alt=\"Open In Colab\"/></a>"
      ]
    },
    {
      "cell_type": "markdown",
      "source": [
        "### Linear Classifier.\n",
        "In this notebook I'll implement a linear classifier with tensorflow.\n"
      ],
      "metadata": {
        "id": "xoQMPHblrMMR"
      }
    },
    {
      "cell_type": "code",
      "metadata": {
        "id": "lCp2mUbBZABt"
      },
      "source": [
        "#Main libraries\n",
        "import tensorflow as tf\n",
        "import matplotlib.pyplot as plt\n",
        "import numpy as np"
      ],
      "execution_count": 1,
      "outputs": []
    },
    {
      "cell_type": "code",
      "metadata": {
        "id": "qN8CWsoGZDZL"
      },
      "source": [
        "#Create 2000 random points \n",
        "N = 1000\n",
        "first_class = list(zip(np.random.normal(loc = 0.1, scale = .1, size = N) ,  np.random.normal(loc = .1, scale = .1, size = N)))\n",
        "second_class  = list(zip(np.random.normal(loc = 0.6, scale = .1, size = N) ,  np.random.normal(loc = .6, scale = .1, size = N)))\n",
        "first_class = np.array(first_class)\n",
        "second_class = np.array(second_class)"
      ],
      "execution_count": 2,
      "outputs": []
    },
    {
      "cell_type": "code",
      "source": [
        "#Create the labels for each cat and stack all data vertically\n",
        "data = np.vstack((first_class, second_class)).astype(np.float32)\n",
        "labels = np.vstack((np.zeros(shape = (N,1) ) , np.ones(shape = (N,1) )) ).astype(np.float32)"
      ],
      "metadata": {
        "id": "dBfdd8NotYRj"
      },
      "execution_count": 3,
      "outputs": []
    },
    {
      "cell_type": "code",
      "source": [
        "#Let's see how the data looks\n",
        "plt.scatter(first_class[:,0], first_class[:,1])\n",
        "plt.scatter(second_class[:,0], second_class[:,1])\n",
        "plt.show()"
      ],
      "metadata": {
        "id": "nZ3Gx4Mel1Ao",
        "colab": {
          "base_uri": "https://localhost:8080/",
          "height": 265
        },
        "outputId": "be8213f4-47b1-4944-e039-143ab0a74c19"
      },
      "execution_count": 4,
      "outputs": [
        {
          "output_type": "display_data",
          "data": {
            "text/plain": [
              "<Figure size 432x288 with 1 Axes>"
            ],
            "image/png": "[encoded data removed]"
          },
          "metadata": {
            "needs_background": "light"
          }
        }
      ]
    },
    {
      "cell_type": "code",
      "metadata": {
        "id": "e83YQkykczsG"
      },
      "source": [
        "def model(inputs):\n",
        "  \"\"\"\n",
        "  Computes dot product with weights and add the bias\n",
        "  \"\"\"\n",
        "  return tf.matmul(inputs, W) + b"
      ],
      "execution_count": 5,
      "outputs": []
    },
    {
      "cell_type": "code",
      "metadata": {
        "id": "rzkUGTbidE62"
      },
      "source": [
        "def square_error(labels, predictions):\n",
        "  \"\"\"\n",
        "  Computes the mean square error of predictions vs labels.\n",
        "  \"\"\"\n",
        "  s_difference = tf.square(labels - predictions)\n",
        "  return tf.reduce_mean(s_difference)"
      ],
      "execution_count": 6,
      "outputs": []
    },
    {
      "cell_type": "code",
      "metadata": {
        "id": "26TwJwNTeNOQ"
      },
      "source": [
        "def fit(model, data, labels, error_metric, iterations, l_r = 0.5):\n",
        "  \"\"\"\n",
        "  Compute gradient wrt weights and bias, then update weights and bias.\n",
        "  \"\"\"\n",
        "  for iteration in range(iterations):\n",
        "    with tf.GradientTape() as tape :\n",
        "      predictions = model(data)\n",
        "      error = error_metric(labels, predictions)\n",
        "    gradient_W, gradient_b = tape.gradient(error, [W,b])\n",
        "    print(f\"The loss at iteration {iteration} is : {error}\")\n",
        "    W.assign_sub(gradient_W*l_r)\n",
        "    b.assign_sub(gradient_b*l_r)"
      ],
      "execution_count": 7,
      "outputs": []
    },
    {
      "cell_type": "code",
      "source": [
        "#Create the initial weight matrix and bias value\n",
        "input_dim = 2\n",
        "output_dim = 1\n",
        "W = tf.Variable(initial_value=tf.random.uniform(shape=(input_dim, output_dim)))\n",
        "b = tf.Variable(initial_value=tf.zeros(shape=(output_dim,)))"
      ],
      "metadata": {
        "id": "aLxNW6Jd2LzF"
      },
      "execution_count": 8,
      "outputs": []
    },
    {
      "cell_type": "code",
      "source": [
        "#Train the model\n",
        "fit(model, data, labels, square_error, 40)"
      ],
      "metadata": {
        "colab": {
          "base_uri": "https://localhost:8080/"
        },
        "id": "qVwno-j88lph",
        "outputId": "5ad9a56e-85bc-47c1-b019-d1fbf2ef4f58"
      },
      "execution_count": 9,
      "outputs": [
        {
          "output_type": "stream",
          "name": "stdout",
          "text": [
            "The loss at iteration 0 is : 0.07233873009681702\n",
            "The loss at iteration 1 is : 0.04618335887789726\n",
            "The loss at iteration 2 is : 0.039658717811107635\n",
            "The loss at iteration 3 is : 0.03553874418139458\n",
            "The loss at iteration 4 is : 0.03233062103390694\n",
            "The loss at iteration 5 is : 0.029773017391562462\n",
            "The loss at iteration 6 is : 0.027728132903575897\n",
            "The loss at iteration 7 is : 0.02609151042997837\n",
            "The loss at iteration 8 is : 0.02478029765188694\n",
            "The loss at iteration 9 is : 0.023728540167212486\n",
            "The loss at iteration 10 is : 0.022883644327521324\n",
            "The loss at iteration 11 is : 0.0222037173807621\n",
            "The loss at iteration 12 is : 0.021655388176441193\n",
            "The loss at iteration 13 is : 0.02121204324066639\n",
            "The loss at iteration 14 is : 0.02085249312222004\n",
            "The loss at iteration 15 is : 0.020559830591082573\n",
            "The loss at iteration 16 is : 0.0203205868601799\n",
            "The loss at iteration 17 is : 0.0201240386813879\n",
            "The loss at iteration 18 is : 0.019961630925536156\n",
            "The loss at iteration 19 is : 0.019826550036668777\n",
            "The loss at iteration 20 is : 0.019713344052433968\n",
            "The loss at iteration 21 is : 0.019617699086666107\n",
            "The loss at iteration 22 is : 0.019536150619387627\n",
            "The loss at iteration 23 is : 0.019465938210487366\n",
            "The loss at iteration 24 is : 0.019404875114560127\n",
            "The loss at iteration 25 is : 0.01935119554400444\n",
            "The loss at iteration 26 is : 0.019303519278764725\n",
            "The loss at iteration 27 is : 0.0192607119679451\n",
            "The loss at iteration 28 is : 0.01922188326716423\n",
            "The loss at iteration 29 is : 0.01918632537126541\n",
            "The loss at iteration 30 is : 0.019153468310832977\n",
            "The loss at iteration 31 is : 0.019122857600450516\n",
            "The loss at iteration 32 is : 0.01909412071108818\n",
            "The loss at iteration 33 is : 0.01906696893274784\n",
            "The loss at iteration 34 is : 0.019041167572140694\n",
            "The loss at iteration 35 is : 0.019016526639461517\n",
            "The loss at iteration 36 is : 0.018992895260453224\n",
            "The loss at iteration 37 is : 0.018970150500535965\n",
            "The loss at iteration 38 is : 0.018948186188936234\n",
            "The loss at iteration 39 is : 0.01892692595720291\n"
          ]
        }
      ]
    },
    {
      "cell_type": "code",
      "metadata": {
        "id": "LXZEphB8eZRB",
        "colab": {
          "base_uri": "https://localhost:8080/",
          "height": 265
        },
        "outputId": "8e150bdd-d5b1-4e36-8aec-f842f1c1686c"
      },
      "source": [
        "#Check the classification\n",
        "x = np.linspace(-0.1, 1, 100)\n",
        "y = - W[0] / W[1] * x + (0.5 - b) / W[1]\n",
        "plt.plot(x, y, \"black\")\n",
        "plt.scatter(first_class[:,0], first_class[:,1])\n",
        "plt.scatter(second_class[:,0], second_class[:,1])\n",
        "plt.show()"
      ],
      "execution_count": 10,
      "outputs": [
        {
          "output_type": "display_data",
          "data": {
            "text/plain": [
              "<Figure size 432x288 with 1 Axes>"
            ],
            "image/png": "[encoded data removed]"
          },
          "metadata": {
            "needs_background": "light"
          }
        }
      ]
    },
    {
      "cell_type": "code",
      "source": [
        ""
      ],
      "metadata": {
        "id": "TI3gyCrB5bcF"
      },
      "execution_count": 10,
      "outputs": []
    },
    {
      "cell_type": "code",
      "source": [
        ""
      ],
      "metadata": {
        "id": "WxpnkhHB7JnD"
      },
      "execution_count": 10,
      "outputs": []
    }
  ]
}