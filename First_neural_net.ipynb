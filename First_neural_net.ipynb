{
  "nbformat": 4,
  "nbformat_minor": 0,
  "metadata": {
    "colab": {
      "name": "First_neural_net",
      "provenance": [],
      "collapsed_sections": [],
      "include_colab_link": true
    },
    "kernelspec": {
      "name": "python3",
      "display_name": "Python 3"
    }
  },
  "cells": [
    {
      "cell_type": "markdown",
      "metadata": {
        "id": "view-in-github",
        "colab_type": "text"
      },
      "source": [
        "<a href=\"https://colab.research.google.com/github/jonitorta/Ejercicios_Machine_learning./blob/main/First_neural_net.ipynb\" target=\"_parent\"><img src=\"https://colab.research.google.com/assets/colab-badge.svg\" alt=\"Open In Colab\"/></a>"
      ]
    },
    {
      "cell_type": "code",
      "metadata": {
        "id": "kFg954i8EJOM"
      },
      "source": [
        "import tensorflow as tf\n",
        "import math"
      ],
      "execution_count": 85,
      "outputs": []
    },
    {
      "cell_type": "code",
      "source": [
        "#Here we create a dense layer\n",
        "class NaiveDense:\n",
        "  \"\"\" Dense layer creation.\n",
        "  Attributes : \n",
        "    activation : Linear transformation of the input vector to output vector\n",
        "    input_size : input_size\n",
        "    output_size : output_size\n",
        "  \"\"\"\n",
        "  def __init__(self, input_size, output_size, activation):\n",
        "    self.activation = activation\n",
        "    w_shape = (input_size, output_size)\n",
        "    #Here we create a matrix with random values for each weight\n",
        "    w_initial_value = tf.random.uniform(w_shape, minval = 0, maxval = 1e-1)\n",
        "    #Assing weights\n",
        "    self.W = tf.Variable(w_initial_value)\n",
        "    #Here we create a 0-vector of shape output, this vector is \n",
        "    #bias vector \n",
        "    b_shape = output_size\n",
        "    b_initial_value = tf.zeros(b_shape)\n",
        "    #Assing bias vector\n",
        "    self.b = tf.Variable(b_initial_value)\n",
        "\n",
        "  def __call__(self, inputs):\n",
        "    \"\"\" \n",
        "    Transformation methodology\n",
        "    Given weight matrix(W), inputs vector(inputs) and\n",
        "    bias vector(b) returns a vector returns \n",
        "     W*inputs + b \n",
        "    \"\"\"\n",
        "    return self.activation(tf.matmul(inputs, self.W) + self.b)\n",
        " #This decorator helps to assing self.W and self.b and \n",
        " #don't let this attributes change outside the class\n",
        "  @property\n",
        "  def weights(self):\n",
        "    return [self.W, self.b]"
      ],
      "metadata": {
        "id": "gscy4HJgET5I"
      },
      "execution_count": 86,
      "outputs": []
    },
    {
      "cell_type": "code",
      "source": [
        "class NaiveSequential:\n",
        "  \"\"\" \n",
        "  Stack layers \n",
        "  Given a list of layers this class stack them to form\n",
        "  a neural network\n",
        "  \"\"\"\n",
        "  def __init__(self, layers):\n",
        "    self.layers = layers\n",
        "\n",
        "  def __call__(self, inputs):\n",
        "    \"\"\"\n",
        "    Transform input vector in neural network\n",
        "    Given an input vector computes transformation on first layer\n",
        "    then use that tranformed vector from first layer as input for the second\n",
        "    layer and repreat until output vector.\n",
        "    \"\"\"\n",
        "    x = inputs\n",
        "    for layer in self.layers:\n",
        "      x = layer(x)\n",
        "    return x\n",
        "\n",
        "  @property\n",
        "  def weights(self):\n",
        "    \"\"\"Return weights sum of the neural net\"\"\"\n",
        "    weights = []\n",
        "    for layer in self.layers:\n",
        "      weights += layer.weights\n",
        "    return weights"
      ],
      "metadata": {
        "id": "CY8SL9ImF_tx"
      },
      "execution_count": 87,
      "outputs": []
    },
    {
      "cell_type": "code",
      "source": [
        "#Define the structure of the net\n",
        "#Here is 28*28->512->10\n",
        "model = NaiveSequential([\n",
        "                         NaiveDense(input_size=28*28, output_size=512, activation=tf.nn.relu),\n",
        "                         NaiveDense(input_size=512, output_size=10, activation=tf.nn.softmax)\n",
        "])\n",
        "assert len(model.weights) == 4"
      ],
      "metadata": {
        "id": "OZkA-t5lJmsr"
      },
      "execution_count": 88,
      "outputs": []
    },
    {
      "cell_type": "code",
      "source": [
        ""
      ],
      "metadata": {
        "id": "XROwNMQYCDZK"
      },
      "execution_count": 88,
      "outputs": []
    },
    {
      "cell_type": "code",
      "source": [
        "class BatchGenerator:\n",
        "\n",
        "  def __init__(self, images, labels, batch_size = 128):\n",
        "    \"\"\"\n",
        "    Generates batch from a training set of batch size 128 (default)\n",
        "    Given images, labels and a batch size generates subsets of size batch size.\n",
        "    \"\"\"\n",
        "    assert len(images) == len(labels)\n",
        "    self.index = 0\n",
        "    self.images = images\n",
        "    self.labels = labels\n",
        "    self.batch_size = batch_size\n",
        "    self.num_batches = math.ceil(len(images)/ batch_size) #math.ceil rounds up to the closest integer for example math.celi(3/2) = 2 \n",
        "\n",
        "  def next(self):\n",
        "    \"\"\"\n",
        "    Runs over images and segment them based on batch size then update index to\n",
        "    cover the next batch of images.\n",
        "    \"\"\"\n",
        "    images = self.images[self.index: self.index + self.batch_size]\n",
        "    labels = self.labels[self.index : self.index + self.batch_size]\n",
        "    self.index += self.batch_size\n",
        "    return images, labels"
      ],
      "metadata": {
        "id": "08775PisKGpD"
      },
      "execution_count": 89,
      "outputs": []
    },
    {
      "cell_type": "code",
      "source": [
        "def one_training_step(model, images_batch, labels_batch):\n",
        "  \"\"\"\n",
        "  Computes loss of forward propagation.\n",
        "  Given images batch, labels and model(neural net) this function computes\n",
        "  the predicitons, the averge loss(error) and the gradient of average loss\n",
        "  with respect to the weights, with this gradient we can do gradient desent\n",
        "  methodology and compute new weights with update_weight func\n",
        "  \"\"\"\n",
        "  with tf.GradientTape() as tape: #Gradient tape helps doing the differentiation part \n",
        "    predictions = model(images_batch)\n",
        "    per_sample_losses = tf.keras.losses.sparse_categorical_crossentropy(  #Here we compute the loss with a crossentropy func\n",
        "                                                                          # as a cost func\n",
        "        labels_batch, predictions\n",
        "    )\n",
        "    average_loss = tf.reduce_mean(per_sample_losses)\n",
        "  gradients = tape.gradient(average_loss, model.weights) #Here we compute the gradient with gradient tape\n",
        "  update_weights(gradients, model.weights)\n",
        "  return average_loss"
      ],
      "metadata": {
        "id": "AMpHfo78K9wk"
      },
      "execution_count": 90,
      "outputs": []
    },
    {
      "cell_type": "code",
      "source": [
        "learning_rate = 1e-3"
      ],
      "metadata": {
        "id": "aH5oXe9jMF0L"
      },
      "execution_count": 91,
      "outputs": []
    },
    {
      "cell_type": "code",
      "source": [
        "def update_weights(gradients, weights):\n",
        "  \"\"\"\n",
        "  Update all weights with the gradient\n",
        "  Given a weights matrix, learning rate and gradient computes new weights \n",
        "  \"\"\"\n",
        "  for g,w in zip(gradients, weights):\n",
        "    w.assign_sub(g*learning_rate) #assing_sub is += for matrix "
      ],
      "metadata": {
        "id": "dcfKxmLYMNq8"
      },
      "execution_count": 92,
      "outputs": []
    },
    {
      "cell_type": "code",
      "source": [
        ""
      ],
      "metadata": {
        "id": "-TDE53JXA2wh"
      },
      "execution_count": 92,
      "outputs": []
    },
    {
      "cell_type": "code",
      "source": [
        "def fit(model, images, labels, epochs, batch_size = 128):\n",
        "  \"\"\"\n",
        "  Fit the model to train data.\n",
        "  \"\"\"\n",
        "  for epoch_couter in range(epochs): \n",
        "    print(f\"Epoch {epoch_couter}\")\n",
        "    batch_generator = BatchGenerator(images,labels) #Segment the data \n",
        "    for batch_couter in range(batch_generator.num_batches): \n",
        "      images_batch, labels_batch = batch_generator.next()   #Take one batch of data\n",
        "      loss = one_training_step(model, images_batch, labels_batch) #Train model on batch \n",
        "      if batch_couter % 100 == 0:\n",
        "        print(f\"loss at batch {batch_couter}: {loss:.2f}\")"
      ],
      "metadata": {
        "id": "u0uB892bMZlh"
      },
      "execution_count": 93,
      "outputs": []
    },
    {
      "cell_type": "code",
      "source": [
        "#Import dataset\n",
        "train, test = tf.keras.datasets.mnist.load_data(\n",
        "    path='mnist.npz'\n",
        ")"
      ],
      "metadata": {
        "id": "3oKPQSJoNeji"
      },
      "execution_count": 94,
      "outputs": []
    },
    {
      "cell_type": "code",
      "source": [
        "(train_images, train_labels) = train\n",
        "(test_images, test_labels) = test"
      ],
      "metadata": {
        "id": "IISLYq-VPcDI"
      },
      "execution_count": 95,
      "outputs": []
    },
    {
      "cell_type": "code",
      "source": [
        "#Reshape from matrix to a vector and conver to float\n",
        "train_images = train_images.reshape((60000, 28 * 28))\n",
        "train_images = train_images.astype(\"float32\") / 255\n",
        "test_images = test_images.reshape((10000, 28 * 28))\n",
        "test_images = test_images.astype(\"float32\") / 255"
      ],
      "metadata": {
        "id": "whFuyl33PiNw"
      },
      "execution_count": 96,
      "outputs": []
    },
    {
      "cell_type": "code",
      "source": [
        "#Train the model\n",
        "fit(model, train_images, train_labels, epochs=10, batch_size=128)"
      ],
      "metadata": {
        "colab": {
          "base_uri": "https://localhost:8080/"
        },
        "id": "hbZShBofQMU2",
        "outputId": "4ee4ea7f-f8b2-4351-8d0f-12caebb6a3d9"
      },
      "execution_count": 97,
      "outputs": [
        {
          "output_type": "stream",
          "name": "stdout",
          "text": [
            "Epoch 0\n",
            "loss at batch 0: 3.81\n",
            "loss at batch 100: 2.24\n",
            "loss at batch 200: 2.21\n",
            "loss at batch 300: 2.10\n",
            "loss at batch 400: 2.18\n",
            "Epoch 1\n",
            "loss at batch 0: 1.92\n",
            "loss at batch 100: 1.87\n",
            "loss at batch 200: 1.83\n",
            "loss at batch 300: 1.71\n",
            "loss at batch 400: 1.78\n",
            "Epoch 2\n",
            "loss at batch 0: 1.59\n",
            "loss at batch 100: 1.57\n",
            "loss at batch 200: 1.51\n",
            "loss at batch 300: 1.43\n",
            "loss at batch 400: 1.47\n",
            "Epoch 3\n",
            "loss at batch 0: 1.33\n",
            "loss at batch 100: 1.33\n",
            "loss at batch 200: 1.24\n",
            "loss at batch 300: 1.21\n",
            "loss at batch 400: 1.25\n",
            "Epoch 4\n",
            "loss at batch 0: 1.13\n",
            "loss at batch 100: 1.15\n",
            "loss at batch 200: 1.05\n",
            "loss at batch 300: 1.05\n",
            "loss at batch 400: 1.09\n",
            "Epoch 5\n",
            "loss at batch 0: 0.99\n",
            "loss at batch 100: 1.01\n",
            "loss at batch 200: 0.91\n",
            "loss at batch 300: 0.93\n",
            "loss at batch 400: 0.97\n",
            "Epoch 6\n",
            "loss at batch 0: 0.88\n",
            "loss at batch 100: 0.90\n",
            "loss at batch 200: 0.81\n",
            "loss at batch 300: 0.84\n",
            "loss at batch 400: 0.89\n",
            "Epoch 7\n",
            "loss at batch 0: 0.80\n",
            "loss at batch 100: 0.82\n",
            "loss at batch 200: 0.73\n",
            "loss at batch 300: 0.77\n",
            "loss at batch 400: 0.82\n",
            "Epoch 8\n",
            "loss at batch 0: 0.73\n",
            "loss at batch 100: 0.75\n",
            "loss at batch 200: 0.67\n",
            "loss at batch 300: 0.72\n",
            "loss at batch 400: 0.77\n",
            "Epoch 9\n",
            "loss at batch 0: 0.68\n",
            "loss at batch 100: 0.70\n",
            "loss at batch 200: 0.62\n",
            "loss at batch 300: 0.67\n",
            "loss at batch 400: 0.73\n"
          ]
        }
      ]
    },
    {
      "cell_type": "code",
      "source": [
        "#Make predictions and compare vs real cat\n",
        "import numpy as np\n",
        "predictions = model(test_images)\n",
        "predictions = predictions.numpy()\n",
        "predicted_labels = np.argmax(predictions, axis=1)\n",
        "matches = predicted_labels == test_labels\n",
        "print(f\"accuracy: {matches.mean():.2f}\")"
      ],
      "metadata": {
        "colab": {
          "base_uri": "https://localhost:8080/"
        },
        "id": "awd8UcLJQOEQ",
        "outputId": "43d2793f-286c-47d7-d239-ffc15a8d44df"
      },
      "execution_count": 98,
      "outputs": [
        {
          "output_type": "stream",
          "name": "stdout",
          "text": [
            "accuracy: 0.81\n"
          ]
        }
      ]
    }
  ]
}