{
  "nbformat": 4,
  "nbformat_minor": 0,
  "metadata": {
    "colab": {
      "name": "Bin_class_neural_net_ex",
      "provenance": [],
      "collapsed_sections": [],
      "include_colab_link": true
    },
    "kernelspec": {
      "name": "python3",
      "display_name": "Python 3"
    }
  },
  "cells": [
    {
      "cell_type": "markdown",
      "metadata": {
        "id": "view-in-github",
        "colab_type": "text"
      },
      "source": [
        "<a href=\"https://colab.research.google.com/github/jonitorta/Ejercicios_Machine_learning./blob/main/Bin_class_neural_net_ex.ipynb\" target=\"_parent\"><img src=\"https://colab.research.google.com/assets/colab-badge.svg\" alt=\"Open In Colab\"/></a>"
      ]
    },
    {
      "cell_type": "markdown",
      "source": [
        "### Movies opinion classifier.\n",
        "In this notebook I'll implement an opinion classifier based on neural nets.\n",
        "It's just for understanding Keras so data is already preprocessed."
      ],
      "metadata": {
        "id": "Y3b3rDaVsMRm"
      }
    },
    {
      "cell_type": "code",
      "metadata": {
        "id": "Ba4rqvDKrHy6",
        "colab": {
          "base_uri": "https://localhost:8080/"
        },
        "outputId": "107e4389-fcd8-4f68-ff68-07e5651e94c6"
      },
      "source": [
        "#Import useful libraries\n",
        "import sys\n",
        "import numpy as np\n",
        "import pandas as pd\n",
        "import matplotlib.pyplot as plt\n",
        "\n",
        "from tensorflow.keras.datasets import imdb\n",
        "from tensorflow import keras\n",
        "from datetime import date\n",
        "from keras import layers\n",
        "\n",
        "print(f\"Python version:\\n{sys.version}\")\n",
        "print(f\"numpy version: {np.__version__}\")\n",
        "print(f\"Keras version: {keras.__version__}\")\n",
        "print(f\"Date of last run: {date.today()}\")"
      ],
      "execution_count": 75,
      "outputs": [
        {
          "output_type": "stream",
          "name": "stdout",
          "text": [
            "Python version:\n",
            "3.7.13 (default, Apr 24 2022, 01:04:09) \n",
            "[GCC 7.5.0]\n",
            "numpy version: 1.21.6\n",
            "Keras version: 2.8.0\n",
            "Date of last run: 2022-07-18\n"
          ]
        }
      ]
    },
    {
      "cell_type": "code",
      "metadata": {
        "id": "t4exRNtUtU9i",
        "colab": {
          "base_uri": "https://localhost:8080/"
        },
        "outputId": "d47aad5c-cad8-4db6-d7e5-1b86cc2eb1a7"
      },
      "source": [
        "(train_data, train_labels) , (test_data, test_labels) = imdb.load_data(\n",
        "    num_words = 10000\n",
        ")"
      ],
      "execution_count": 16,
      "outputs": [
        {
          "output_type": "stream",
          "name": "stdout",
          "text": [
            "Downloading data from https://storage.googleapis.com/tensorflow/tf-keras-datasets/imdb.npz\n",
            "17465344/17464789 [==============================] - 0s 0us/step\n",
            "17473536/17464789 [==============================] - 0s 0us/step\n"
          ]
        }
      ]
    },
    {
      "cell_type": "code",
      "metadata": {
        "id": "uA54hYKFuchk",
        "colab": {
          "base_uri": "https://localhost:8080/"
        },
        "outputId": "ba29b857-4bf0-4b10-cbb7-b6ee877e7732"
      },
      "source": [
        "#Each element of a column from train data is an int that represent the number\n",
        "#of times a word appeared in a review\n",
        "print(f\"train data shape: {train_data.shape}\")\n",
        "print(f\"train data overview: {train_data[0][0:10]}\")"
      ],
      "execution_count": 21,
      "outputs": [
        {
          "output_type": "stream",
          "name": "stdout",
          "text": [
            "train data shape: (25000,)\n",
            "train data overview: [1, 14, 22, 16, 43, 530, 973, 1622, 1385, 65]\n"
          ]
        }
      ]
    },
    {
      "cell_type": "code",
      "source": [
        "#Check labels\n",
        "print(f\"train_labels: {train_labels}\")\n",
        "#np.asarray is used to not create a copy of the element\n",
        "y_train = np.asarray(train_labels).astype(np.float32)\n",
        "y_test = np.asarray(test_labels).astype(np.float32)"
      ],
      "metadata": {
        "colab": {
          "base_uri": "https://localhost:8080/"
        },
        "id": "rFJb7mDnj3rb",
        "outputId": "78f4c4f7-7d25-435d-83b7-5cabd4dc9f43"
      },
      "execution_count": 68,
      "outputs": [
        {
          "output_type": "stream",
          "name": "stdout",
          "text": [
            "train_labels: [1 0 0 ... 0 1 0]\n"
          ]
        }
      ]
    },
    {
      "cell_type": "code",
      "metadata": {
        "id": "e0fyRrFqu1J3",
        "colab": {
          "base_uri": "https://localhost:8080/"
        },
        "outputId": "ae7b9a9c-5987-412c-fac2-c4beb036645c"
      },
      "source": [
        "#Get the word index\n",
        "word_index = imdb.get_word_index()\n",
        "type(word_index)"
      ],
      "execution_count": 43,
      "outputs": [
        {
          "output_type": "execute_result",
          "data": {
            "text/plain": [
              "dict"
            ]
          },
          "metadata": {},
          "execution_count": 43
        }
      ]
    },
    {
      "cell_type": "code",
      "source": [
        "#Let's create a matrix to store the data\n",
        "def matrix_form(data, num_words = 10000):\n",
        "  #Create a matrix of 0's \n",
        "  matrix = np.zeros((len(data),num_words))\n",
        "  #Here we take the index of the review and the vector of words\n",
        "  for i, num_words in enumerate(data):\n",
        "    #Now we iterate over the vector of words, if for example the first\n",
        "    #element of this vector is 200, then this will add 200 to the i,j entry of matrix\n",
        "    for j in num_words:\n",
        "      matrix[i,j] = 1\n",
        "  return matrix "
      ],
      "metadata": {
        "id": "dUAw_aErcYIK"
      },
      "execution_count": 47,
      "outputs": []
    },
    {
      "cell_type": "code",
      "metadata": {
        "id": "xcjmKUrDxgLV"
      },
      "source": [
        "#Let's transform to matrix form\n",
        "X_train = matrix_form(train_data)\n",
        "X_test = matrix_form(test_data)"
      ],
      "execution_count": 48,
      "outputs": []
    },
    {
      "cell_type": "code",
      "metadata": {
        "id": "BczfBAGgxwKg",
        "colab": {
          "base_uri": "https://localhost:8080/"
        },
        "outputId": "411116e0-75d3-40a6-885a-caf92f9c67a5"
      },
      "source": [
        "#Save the words maybe we can use them later\n",
        "words = list(word_index.keys())\n",
        "words[0:6]"
      ],
      "execution_count": 59,
      "outputs": [
        {
          "output_type": "execute_result",
          "data": {
            "text/plain": [
              "['fawn', 'tsukino', 'nunnery', 'sonja', 'vani', 'woods']"
            ]
          },
          "metadata": {},
          "execution_count": 59
        }
      ]
    },
    {
      "cell_type": "code",
      "metadata": {
        "id": "_I-T9oOXyWfu"
      },
      "source": [
        "#Define the architecture, in this case 3 dense(fully conected) layers\n",
        "#The last one is the output so it's just an scalar(1 for good, 0 for bad)\n",
        "#Last activation is sigmoid because we want a number in [0,1]\n",
        "model = keras.Sequential([\n",
        "    layers.Dense(16, activation = \"relu\"),\n",
        "    layers.Dense(16, activation = \"relu\"),\n",
        "    layers.Dense(1, activation=\"sigmoid\")\n",
        "])"
      ],
      "execution_count": 62,
      "outputs": []
    },
    {
      "cell_type": "code",
      "metadata": {
        "id": "O76m7iV1ydhX"
      },
      "source": [
        "#This optimizer is a variation from GD, it uses the sign of the last two gradients\n",
        "#and adapt the size of step based on that\n",
        "#binary entropy is good for classification problems\n",
        "#acurracy if a fine choice since dataset is fairly balanced\n",
        "model.compile(optimizer = \"rmsprop\",\n",
        "              loss = \"binary_crossentropy\",\n",
        "              metrics = [\"accuracy\"])"
      ],
      "execution_count": 63,
      "outputs": []
    },
    {
      "cell_type": "code",
      "metadata": {
        "id": "mC0jwsWWzWxn"
      },
      "source": [
        "#Create a validation set of 5000 elements\n",
        "validation_size = 5000\n",
        "x_val = X_train[:validation_size]\n",
        "part_x_train = X_train[validation_size:]\n",
        "y_val = y_train[:validation_size]\n",
        "part_y_train = y_train[validation_size:]"
      ],
      "execution_count": 71,
      "outputs": []
    },
    {
      "cell_type": "code",
      "metadata": {
        "id": "n8qYy_bAzZ8E",
        "colab": {
          "base_uri": "https://localhost:8080/"
        },
        "outputId": "3bfb8cae-d1e8-48b7-d240-8c3b6b3842e5"
      },
      "source": [
        "#Train the model\n",
        "history = model.fit(part_x_train,\n",
        "                    part_y_train,\n",
        "                    epochs = 20,\n",
        "                    batch_size = 512,\n",
        "                    validation_data = (x_val, y_val))"
      ],
      "execution_count": 73,
      "outputs": [
        {
          "output_type": "stream",
          "name": "stdout",
          "text": [
            "Epoch 1/20\n",
            "40/40 [==============================] - 3s 41ms/step - loss: 0.4948 - accuracy: 0.8046 - val_loss: 0.3672 - val_accuracy: 0.8730\n",
            "Epoch 2/20\n",
            "40/40 [==============================] - 1s 33ms/step - loss: 0.2879 - accuracy: 0.9067 - val_loss: 0.3200 - val_accuracy: 0.8700\n",
            "Epoch 3/20\n",
            "40/40 [==============================] - 1s 31ms/step - loss: 0.2113 - accuracy: 0.9283 - val_loss: 0.2681 - val_accuracy: 0.8936\n",
            "Epoch 4/20\n",
            "40/40 [==============================] - 1s 29ms/step - loss: 0.1718 - accuracy: 0.9413 - val_loss: 0.2866 - val_accuracy: 0.8854\n",
            "Epoch 5/20\n",
            "40/40 [==============================] - 1s 29ms/step - loss: 0.1464 - accuracy: 0.9503 - val_loss: 0.2804 - val_accuracy: 0.8904\n",
            "Epoch 6/20\n",
            "40/40 [==============================] - 1s 37ms/step - loss: 0.1227 - accuracy: 0.9596 - val_loss: 0.2970 - val_accuracy: 0.8894\n",
            "Epoch 7/20\n",
            "40/40 [==============================] - 2s 38ms/step - loss: 0.1073 - accuracy: 0.9657 - val_loss: 0.3149 - val_accuracy: 0.8862\n",
            "Epoch 8/20\n",
            "40/40 [==============================] - 1s 30ms/step - loss: 0.0933 - accuracy: 0.9699 - val_loss: 0.3365 - val_accuracy: 0.8830\n",
            "Epoch 9/20\n",
            "40/40 [==============================] - 1s 31ms/step - loss: 0.0786 - accuracy: 0.9761 - val_loss: 0.3550 - val_accuracy: 0.8830\n",
            "Epoch 10/20\n",
            "40/40 [==============================] - 1s 30ms/step - loss: 0.0679 - accuracy: 0.9799 - val_loss: 0.3770 - val_accuracy: 0.8822\n",
            "Epoch 11/20\n",
            "40/40 [==============================] - 1s 29ms/step - loss: 0.0573 - accuracy: 0.9835 - val_loss: 0.4196 - val_accuracy: 0.8734\n",
            "Epoch 12/20\n",
            "40/40 [==============================] - 1s 36ms/step - loss: 0.0481 - accuracy: 0.9876 - val_loss: 0.4725 - val_accuracy: 0.8676\n",
            "Epoch 13/20\n",
            "40/40 [==============================] - 2s 38ms/step - loss: 0.0395 - accuracy: 0.9900 - val_loss: 0.4652 - val_accuracy: 0.8724\n",
            "Epoch 14/20\n",
            "40/40 [==============================] - 1s 33ms/step - loss: 0.0335 - accuracy: 0.9919 - val_loss: 0.5037 - val_accuracy: 0.8708\n",
            "Epoch 15/20\n",
            "40/40 [==============================] - 1s 30ms/step - loss: 0.0270 - accuracy: 0.9933 - val_loss: 0.5299 - val_accuracy: 0.8726\n",
            "Epoch 16/20\n",
            "40/40 [==============================] - 1s 34ms/step - loss: 0.0224 - accuracy: 0.9955 - val_loss: 0.6689 - val_accuracy: 0.8574\n",
            "Epoch 17/20\n",
            "40/40 [==============================] - 2s 39ms/step - loss: 0.0181 - accuracy: 0.9960 - val_loss: 0.6004 - val_accuracy: 0.8674\n",
            "Epoch 18/20\n",
            "40/40 [==============================] - 1s 37ms/step - loss: 0.0147 - accuracy: 0.9973 - val_loss: 0.6257 - val_accuracy: 0.8700\n",
            "Epoch 19/20\n",
            "40/40 [==============================] - 2s 38ms/step - loss: 0.0122 - accuracy: 0.9978 - val_loss: 0.6663 - val_accuracy: 0.8704\n",
            "Epoch 20/20\n",
            "40/40 [==============================] - 1s 36ms/step - loss: 0.0114 - accuracy: 0.9972 - val_loss: 0.6977 - val_accuracy: 0.8712\n"
          ]
        }
      ]
    },
    {
      "cell_type": "code",
      "metadata": {
        "id": "YNZvCMvo4U7x",
        "colab": {
          "base_uri": "https://localhost:8080/"
        },
        "outputId": "4521911a-e465-4a72-f474-09272dd7e5c2"
      },
      "source": [
        "#Here we have the scores \n",
        "history_dic = history.history\n",
        "history_dic.keys()"
      ],
      "execution_count": 74,
      "outputs": [
        {
          "output_type": "execute_result",
          "data": {
            "text/plain": [
              "dict_keys(['loss', 'accuracy', 'val_loss', 'val_accuracy'])"
            ]
          },
          "metadata": {},
          "execution_count": 74
        }
      ]
    },
    {
      "cell_type": "code",
      "metadata": {
        "id": "CRHNgEMX5WMO"
      },
      "source": [
        "#Save this values to plot\n",
        "loss = history_dic[\"loss\"]\n",
        "val_loss = history_dic[\"val_loss\"]\n",
        "accuracy = history_dic[\"accuracy\"]\n",
        "val_accuracy = history_dic[\"val_accuracy\"]\n",
        "epochs = range(22)"
      ],
      "execution_count": 77,
      "outputs": []
    },
    {
      "cell_type": "code",
      "source": [
        "#We can se our model is bad, every epoch the loss in validation\n",
        "#set increases so the model is overfitting \n",
        "plt.plot(epochs,loss, \"bo\", label = \"Training loss\")\n",
        "plt.plot(epochs, val_loss, \"b\", label = \"Validation loss\")\n",
        "plt.legend()\n",
        "plt.show()"
      ],
      "metadata": {
        "colab": {
          "base_uri": "https://localhost:8080/",
          "height": 265
        },
        "id": "B5I9oXpdmRpy",
        "outputId": "b536bc66-33ba-4be1-fa2b-703d3895734f"
      },
      "execution_count": 83,
      "outputs": [
        {
          "output_type": "display_data",
          "data": {
            "text/plain": [
              "<Figure size 432x288 with 1 Axes>"
            ],
            "image/png": "[encoded data removed]"
          },
          "metadata": {
            "needs_background": "light"
          }
        }
      ]
    },
    {
      "cell_type": "code",
      "source": [
        "plt.plot(epochs, accuracy, \"bo\", label = \"Training acc\")\n",
        "plt.plot(epochs, val_accuracy, \"b\", label = \"Validation acc\")\n",
        "plt.legend()\n",
        "plt.show()"
      ],
      "metadata": {
        "colab": {
          "base_uri": "https://localhost:8080/",
          "height": 265
        },
        "id": "W5S_vM2Jmpun",
        "outputId": "0f0463f2-7c67-4e7f-ca48-5e4110d361f6"
      },
      "execution_count": 85,
      "outputs": [
        {
          "output_type": "display_data",
          "data": {
            "text/plain": [
              "<Figure size 432x288 with 1 Axes>"
            ],
            "image/png": "[encoded data removed]"
          },
          "metadata": {
            "needs_background": "light"
          }
        }
      ]
    },
    {
      "cell_type": "code",
      "source": [
        ""
      ],
      "metadata": {
        "id": "ZoSbo9QwoDJ8"
      },
      "execution_count": null,
      "outputs": []
    }
  ]
}