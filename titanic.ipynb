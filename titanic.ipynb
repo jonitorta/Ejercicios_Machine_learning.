{
  "metadata": {
    "kernelspec": {
      "language": "python",
      "display_name": "Python 3",
      "name": "python3"
    },
    "language_info": {
      "name": "python",
      "version": "3.7.12",
      "mimetype": "text/x-python",
      "codemirror_mode": {
        "name": "ipython",
        "version": 3
      },
      "pygments_lexer": "ipython3",
      "nbconvert_exporter": "python",
      "file_extension": ".py"
    },
    "colab": {
      "name": "titanic.ipynb",
      "provenance": [],
      "include_colab_link": true
    }
  },
  "nbformat_minor": 0,
  "nbformat": 4,
  "cells": [
    {
      "cell_type": "markdown",
      "metadata": {
        "id": "view-in-github",
        "colab_type": "text"
      },
      "source": [
        "<a href=\"https://colab.research.google.com/github/jonitorta/Ejercicios_Machine_learning./blob/main/titanic.ipynb\" target=\"_parent\"><img src=\"https://colab.research.google.com/assets/colab-badge.svg\" alt=\"Open In Colab\"/></a>"
      ]
    },
    {
      "cell_type": "code",
      "source": [
        "#Main libraries to analysis and visualizations\n",
        "import pandas as pd \n",
        "import numpy as np \n",
        "import matplotlib.pyplot as plt\n",
        "import seaborn as sns\n",
        "\n",
        "#--------------------------------------------------------\n",
        "from sklearn.base import BaseEstimator, TransformerMixin\n",
        "from sklearn.pipeline import Pipeline\n",
        "from sklearn.preprocessing import StandardScaler\n",
        "from sklearn.ensemble import RandomForestClassifier\n",
        "from sklearn.metrics import confusion_matrix\n",
        "from sklearn.model_selection import cross_val_predict\n",
        "from sklearn.compose import ColumnTransformer \n",
        "from sklearn.preprocessing import OneHotEncoder\n",
        "from sklearn.model_selection import RandomizedSearchCV"
      ],
      "metadata": {
        "id": "aY2kifMqullc",
        "execution": {
          "iopub.status.busy": "2022-06-29T14:57:57.680973Z",
          "iopub.execute_input": "2022-06-29T14:57:57.681606Z",
          "iopub.status.idle": "2022-06-29T14:57:57.690549Z",
          "shell.execute_reply.started": "2022-06-29T14:57:57.681561Z",
          "shell.execute_reply": "2022-06-29T14:57:57.689244Z"
        },
        "trusted": true
      },
      "execution_count": null,
      "outputs": []
    },
    {
      "cell_type": "code",
      "source": [
        "import os\n",
        "for dirname, _, filenames in os.walk('/kaggle/input'):\n",
        "    for filename in filenames:\n",
        "        print(os.path.join(dirname, filename))"
      ],
      "metadata": {
        "execution": {
          "iopub.status.busy": "2022-06-29T12:15:51.126166Z",
          "iopub.execute_input": "2022-06-29T12:15:51.127101Z",
          "iopub.status.idle": "2022-06-29T12:15:51.136719Z",
          "shell.execute_reply.started": "2022-06-29T12:15:51.127059Z",
          "shell.execute_reply": "2022-06-29T12:15:51.134873Z"
        },
        "trusted": true,
        "id": "0ZrHs2p0DKvP"
      },
      "execution_count": null,
      "outputs": []
    },
    {
      "cell_type": "code",
      "source": [
        "train_path = \"/kaggle/input/titanic/train.csv\"\n",
        "test_path = \"/kaggle/input/titanic/test.csv\""
      ],
      "metadata": {
        "execution": {
          "iopub.status.busy": "2022-06-29T12:40:44.870168Z",
          "iopub.execute_input": "2022-06-29T12:40:44.870641Z",
          "iopub.status.idle": "2022-06-29T12:40:44.876763Z",
          "shell.execute_reply.started": "2022-06-29T12:40:44.870606Z",
          "shell.execute_reply": "2022-06-29T12:40:44.875507Z"
        },
        "trusted": true,
        "id": "RXCqtTwEDKvQ"
      },
      "execution_count": null,
      "outputs": []
    },
    {
      "cell_type": "code",
      "source": [
        "train_df = pd.read_csv(train_path)\n",
        "test_df = pd.read_csv(test_path)\n",
        "print(f\"train size :{train_df.shape} \\ntest size : {test_df.shape}\")"
      ],
      "metadata": {
        "execution": {
          "iopub.status.busy": "2022-06-29T12:40:45.546585Z",
          "iopub.execute_input": "2022-06-29T12:40:45.547178Z",
          "iopub.status.idle": "2022-06-29T12:40:45.573756Z",
          "shell.execute_reply.started": "2022-06-29T12:40:45.547129Z",
          "shell.execute_reply": "2022-06-29T12:40:45.572228Z"
        },
        "trusted": true,
        "id": "mpDqKzNGDKvR"
      },
      "execution_count": null,
      "outputs": []
    },
    {
      "cell_type": "code",
      "source": [
        "train_df.columns"
      ],
      "metadata": {
        "execution": {
          "iopub.status.busy": "2022-06-29T12:06:41.935366Z",
          "iopub.execute_input": "2022-06-29T12:06:41.935769Z",
          "iopub.status.idle": "2022-06-29T12:06:41.947007Z",
          "shell.execute_reply.started": "2022-06-29T12:06:41.935727Z",
          "shell.execute_reply": "2022-06-29T12:06:41.945238Z"
        },
        "trusted": true,
        "id": "04jSAKlYDKvR"
      },
      "execution_count": null,
      "outputs": []
    },
    {
      "cell_type": "code",
      "source": [
        "train_df.info()\n",
        "print(\"--------------------------------------------------------------\")\n",
        "test_df.info()"
      ],
      "metadata": {
        "execution": {
          "iopub.status.busy": "2022-06-29T12:15:56.551583Z",
          "iopub.execute_input": "2022-06-29T12:15:56.552075Z",
          "iopub.status.idle": "2022-06-29T12:15:56.576624Z",
          "shell.execute_reply.started": "2022-06-29T12:15:56.552036Z",
          "shell.execute_reply": "2022-06-29T12:15:56.575289Z"
        },
        "trusted": true,
        "id": "V40gCZdeDKvS"
      },
      "execution_count": null,
      "outputs": []
    },
    {
      "cell_type": "code",
      "source": [
        "train_df.head()"
      ],
      "metadata": {
        "execution": {
          "iopub.status.busy": "2022-06-29T12:06:42.998017Z",
          "iopub.execute_input": "2022-06-29T12:06:42.999608Z",
          "iopub.status.idle": "2022-06-29T12:06:43.033502Z",
          "shell.execute_reply.started": "2022-06-29T12:06:42.999534Z",
          "shell.execute_reply": "2022-06-29T12:06:43.032138Z"
        },
        "trusted": true,
        "id": "TZi4OBmeDKvS"
      },
      "execution_count": null,
      "outputs": []
    },
    {
      "cell_type": "code",
      "source": [
        "#38% of survival rate in general\n",
        "#75% of passagers were in pclass = 3(lowest)\n",
        "#Most people between 20 to 40 years\n",
        "#A lot of passagers were alone just 25% with one or more sib/spouce and less than 25% with \n",
        "#one or more children and/or parent\n",
        "#Fare has some high outliers.\n",
        "train_df.describe()"
      ],
      "metadata": {
        "execution": {
          "iopub.status.busy": "2022-06-29T12:06:43.388505Z",
          "iopub.execute_input": "2022-06-29T12:06:43.389199Z",
          "iopub.status.idle": "2022-06-29T12:06:43.435537Z",
          "shell.execute_reply.started": "2022-06-29T12:06:43.389161Z",
          "shell.execute_reply": "2022-06-29T12:06:43.434441Z"
        },
        "trusted": true,
        "id": "74IjGQeyDKvS"
      },
      "execution_count": null,
      "outputs": []
    },
    {
      "cell_type": "code",
      "source": [
        "#All names are unique\n",
        "#Some tikets are duplicated\n",
        "#A lot of duplication in cabin\n",
        "#3 differen ports\n",
        "train_df.describe(include=[\"O\"])"
      ],
      "metadata": {
        "execution": {
          "iopub.status.busy": "2022-06-29T12:06:43.870640Z",
          "iopub.execute_input": "2022-06-29T12:06:43.871452Z",
          "iopub.status.idle": "2022-06-29T12:06:43.898581Z",
          "shell.execute_reply.started": "2022-06-29T12:06:43.871412Z",
          "shell.execute_reply": "2022-06-29T12:06:43.897582Z"
        },
        "trusted": true,
        "id": "pn0KABV_DKvT"
      },
      "execution_count": null,
      "outputs": []
    },
    {
      "cell_type": "code",
      "source": [
        "#Lets do some data exploration and visualization\n",
        "train_df.hist(figsize = (10,10))\n",
        "plt.show()"
      ],
      "metadata": {
        "execution": {
          "iopub.status.busy": "2022-06-29T12:06:44.278929Z",
          "iopub.execute_input": "2022-06-29T12:06:44.279870Z",
          "iopub.status.idle": "2022-06-29T12:06:45.310777Z",
          "shell.execute_reply.started": "2022-06-29T12:06:44.279813Z",
          "shell.execute_reply": "2022-06-29T12:06:45.309905Z"
        },
        "trusted": true,
        "id": "WhHIv52iDKvT"
      },
      "execution_count": null,
      "outputs": []
    },
    {
      "cell_type": "code",
      "source": [
        "#Check survival rate with some parameters\n",
        "#-> Sex, Pclass, Sibs, Age, \n",
        "train_df.columns"
      ],
      "metadata": {
        "execution": {
          "iopub.status.busy": "2022-06-29T12:06:45.312409Z",
          "iopub.execute_input": "2022-06-29T12:06:45.313109Z",
          "iopub.status.idle": "2022-06-29T12:06:45.319140Z",
          "shell.execute_reply.started": "2022-06-29T12:06:45.313077Z",
          "shell.execute_reply": "2022-06-29T12:06:45.318298Z"
        },
        "trusted": true,
        "id": "r0yyke90DKvU"
      },
      "execution_count": null,
      "outputs": []
    },
    {
      "cell_type": "code",
      "source": [
        "def survival_rate_per_attribute(name):\n",
        "    #Given a column check survival rate vs values in column\n",
        "    df = train_df[[name, \"Survived\"]].groupby(name, as_index= False).mean().sort_values(by = \"Survived\", ascending = False)\n",
        "    return df "
      ],
      "metadata": {
        "execution": {
          "iopub.status.busy": "2022-06-29T12:06:45.320865Z",
          "iopub.execute_input": "2022-06-29T12:06:45.321356Z",
          "iopub.status.idle": "2022-06-29T12:06:45.333279Z",
          "shell.execute_reply.started": "2022-06-29T12:06:45.321325Z",
          "shell.execute_reply": "2022-06-29T12:06:45.332215Z"
        },
        "trusted": true,
        "id": "vGHR5mVdDKvU"
      },
      "execution_count": null,
      "outputs": []
    },
    {
      "cell_type": "code",
      "source": [
        "#High class more survival rate\n",
        "survival_rate_per_attribute(\"Pclass\")"
      ],
      "metadata": {
        "execution": {
          "iopub.status.busy": "2022-06-29T12:06:45.610695Z",
          "iopub.execute_input": "2022-06-29T12:06:45.611387Z",
          "iopub.status.idle": "2022-06-29T12:06:45.628140Z",
          "shell.execute_reply.started": "2022-06-29T12:06:45.611353Z",
          "shell.execute_reply": "2022-06-29T12:06:45.627344Z"
        },
        "trusted": true,
        "id": "959qsXsZDKvU"
      },
      "execution_count": null,
      "outputs": []
    },
    {
      "cell_type": "code",
      "source": [
        "#Female survival rate is higher than men\n",
        "survival_rate_per_attribute(\"Sex\")"
      ],
      "metadata": {
        "execution": {
          "iopub.status.busy": "2022-06-29T12:06:46.280068Z",
          "iopub.execute_input": "2022-06-29T12:06:46.280581Z",
          "iopub.status.idle": "2022-06-29T12:06:46.308279Z",
          "shell.execute_reply.started": "2022-06-29T12:06:46.280538Z",
          "shell.execute_reply": "2022-06-29T12:06:46.307222Z"
        },
        "trusted": true,
        "id": "MQ1fgsyxDKvV"
      },
      "execution_count": null,
      "outputs": []
    },
    {
      "cell_type": "code",
      "source": [
        "#Lets create interval for age and see survival rate per interval \n",
        "train_df[\"Age\"].hist()\n",
        "plt.show()"
      ],
      "metadata": {
        "execution": {
          "iopub.status.busy": "2022-06-29T12:06:46.699640Z",
          "iopub.execute_input": "2022-06-29T12:06:46.700424Z",
          "iopub.status.idle": "2022-06-29T12:06:46.919118Z",
          "shell.execute_reply.started": "2022-06-29T12:06:46.700378Z",
          "shell.execute_reply": "2022-06-29T12:06:46.917396Z"
        },
        "trusted": true,
        "id": "s7Dc-nUyDKvV"
      },
      "execution_count": null,
      "outputs": []
    },
    {
      "cell_type": "code",
      "source": [
        "Ages = train_df[\"Age\"]\n",
        "train_df[\"Age_cat\"] = pd.cut(Ages, \n",
        "                 bins = [0.0,15.0,50.0,100],\n",
        "                labels = [0,1,2])"
      ],
      "metadata": {
        "execution": {
          "iopub.status.busy": "2022-06-29T12:06:47.138168Z",
          "iopub.execute_input": "2022-06-29T12:06:47.139551Z",
          "iopub.status.idle": "2022-06-29T12:06:47.153683Z",
          "shell.execute_reply.started": "2022-06-29T12:06:47.139496Z",
          "shell.execute_reply": "2022-06-29T12:06:47.152231Z"
        },
        "trusted": true,
        "id": "-KVTfbd_DKvV"
      },
      "execution_count": null,
      "outputs": []
    },
    {
      "cell_type": "code",
      "source": [
        "#People below 15 years had a high survival rate (>55%)\n",
        "survival_rate_per_attribute(\"Age_cat\")"
      ],
      "metadata": {
        "execution": {
          "iopub.status.busy": "2022-06-29T12:06:47.633852Z",
          "iopub.execute_input": "2022-06-29T12:06:47.635242Z",
          "iopub.status.idle": "2022-06-29T12:06:47.660131Z",
          "shell.execute_reply.started": "2022-06-29T12:06:47.635195Z",
          "shell.execute_reply": "2022-06-29T12:06:47.659189Z"
        },
        "trusted": true,
        "id": "qSVGUSO2DKvV"
      },
      "execution_count": null,
      "outputs": []
    },
    {
      "cell_type": "code",
      "source": [
        "train_df.drop(\"Age_cat\", axis = 1, inplace = True)"
      ],
      "metadata": {
        "execution": {
          "iopub.status.busy": "2022-06-29T12:06:48.097221Z",
          "iopub.execute_input": "2022-06-29T12:06:48.098279Z",
          "iopub.status.idle": "2022-06-29T12:06:48.105847Z",
          "shell.execute_reply.started": "2022-06-29T12:06:48.098236Z",
          "shell.execute_reply": "2022-06-29T12:06:48.104238Z"
        },
        "trusted": true,
        "id": "Dk5RHMTiDKvW"
      },
      "execution_count": null,
      "outputs": []
    },
    {
      "cell_type": "code",
      "source": [
        "#People with family seems to have higher chance to survive.\n",
        "family_num = train_df[\"SibSp\"] + train_df[\"Parch\"] \n",
        "l = []\n",
        "for num in family_num : \n",
        "    if num > 0 :\n",
        "        l.append(1)\n",
        "    else : \n",
        "        l.append(0)\n",
        "train_df[\"Family\"] = l\n",
        "survival_rate_per_attribute(\"Family\")"
      ],
      "metadata": {
        "execution": {
          "iopub.status.busy": "2022-06-29T12:06:48.586609Z",
          "iopub.execute_input": "2022-06-29T12:06:48.588665Z",
          "iopub.status.idle": "2022-06-29T12:06:48.617033Z",
          "shell.execute_reply.started": "2022-06-29T12:06:48.588585Z",
          "shell.execute_reply": "2022-06-29T12:06:48.615009Z"
        },
        "trusted": true,
        "id": "eQaCPqeFDKvW"
      },
      "execution_count": null,
      "outputs": []
    },
    {
      "cell_type": "code",
      "source": [
        "train_df.drop(\"Family\", axis = 1, inplace = True)"
      ],
      "metadata": {
        "execution": {
          "iopub.status.busy": "2022-06-29T12:06:49.118776Z",
          "iopub.execute_input": "2022-06-29T12:06:49.119475Z",
          "iopub.status.idle": "2022-06-29T12:06:49.127117Z",
          "shell.execute_reply.started": "2022-06-29T12:06:49.119437Z",
          "shell.execute_reply": "2022-06-29T12:06:49.125730Z"
        },
        "trusted": true,
        "id": "MOADLwieDKvW"
      },
      "execution_count": null,
      "outputs": []
    },
    {
      "cell_type": "code",
      "source": [
        "#Embarked seems important\n",
        "survival_rate_per_attribute(\"Embarked\")"
      ],
      "metadata": {
        "execution": {
          "iopub.status.busy": "2022-06-29T12:06:49.508256Z",
          "iopub.execute_input": "2022-06-29T12:06:49.508843Z",
          "iopub.status.idle": "2022-06-29T12:06:49.529221Z",
          "shell.execute_reply.started": "2022-06-29T12:06:49.508810Z",
          "shell.execute_reply": "2022-06-29T12:06:49.527578Z"
        },
        "trusted": true,
        "id": "LAdLVOzRDKvX"
      },
      "execution_count": null,
      "outputs": []
    },
    {
      "cell_type": "code",
      "source": [
        "train_df[\"Fare\"].hist()\n",
        "plt.show()"
      ],
      "metadata": {
        "execution": {
          "iopub.status.busy": "2022-06-29T12:06:49.925696Z",
          "iopub.execute_input": "2022-06-29T12:06:49.926716Z",
          "iopub.status.idle": "2022-06-29T12:06:50.097788Z",
          "shell.execute_reply.started": "2022-06-29T12:06:49.926676Z",
          "shell.execute_reply": "2022-06-29T12:06:50.096363Z"
        },
        "trusted": true,
        "id": "QNrOGcfFDKvX"
      },
      "execution_count": null,
      "outputs": []
    },
    {
      "cell_type": "code",
      "source": [
        "#Create a fare range\n",
        "train_df[\"Fare_range\"] = pd.cut(\n",
        "    train_df[\"Fare\"],\n",
        "    [0.0,100.0,200.0,np.inf],\n",
        "    labels = [1,2,3]\n",
        ")\n",
        "#High fare is more likely to survive.\n",
        "survival_rate_per_attribute(\"Fare_range\")"
      ],
      "metadata": {
        "execution": {
          "iopub.status.busy": "2022-06-29T12:06:50.452762Z",
          "iopub.execute_input": "2022-06-29T12:06:50.453163Z",
          "iopub.status.idle": "2022-06-29T12:06:50.471337Z",
          "shell.execute_reply.started": "2022-06-29T12:06:50.453114Z",
          "shell.execute_reply": "2022-06-29T12:06:50.470514Z"
        },
        "trusted": true,
        "id": "qhssifokDKvX"
      },
      "execution_count": null,
      "outputs": []
    },
    {
      "cell_type": "code",
      "source": [
        "train_df.drop(\"Fare_range\", axis = 1, inplace = True)"
      ],
      "metadata": {
        "execution": {
          "iopub.status.busy": "2022-06-29T12:06:50.968418Z",
          "iopub.execute_input": "2022-06-29T12:06:50.969637Z",
          "iopub.status.idle": "2022-06-29T12:06:50.977211Z",
          "shell.execute_reply.started": "2022-06-29T12:06:50.969594Z",
          "shell.execute_reply": "2022-06-29T12:06:50.975503Z"
        },
        "trusted": true,
        "id": "nxvna9qADKvX"
      },
      "execution_count": null,
      "outputs": []
    },
    {
      "cell_type": "code",
      "source": [
        "labels = train_df[\"Survived\"]\n",
        "train_df = train_df.drop(\"Survived\", axis = 1)\n",
        "train_df[\"Embarked\"].fillna(train_df[\"Embarked\"][0], inplace = True)"
      ],
      "metadata": {
        "id": "uJA5XTG5DKvY"
      },
      "execution_count": null,
      "outputs": []
    },
    {
      "cell_type": "code",
      "source": [
        "class BasicAdder(TransformerMixin, BaseEstimator):\n",
        "    \n",
        "    def __init__(self, add_family = False, fare_interval = False, age_interval = False, binary_sex = False, fill_age = False, fill_fare = False, cat_embarked = False):\n",
        "        self.add_family = add_family\n",
        "        self.fare_interval = fare_interval\n",
        "        self.age_interval = age_interval\n",
        "        self.binary_sex = binary_sex\n",
        "        self.fill_age = fill_age\n",
        "        self.fill_fare = fill_fare\n",
        "        self.cat_embarked = cat_embarked\n",
        "    \n",
        "    def fit(self, X, y = None):\n",
        "        return self\n",
        "    \n",
        "    def transform(self, DF, y = None):\n",
        "        X = DF.copy()\n",
        "        \n",
        "        if self.fill_fare :\n",
        "            mean = X[\"Fare\"].mean()\n",
        "            X[\"Fare\"].fillna(mean, inplace = True)\n",
        "        \n",
        "        if self.age_interval :\n",
        "            X[\"Age_interval\"] = pd.cut(X[\"Age\"],\n",
        "                                       bins = [0.0,15.0,50.0,100],\n",
        "                                       labels = [0,1,2])\n",
        "            \n",
        "        if self.cat_embarked:\n",
        "            values = X[\"Embarked\"].unique()\n",
        "            \n",
        "            for value in values :\n",
        "                X[str(value)] = X[\"Embarked\"].map({value :  1}).fillna(0)\n",
        "        \n",
        "        if self.fare_interval :\n",
        "            X[\"Fare_interval\"] = pd.cut(X[\"Fare\"],\n",
        "                                       bins = [-np.inf,100.0,200.0,np.inf],\n",
        "                                       labels = [0,1,2\n",
        "                                                ])\n",
        "            \n",
        "        if self.add_family : \n",
        "            X[\"Family\"] = X[\"SibSp\"] + X[\"Parch\"]\n",
        "        \n",
        "        if self.binary_sex : \n",
        "            X[\"Sex\"] = X[\"Sex\"].map(dict(zip(['male','female'],[0,1])))\n",
        "            \n",
        "        if self.fill_age:\n",
        "            average_age = []\n",
        "            for sex in X[\"Sex\"].unique() :\n",
        "                for pclass in X[\"Pclass\"].unique():\n",
        "                    condition = (X[\"Sex\"] ==  sex) & (X[\"Pclass\"] == pclass) \n",
        "                    average_age.append( X[condition][\"Age\"].mean() )\n",
        "                    X.loc[condition, \"Age\"] = X.loc[condition, \"Age\"].fillna( average_age[-1] ) \n",
        "               \n",
        "        \n",
        "        return X"
      ],
      "metadata": {
        "execution": {
          "iopub.status.busy": "2022-06-29T14:51:13.268400Z",
          "iopub.execute_input": "2022-06-29T14:51:13.268879Z",
          "iopub.status.idle": "2022-06-29T14:51:13.287451Z",
          "shell.execute_reply.started": "2022-06-29T14:51:13.268844Z",
          "shell.execute_reply": "2022-06-29T14:51:13.286374Z"
        },
        "trusted": true,
        "id": "GiNSxnKxDKvY"
      },
      "execution_count": null,
      "outputs": []
    },
    {
      "cell_type": "code",
      "source": [
        "class ColDropper(TransformerMixin, BaseEstimator):\n",
        "    \n",
        "    def __init__(self,col_names):\n",
        "        self.col_names = col_names\n",
        "        \n",
        "    def fit(self, X, y = None ):\n",
        "        return self\n",
        "\n",
        "    def transform(self, X, y = None):\n",
        "        return X.drop(self.col_names, axis = 1)  "
      ],
      "metadata": {
        "execution": {
          "iopub.status.busy": "2022-06-29T14:51:14.826960Z",
          "iopub.execute_input": "2022-06-29T14:51:14.827815Z",
          "iopub.status.idle": "2022-06-29T14:51:14.836088Z",
          "shell.execute_reply.started": "2022-06-29T14:51:14.827768Z",
          "shell.execute_reply": "2022-06-29T14:51:14.835038Z"
        },
        "trusted": true,
        "id": "8PyVauOzDKvY"
      },
      "execution_count": null,
      "outputs": []
    },
    {
      "cell_type": "code",
      "source": [
        ""
      ],
      "metadata": {
        "trusted": true,
        "id": "BWXRBs54DKvZ"
      },
      "execution_count": null,
      "outputs": []
    },
    {
      "cell_type": "code",
      "source": [
        "cat_pipeline = Pipeline([\n",
        "    (\"Binary\", BasicAdder(binary_sex = True) ),\n",
        "    (\"Embarked\", BasicAdder(cat_embarked = True) )\n",
        "])\n",
        "\n",
        "num_pipeline = Pipeline([\n",
        "    (\"To_interval\", BasicAdder(fare_interval = True, age_interval = True)),\n",
        "    (\"Add_family\", BasicAdder(add_family = True))\n",
        "])\n",
        "\n",
        "\n",
        "fill_pipeline = Pipeline([\n",
        "    (\"Fill_age\", BasicAdder(fill_age = True)),\n",
        "    (\"Fill_fare\", BasicAdder(fill_fare = True))\n",
        "])\n",
        "train_df.columns"
      ],
      "metadata": {
        "execution": {
          "iopub.status.busy": "2022-06-29T14:51:16.474204Z",
          "iopub.execute_input": "2022-06-29T14:51:16.475472Z",
          "iopub.status.idle": "2022-06-29T14:51:16.488675Z",
          "shell.execute_reply.started": "2022-06-29T14:51:16.475411Z",
          "shell.execute_reply": "2022-06-29T14:51:16.487435Z"
        },
        "trusted": true,
        "id": "Gt_isN2oDKvZ"
      },
      "execution_count": null,
      "outputs": []
    },
    {
      "cell_type": "code",
      "source": [
        ""
      ],
      "metadata": {
        "trusted": true,
        "id": "19MKuX5eDKvZ"
      },
      "execution_count": null,
      "outputs": []
    },
    {
      "cell_type": "code",
      "source": [
        "full_pipeline = Pipeline(\n",
        "    steps = [\n",
        "    (\"fill\", fill_pipeline),\n",
        "    (\"drop_name\", ColDropper([\"Name\"]) ),\n",
        "    (\"drop_passid\", ColDropper([\"PassengerId\"]) ),\n",
        "    (\"drop_ticket\", ColDropper([\"Ticket\"]) ),\n",
        "    (\"drop_cabin\", ColDropper([\"Cabin\"]) ),\n",
        "    (\"cat\", cat_pipeline),\n",
        "    (\"num\", num_pipeline),\n",
        "    (\"drop_relative\", ColDropper([\"SibSp\", \"Parch\"])),\n",
        "    (\"drop_age\", ColDropper([\"Age\"]) ),\n",
        "    (\"drop_fare\", ColDropper([\"Fare\"])),\n",
        "    (\"drop_embarked\", ColDropper([\"Embarked\"]))\n",
        "])\n",
        "prepared_df = full_pipeline.fit_transform(train_df)\n",
        "prep_test_df = full_pipeline.fit_transform(test_df)\n",
        "prepared_df.head()"
      ],
      "metadata": {
        "execution": {
          "iopub.status.busy": "2022-06-29T14:51:57.980051Z",
          "iopub.execute_input": "2022-06-29T14:51:57.980492Z",
          "iopub.status.idle": "2022-06-29T14:51:58.058839Z",
          "shell.execute_reply.started": "2022-06-29T14:51:57.980460Z",
          "shell.execute_reply": "2022-06-29T14:51:58.057749Z"
        },
        "trusted": true,
        "id": "jX7kiYd3DKvZ"
      },
      "execution_count": null,
      "outputs": []
    },
    {
      "cell_type": "code",
      "source": [
        "prepared_df.info()\n",
        "print(\"-\"*40)\n",
        "prep_test_df.info()"
      ],
      "metadata": {
        "execution": {
          "iopub.status.busy": "2022-06-29T14:52:04.861016Z",
          "iopub.execute_input": "2022-06-29T14:52:04.861414Z",
          "iopub.status.idle": "2022-06-29T14:52:04.885209Z",
          "shell.execute_reply.started": "2022-06-29T14:52:04.861382Z",
          "shell.execute_reply": "2022-06-29T14:52:04.884062Z"
        },
        "trusted": true,
        "id": "b5Bzgn1LDKvZ"
      },
      "execution_count": null,
      "outputs": []
    },
    {
      "cell_type": "code",
      "source": [
        "random_forest = RandomForestClassifier()\n",
        "predictions = cross_val_predict(random_forest, prepared_df, labels, cv=3)"
      ],
      "metadata": {
        "execution": {
          "iopub.status.busy": "2022-06-29T14:55:13.982842Z",
          "iopub.execute_input": "2022-06-29T14:55:13.983315Z",
          "iopub.status.idle": "2022-06-29T14:55:14.648233Z",
          "shell.execute_reply.started": "2022-06-29T14:55:13.983277Z",
          "shell.execute_reply": "2022-06-29T14:55:14.646733Z"
        },
        "trusted": true,
        "id": "QnZeUuRnDKva"
      },
      "execution_count": null,
      "outputs": []
    },
    {
      "cell_type": "code",
      "source": [
        "def plot_conf_mtx(cf_matrix):\n",
        "  #Plot a confusion matrix\n",
        "  group_names = ['True Neg','False Pos','False Neg','True Pos']\n",
        "\n",
        "  group_counts = [\"{0:0.0f}\".format(value) for value in\n",
        "                  cf_matrix.flatten()]\n",
        "\n",
        "  group_percentages = [\"{0:.2%}\".format(value) for value in\n",
        "                      cf_matrix.flatten()/np.sum(cf_matrix)]\n",
        "\n",
        "  labels = [f\"{v1}\\n{v2}\\n{v3}\" for v1, v2, v3 in\n",
        "            zip(group_names,group_counts,group_percentages)]\n",
        "\n",
        "  labels = np.asarray(labels).reshape(2,2)\n",
        "\n",
        "  ax = sns.heatmap(cf_matrix, annot=labels, fmt='', cmap='Blues')\n",
        "\n",
        "  ax.set_title('Seaborn Confusion Matrix with labels\\n\\n');\n",
        "  ax.set_xlabel('\\nPredicted Values')\n",
        "  ax.set_ylabel('Actual Values ');\n",
        "\n",
        "  ## Ticket labels - List must be in alphabetical order\n",
        "  ax.xaxis.set_ticklabels(['False','True'])\n",
        "  ax.yaxis.set_ticklabels(['False','True'])\n",
        "\n",
        "  ## Display the visualization of the Confusion Matrix.\n",
        "  plt.show()"
      ],
      "metadata": {
        "execution": {
          "iopub.status.busy": "2022-06-29T14:55:15.071645Z",
          "iopub.execute_input": "2022-06-29T14:55:15.072133Z",
          "iopub.status.idle": "2022-06-29T14:55:15.082747Z",
          "shell.execute_reply.started": "2022-06-29T14:55:15.072096Z",
          "shell.execute_reply": "2022-06-29T14:55:15.081718Z"
        },
        "trusted": true,
        "id": "9XsqJQwODKva"
      },
      "execution_count": null,
      "outputs": []
    },
    {
      "cell_type": "code",
      "source": [
        "cnf_mtx = confusion_matrix(labels, predictions)\n",
        "plot_conf_mtx(cnf_mtx)"
      ],
      "metadata": {
        "execution": {
          "iopub.status.busy": "2022-06-29T14:55:16.840169Z",
          "iopub.execute_input": "2022-06-29T14:55:16.840664Z",
          "iopub.status.idle": "2022-06-29T14:55:17.121878Z",
          "shell.execute_reply.started": "2022-06-29T14:55:16.840625Z",
          "shell.execute_reply": "2022-06-29T14:55:17.120606Z"
        },
        "trusted": true,
        "id": "7XwLpkvjDKva"
      },
      "execution_count": null,
      "outputs": []
    },
    {
      "cell_type": "code",
      "source": [
        "n_estimators = [int(x) for x in np.linspace(200,2000,10)]\n",
        "min_samples_split = [int(x) for x in np.linspace(2,10,4)]\n",
        "min_samples_leaf = [int(x) for x in np.linspace(1,5,4)]"
      ],
      "metadata": {
        "execution": {
          "iopub.status.busy": "2022-06-29T14:59:06.990119Z",
          "iopub.execute_input": "2022-06-29T14:59:06.990977Z",
          "iopub.status.idle": "2022-06-29T14:59:07.000120Z",
          "shell.execute_reply.started": "2022-06-29T14:59:06.990927Z",
          "shell.execute_reply": "2022-06-29T14:59:06.998561Z"
        },
        "trusted": true,
        "id": "pAEyZoEsDKva"
      },
      "execution_count": null,
      "outputs": []
    },
    {
      "cell_type": "code",
      "source": [
        "random_grid = {'n_estimators': n_estimators,\n",
        "               'min_samples_split': min_samples_split,\n",
        "               'min_samples_leaf': min_samples_leaf}\n",
        "random_grid"
      ],
      "metadata": {
        "execution": {
          "iopub.status.busy": "2022-06-29T14:59:31.547294Z",
          "iopub.execute_input": "2022-06-29T14:59:31.547921Z",
          "iopub.status.idle": "2022-06-29T14:59:31.557049Z",
          "shell.execute_reply.started": "2022-06-29T14:59:31.547863Z",
          "shell.execute_reply": "2022-06-29T14:59:31.556099Z"
        },
        "trusted": true,
        "id": "RIYQLS7xDKvb"
      },
      "execution_count": null,
      "outputs": []
    },
    {
      "cell_type": "code",
      "source": [
        "rf = RandomForestClassifier()\n",
        "rf_search = RandomizedSearchCV(estimator = rf,\n",
        "                               param_distributions = random_grid,\n",
        "                               n_iter = 25,\n",
        "                               cv = 3)"
      ],
      "metadata": {
        "execution": {
          "iopub.status.busy": "2022-06-29T15:00:15.916197Z",
          "iopub.execute_input": "2022-06-29T15:00:15.917059Z",
          "iopub.status.idle": "2022-06-29T15:00:15.923491Z",
          "shell.execute_reply.started": "2022-06-29T15:00:15.917008Z",
          "shell.execute_reply": "2022-06-29T15:00:15.922442Z"
        },
        "trusted": true,
        "id": "YtEEh7qIDKvb"
      },
      "execution_count": null,
      "outputs": []
    },
    {
      "cell_type": "code",
      "source": [
        "rf_search.fit(prepared_df, labels)"
      ],
      "metadata": {
        "execution": {
          "iopub.status.busy": "2022-06-29T15:00:53.671208Z",
          "iopub.execute_input": "2022-06-29T15:00:53.671593Z",
          "iopub.status.idle": "2022-06-29T15:03:52.427634Z",
          "shell.execute_reply.started": "2022-06-29T15:00:53.671564Z",
          "shell.execute_reply": "2022-06-29T15:03:52.426340Z"
        },
        "trusted": true,
        "id": "sO4zPXvGDKvb"
      },
      "execution_count": null,
      "outputs": []
    },
    {
      "cell_type": "code",
      "source": [
        "best_params = rf_search.best_params_\n",
        "prepared_rf = RandomForestClassifier(min_samples_leaf = best_params[\"min_samples_leaf\"],\n",
        "                                     min_samples_split=best_params[\"min_samples_split\"],\n",
        "                                     n_estimators = best_params[\"n_estimators\"]\n",
        "                                     )"
      ],
      "metadata": {
        "execution": {
          "iopub.status.busy": "2022-06-29T15:04:15.636092Z",
          "iopub.execute_input": "2022-06-29T15:04:15.637361Z",
          "iopub.status.idle": "2022-06-29T15:04:15.644743Z",
          "shell.execute_reply.started": "2022-06-29T15:04:15.637291Z",
          "shell.execute_reply": "2022-06-29T15:04:15.643165Z"
        },
        "trusted": true,
        "id": "1IbFoJvNDKvb"
      },
      "execution_count": null,
      "outputs": []
    },
    {
      "cell_type": "code",
      "source": [
        "predictions = cross_val_predict(prepared_rf, prepared_df, labels, cv=3)\n",
        "tunned_cfm = confusion_matrix(labels, predictions)\n",
        "plot_conf_mtx(tunned_cfm)"
      ],
      "metadata": {
        "execution": {
          "iopub.status.busy": "2022-06-29T15:04:16.689913Z",
          "iopub.execute_input": "2022-06-29T15:04:16.691160Z",
          "iopub.status.idle": "2022-06-29T15:04:28.212987Z",
          "shell.execute_reply.started": "2022-06-29T15:04:16.691091Z",
          "shell.execute_reply": "2022-06-29T15:04:28.211603Z"
        },
        "trusted": true,
        "id": "6MeVoZEvDKvb"
      },
      "execution_count": null,
      "outputs": []
    },
    {
      "cell_type": "code",
      "source": [
        "prep_test_df = prep_test_df[ list(prepared_df.columns) ]\n",
        "prepared_rf.fit(prepared_df, labels)\n",
        "predictions = prepared_rf.predict(prep_test_df)\n",
        "output = pd.DataFrame({'PassengerId': test_df.PassengerId, 'Survived': predictions})\n",
        "output.to_csv('submission.csv', index=False)\n",
        "print(\"Your submission was successfully saved!\")"
      ],
      "metadata": {
        "execution": {
          "iopub.status.busy": "2022-06-29T15:12:56.329369Z",
          "iopub.execute_input": "2022-06-29T15:12:56.329760Z",
          "iopub.status.idle": "2022-06-29T15:13:00.138839Z",
          "shell.execute_reply.started": "2022-06-29T15:12:56.329727Z",
          "shell.execute_reply": "2022-06-29T15:13:00.138065Z"
        },
        "trusted": true,
        "id": "50ecbAH1DKvb"
      },
      "execution_count": null,
      "outputs": []
    },
    {
      "cell_type": "code",
      "source": [
        ""
      ],
      "metadata": {
        "trusted": true,
        "id": "z6OQfq2nDKvc"
      },
      "execution_count": null,
      "outputs": []
    },
    {
      "cell_type": "code",
      "source": [
        ""
      ],
      "metadata": {
        "trusted": true,
        "id": "Zs7SwQvvDKvc"
      },
      "execution_count": null,
      "outputs": []
    },
    {
      "cell_type": "code",
      "source": [
        ""
      ],
      "metadata": {
        "id": "VpijMlTdDKvc"
      },
      "execution_count": null,
      "outputs": []
    }
  ]
}