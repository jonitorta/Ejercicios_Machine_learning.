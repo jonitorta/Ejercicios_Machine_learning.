{
  "cells": [
    {
      "cell_type": "markdown",
      "metadata": {
        "id": "view-in-github",
        "colab_type": "text"
      },
      "source": [
        "<a href=\"https://colab.research.google.com/github/jonitorta/Ejercicios_Machine_learning./blob/main/Space_titanic.ipynb\" target=\"_parent\"><img src=\"https://colab.research.google.com/assets/colab-badge.svg\" alt=\"Open In Colab\"/></a>"
      ]
    },
    {
      "cell_type": "code",
      "execution_count": 114,
      "metadata": {
        "colab": {
          "base_uri": "https://localhost:8080/"
        },
        "id": "skHjcJ4UIqDO",
        "outputId": "4c9e20a0-00ca-4b24-c743-031cd1f45a2a"
      },
      "outputs": [
        {
          "output_type": "stream",
          "name": "stdout",
          "text": [
            "Python version: 3.7.13 (default, Apr 24 2022, 01:04:09) \n",
            "[GCC 7.5.0]\n",
            "Pandas version: 1.3.5\n",
            "Numpy version: 1.21.6\n"
          ]
        }
      ],
      "source": [
        "import sys  \n",
        "import numpy as np\n",
        "import pandas as pd\n",
        "import seaborn as sns\n",
        "import matplotlib.pyplot as plt\n",
        "\n",
        "print(f\"Python version: {sys.version}\")\n",
        "print(f\"Pandas version: {pd.__version__}\")  \n",
        "print(f\"Numpy version: {np.__version__}\")"
      ]
    },
    {
      "cell_type": "code",
      "execution_count": 115,
      "metadata": {
        "id": "M9--WxqWRpPN"
      },
      "outputs": [],
      "source": [
        "from sklearn.base import BaseEstimator, TransformerMixin\n",
        "from sklearn.pipeline import Pipeline\n",
        "#Plot config\n",
        "%matplotlib inline\n",
        "sns.set_style('white')"
      ]
    },
    {
      "cell_type": "code",
      "execution_count": 116,
      "metadata": {
        "id": "jDHiELoOJygC"
      },
      "outputs": [],
      "source": [
        "#Files paths\n",
        "train_path = \"/content/train.csv\"\n",
        "test_path = \"/content/test.csv\""
      ]
    },
    {
      "cell_type": "markdown",
      "metadata": {
        "id": "rm4l2SkshlWj"
      },
      "source": [
        "# **Data correcting, completing, creating and completing.**\n"
      ]
    },
    {
      "cell_type": "code",
      "execution_count": 117,
      "metadata": {
        "colab": {
          "base_uri": "https://localhost:8080/",
          "height": 206
        },
        "id": "ZRl9Bs3FKP7D",
        "outputId": "4a26b8f3-7347-4659-aee9-1d056f02432e"
      },
      "outputs": [
        {
          "output_type": "execute_result",
          "data": {
            "text/plain": [
              "  PassengerId HomePlanet CryoSleep  Cabin  Destination   Age    VIP  \\\n",
              "0     0001_01     Europa     False  B/0/P  TRAPPIST-1e  39.0  False   \n",
              "1     0002_01      Earth     False  F/0/S  TRAPPIST-1e  24.0  False   \n",
              "2     0003_01     Europa     False  A/0/S  TRAPPIST-1e  58.0   True   \n",
              "3     0003_02     Europa     False  A/0/S  TRAPPIST-1e  33.0  False   \n",
              "4     0004_01      Earth     False  F/1/S  TRAPPIST-1e  16.0  False   \n",
              "\n",
              "   RoomService  FoodCourt  ShoppingMall     Spa  VRDeck               Name  \\\n",
              "0          0.0        0.0           0.0     0.0     0.0    Maham Ofracculy   \n",
              "1        109.0        9.0          25.0   549.0    44.0       Juanna Vines   \n",
              "2         43.0     3576.0           0.0  6715.0    49.0      Altark Susent   \n",
              "3          0.0     1283.0         371.0  3329.0   193.0       Solam Susent   \n",
              "4        303.0       70.0         151.0   565.0     2.0  Willy Santantines   \n",
              "\n",
              "   Transported  \n",
              "0        False  \n",
              "1         True  \n",
              "2        False  \n",
              "3        False  \n",
              "4         True  "
            ],
            "text/html": [
              "\n",
              "  <div id=\"df-e363a84c-cb98-48fd-b0f5-61b489c45276\">\n",
              "    <div class=\"colab-df-container\">\n",
              "      <div>\n",
              "<style scoped>\n",
              "    .dataframe tbody tr th:only-of-type {\n",
              "        vertical-align: middle;\n",
              "    }\n",
              "\n",
              "    .dataframe tbody tr th {\n",
              "        vertical-align: top;\n",
              "    }\n",
              "\n",
              "    .dataframe thead th {\n",
              "        text-align: right;\n",
              "    }\n",
              "</style>\n",
              "<table border=\"1\" class=\"dataframe\">\n",
              "  <thead>\n",
              "    <tr style=\"text-align: right;\">\n",
              "      <th></th>\n",
              "      <th>PassengerId</th>\n",
              "      <th>HomePlanet</th>\n",
              "      <th>CryoSleep</th>\n",
              "      <th>Cabin</th>\n",
              "      <th>Destination</th>\n",
              "      <th>Age</th>\n",
              "      <th>VIP</th>\n",
              "      <th>RoomService</th>\n",
              "      <th>FoodCourt</th>\n",
              "      <th>ShoppingMall</th>\n",
              "      <th>Spa</th>\n",
              "      <th>VRDeck</th>\n",
              "      <th>Name</th>\n",
              "      <th>Transported</th>\n",
              "    </tr>\n",
              "  </thead>\n",
              "  <tbody>\n",
              "    <tr>\n",
              "      <th>0</th>\n",
              "      <td>0001_01</td>\n",
              "      <td>Europa</td>\n",
              "      <td>False</td>\n",
              "      <td>B/0/P</td>\n",
              "      <td>TRAPPIST-1e</td>\n",
              "      <td>39.0</td>\n",
              "      <td>False</td>\n",
              "      <td>0.0</td>\n",
              "      <td>0.0</td>\n",
              "      <td>0.0</td>\n",
              "      <td>0.0</td>\n",
              "      <td>0.0</td>\n",
              "      <td>Maham Ofracculy</td>\n",
              "      <td>False</td>\n",
              "    </tr>\n",
              "    <tr>\n",
              "      <th>1</th>\n",
              "      <td>0002_01</td>\n",
              "      <td>Earth</td>\n",
              "      <td>False</td>\n",
              "      <td>F/0/S</td>\n",
              "      <td>TRAPPIST-1e</td>\n",
              "      <td>24.0</td>\n",
              "      <td>False</td>\n",
              "      <td>109.0</td>\n",
              "      <td>9.0</td>\n",
              "      <td>25.0</td>\n",
              "      <td>549.0</td>\n",
              "      <td>44.0</td>\n",
              "      <td>Juanna Vines</td>\n",
              "      <td>True</td>\n",
              "    </tr>\n",
              "    <tr>\n",
              "      <th>2</th>\n",
              "      <td>0003_01</td>\n",
              "      <td>Europa</td>\n",
              "      <td>False</td>\n",
              "      <td>A/0/S</td>\n",
              "      <td>TRAPPIST-1e</td>\n",
              "      <td>58.0</td>\n",
              "      <td>True</td>\n",
              "      <td>43.0</td>\n",
              "      <td>3576.0</td>\n",
              "      <td>0.0</td>\n",
              "      <td>6715.0</td>\n",
              "      <td>49.0</td>\n",
              "      <td>Altark Susent</td>\n",
              "      <td>False</td>\n",
              "    </tr>\n",
              "    <tr>\n",
              "      <th>3</th>\n",
              "      <td>0003_02</td>\n",
              "      <td>Europa</td>\n",
              "      <td>False</td>\n",
              "      <td>A/0/S</td>\n",
              "      <td>TRAPPIST-1e</td>\n",
              "      <td>33.0</td>\n",
              "      <td>False</td>\n",
              "      <td>0.0</td>\n",
              "      <td>1283.0</td>\n",
              "      <td>371.0</td>\n",
              "      <td>3329.0</td>\n",
              "      <td>193.0</td>\n",
              "      <td>Solam Susent</td>\n",
              "      <td>False</td>\n",
              "    </tr>\n",
              "    <tr>\n",
              "      <th>4</th>\n",
              "      <td>0004_01</td>\n",
              "      <td>Earth</td>\n",
              "      <td>False</td>\n",
              "      <td>F/1/S</td>\n",
              "      <td>TRAPPIST-1e</td>\n",
              "      <td>16.0</td>\n",
              "      <td>False</td>\n",
              "      <td>303.0</td>\n",
              "      <td>70.0</td>\n",
              "      <td>151.0</td>\n",
              "      <td>565.0</td>\n",
              "      <td>2.0</td>\n",
              "      <td>Willy Santantines</td>\n",
              "      <td>True</td>\n",
              "    </tr>\n",
              "  </tbody>\n",
              "</table>\n",
              "</div>\n",
              "      <button class=\"colab-df-convert\" onclick=\"convertToInteractive('df-e363a84c-cb98-48fd-b0f5-61b489c45276')\"\n",
              "              title=\"Convert this dataframe to an interactive table.\"\n",
              "              style=\"display:none;\">\n",
              "        \n",
              "  <svg xmlns=\"http://www.w3.org/2000/svg\" height=\"24px\"viewBox=\"0 0 24 24\"\n",
              "       width=\"24px\">\n",
              "    <path d=\"M0 0h24v24H0V0z\" fill=\"none\"/>\n",
              "    <path d=\"M18.56 5.44l.94 2.06.94-2.06 2.06-.94-2.06-.94-.94-2.06-.94 2.06-2.06.94zm-11 1L8.5 8.5l.94-2.06 2.06-.94-2.06-.94L8.5 2.5l-.94 2.06-2.06.94zm10 10l.94 2.06.94-2.06 2.06-.94-2.06-.94-.94-2.06-.94 2.06-2.06.94z\"/><path d=\"M17.41 7.96l-1.37-1.37c-.4-.4-.92-.59-1.43-.59-.52 0-1.04.2-1.43.59L10.3 9.45l-7.72 7.72c-.78.78-.78 2.05 0 2.83L4 21.41c.39.39.9.59 1.41.59.51 0 1.02-.2 1.41-.59l7.78-7.78 2.81-2.81c.8-.78.8-2.07 0-2.86zM5.41 20L4 18.59l7.72-7.72 1.47 1.35L5.41 20z\"/>\n",
              "  </svg>\n",
              "      </button>\n",
              "      \n",
              "  <style>\n",
              "    .colab-df-container {\n",
              "      display:flex;\n",
              "      flex-wrap:wrap;\n",
              "      gap: 12px;\n",
              "    }\n",
              "\n",
              "    .colab-df-convert {\n",
              "      background-color: #E8F0FE;\n",
              "      border: none;\n",
              "      border-radius: 50%;\n",
              "      cursor: pointer;\n",
              "      display: none;\n",
              "      fill: #1967D2;\n",
              "      height: 32px;\n",
              "      padding: 0 0 0 0;\n",
              "      width: 32px;\n",
              "    }\n",
              "\n",
              "    .colab-df-convert:hover {\n",
              "      background-color: #E2EBFA;\n",
              "      box-shadow: 0px 1px 2px rgba(60, 64, 67, 0.3), 0px 1px 3px 1px rgba(60, 64, 67, 0.15);\n",
              "      fill: #174EA6;\n",
              "    }\n",
              "\n",
              "    [theme=dark] .colab-df-convert {\n",
              "      background-color: #3B4455;\n",
              "      fill: #D2E3FC;\n",
              "    }\n",
              "\n",
              "    [theme=dark] .colab-df-convert:hover {\n",
              "      background-color: #434B5C;\n",
              "      box-shadow: 0px 1px 3px 1px rgba(0, 0, 0, 0.15);\n",
              "      filter: drop-shadow(0px 1px 2px rgba(0, 0, 0, 0.3));\n",
              "      fill: #FFFFFF;\n",
              "    }\n",
              "  </style>\n",
              "\n",
              "      <script>\n",
              "        const buttonEl =\n",
              "          document.querySelector('#df-e363a84c-cb98-48fd-b0f5-61b489c45276 button.colab-df-convert');\n",
              "        buttonEl.style.display =\n",
              "          google.colab.kernel.accessAllowed ? 'block' : 'none';\n",
              "\n",
              "        async function convertToInteractive(key) {\n",
              "          const element = document.querySelector('#df-e363a84c-cb98-48fd-b0f5-61b489c45276');\n",
              "          const dataTable =\n",
              "            await google.colab.kernel.invokeFunction('convertToInteractive',\n",
              "                                                     [key], {});\n",
              "          if (!dataTable) return;\n",
              "\n",
              "          const docLinkHtml = 'Like what you see? Visit the ' +\n",
              "            '<a target=\"_blank\" href=https://colab.research.google.com/notebooks/data_table.ipynb>data table notebook</a>'\n",
              "            + ' to learn more about interactive tables.';\n",
              "          element.innerHTML = '';\n",
              "          dataTable['output_type'] = 'display_data';\n",
              "          await google.colab.output.renderOutput(dataTable, element);\n",
              "          const docLink = document.createElement('div');\n",
              "          docLink.innerHTML = docLinkHtml;\n",
              "          element.appendChild(docLink);\n",
              "        }\n",
              "      </script>\n",
              "    </div>\n",
              "  </div>\n",
              "  "
            ]
          },
          "metadata": {},
          "execution_count": 117
        }
      ],
      "source": [
        "#Create DataFrames for both files\n",
        "train_df = pd.read_csv(train_path)\n",
        "test_df = pd.read_csv(test_path)\n",
        "both_df = [train_df, test_df]\n",
        "train_df.head(5)"
      ]
    },
    {
      "cell_type": "code",
      "execution_count": 118,
      "metadata": {
        "colab": {
          "base_uri": "https://localhost:8080/"
        },
        "id": "46tv7HR4LGW9",
        "outputId": "792c3be4-867e-4cfa-8def-4d158a54874d"
      },
      "outputs": [
        {
          "output_type": "stream",
          "name": "stdout",
          "text": [
            "Index(['PassengerId', 'HomePlanet', 'CryoSleep', 'Cabin', 'Destination', 'Age',\n",
            "       'VIP', 'RoomService', 'FoodCourt', 'ShoppingMall', 'Spa', 'VRDeck',\n",
            "       'Name', 'Transported'],\n",
            "      dtype='object')\n"
          ]
        }
      ],
      "source": [
        "#Let's see attributes of data\n",
        "print(train_df.columns)"
      ]
    },
    {
      "cell_type": "code",
      "execution_count": 119,
      "metadata": {
        "colab": {
          "base_uri": "https://localhost:8080/"
        },
        "id": "66cl5sKVMWHh",
        "outputId": "b8b7ede6-7aa5-40e5-cb6d-3666daf1b232"
      },
      "outputs": [
        {
          "output_type": "stream",
          "name": "stdout",
          "text": [
            "Train size : (8693, 14)\n",
            "Test size : (4277, 13)\n"
          ]
        }
      ],
      "source": [
        "#See data size\n",
        "print(\"Train size : {}\\nTest size : {}\".format(train_df.shape,test_df.shape))"
      ]
    },
    {
      "cell_type": "code",
      "execution_count": 120,
      "metadata": {
        "colab": {
          "base_uri": "https://localhost:8080/"
        },
        "id": "hlJDtu8dKeB_",
        "outputId": "5095a71a-0e73-4410-df86-db1cc51984d6"
      },
      "outputs": [
        {
          "output_type": "stream",
          "name": "stdout",
          "text": [
            "<class 'pandas.core.frame.DataFrame'>\n",
            "RangeIndex: 8693 entries, 0 to 8692\n",
            "Data columns (total 14 columns):\n",
            " #   Column        Non-Null Count  Dtype  \n",
            "---  ------        --------------  -----  \n",
            " 0   PassengerId   8693 non-null   object \n",
            " 1   HomePlanet    8492 non-null   object \n",
            " 2   CryoSleep     8476 non-null   object \n",
            " 3   Cabin         8494 non-null   object \n",
            " 4   Destination   8511 non-null   object \n",
            " 5   Age           8514 non-null   float64\n",
            " 6   VIP           8490 non-null   object \n",
            " 7   RoomService   8512 non-null   float64\n",
            " 8   FoodCourt     8510 non-null   float64\n",
            " 9   ShoppingMall  8485 non-null   float64\n",
            " 10  Spa           8510 non-null   float64\n",
            " 11  VRDeck        8505 non-null   float64\n",
            " 12  Name          8493 non-null   object \n",
            " 13  Transported   8693 non-null   bool   \n",
            "dtypes: bool(1), float64(6), object(7)\n",
            "memory usage: 891.5+ KB\n",
            "None\n",
            "----------------------------------------\n",
            "<class 'pandas.core.frame.DataFrame'>\n",
            "RangeIndex: 4277 entries, 0 to 4276\n",
            "Data columns (total 13 columns):\n",
            " #   Column        Non-Null Count  Dtype  \n",
            "---  ------        --------------  -----  \n",
            " 0   PassengerId   4277 non-null   object \n",
            " 1   HomePlanet    4190 non-null   object \n",
            " 2   CryoSleep     4184 non-null   object \n",
            " 3   Cabin         4177 non-null   object \n",
            " 4   Destination   4185 non-null   object \n",
            " 5   Age           4186 non-null   float64\n",
            " 6   VIP           4184 non-null   object \n",
            " 7   RoomService   4195 non-null   float64\n",
            " 8   FoodCourt     4171 non-null   float64\n",
            " 9   ShoppingMall  4179 non-null   float64\n",
            " 10  Spa           4176 non-null   float64\n",
            " 11  VRDeck        4197 non-null   float64\n",
            " 12  Name          4183 non-null   object \n",
            "dtypes: float64(6), object(7)\n",
            "memory usage: 434.5+ KB\n",
            "None\n"
          ]
        }
      ],
      "source": [
        "#Check general info of both files\n",
        "print(train_df.info())\n",
        "print(\"-\"*40)\n",
        "print(test_df.info())"
      ]
    },
    {
      "cell_type": "code",
      "execution_count": 121,
      "metadata": {
        "id": "9jeBKncAK9Se",
        "colab": {
          "base_uri": "https://localhost:8080/"
        },
        "outputId": "46de3457-9fe3-4448-bd12-d50ea5e717a5"
      },
      "outputs": [
        {
          "output_type": "stream",
          "name": "stdout",
          "text": [
            "Train set\n",
            "PassengerId       0\n",
            "HomePlanet      201\n",
            "CryoSleep       217\n",
            "Cabin           199\n",
            "Destination     182\n",
            "Age             179\n",
            "VIP             203\n",
            "RoomService     181\n",
            "FoodCourt       183\n",
            "ShoppingMall    208\n",
            "Spa             183\n",
            "VRDeck          188\n",
            "Name            200\n",
            "Transported       0\n",
            "dtype: int64\n",
            "----------------------------------------\n",
            "Test set\n",
            "PassengerId       0\n",
            "HomePlanet       87\n",
            "CryoSleep        93\n",
            "Cabin           100\n",
            "Destination      92\n",
            "Age              91\n",
            "VIP              93\n",
            "RoomService      82\n",
            "FoodCourt       106\n",
            "ShoppingMall     98\n",
            "Spa             101\n",
            "VRDeck           80\n",
            "Name             94\n",
            "dtype: int64\n"
          ]
        }
      ],
      "source": [
        "#We have some null in every column, fill methodology will be importat\n",
        "print(\"Train set\")\n",
        "print(train_df.isnull().sum())\n",
        "print(\"-\"*40)\n",
        "print(\"Test set\")\n",
        "print(test_df.isnull().sum())"
      ]
    },
    {
      "cell_type": "code",
      "execution_count": 122,
      "metadata": {
        "colab": {
          "base_uri": "https://localhost:8080/"
        },
        "id": "x58cWGXOvHtq",
        "outputId": "598b1525-7d05-4915-cae6-c0c1b612630b"
      },
      "outputs": [
        {
          "output_type": "execute_result",
          "data": {
            "text/plain": [
              "True     4378\n",
              "False    4315\n",
              "Name: Transported, dtype: int64"
            ]
          },
          "metadata": {},
          "execution_count": 122
        }
      ],
      "source": [
        "#Here we see that half of the population was transported\n",
        "train_df[\"Transported\"].value_counts()"
      ]
    },
    {
      "cell_type": "code",
      "execution_count": 123,
      "metadata": {
        "id": "ZNOja8hxPlAd"
      },
      "outputs": [],
      "source": [
        "#In the data description some attr have hiden info let's extract it\n",
        "#For example PassengerId is of the form gggg_pp where gggg indicates group and\n",
        "#pp number of people in group we can extract each in different columns and drop \n",
        "#passengerid, REMEMBER passid has not nulls so we can do this before filling nulls.\n",
        "train_df[[\"Group\",\"PeopleGroup\"]] =  train_df[\"PassengerId\"].str.split(\"_\", expand = True)\n",
        "train_df.drop(\"PassengerId\", axis = 1, inplace = True)\n",
        "#Do the same for test \n",
        "test_df[[\"Group\",\"PeopleGroup\"]] =  test_df[\"PassengerId\"].str.split(\"_\", expand = True)\n",
        "test_df.drop(\"PassengerId\", axis = 1, inplace = True)"
      ]
    },
    {
      "cell_type": "code",
      "execution_count": 124,
      "metadata": {
        "id": "nZ3_pg4yIqbN"
      },
      "outputs": [],
      "source": [
        "#Convert from string to int\n",
        "train_df[[\"Group\",\"PeopleGroup\"]] = train_df[[\"Group\",\"PeopleGroup\"]].astype(int)\n",
        "test_df[[\"Group\",\"PeopleGroup\"]] = test_df[[\"Group\",\"PeopleGroup\"]].astype(int)"
      ]
    },
    {
      "cell_type": "code",
      "execution_count": 125,
      "metadata": {
        "colab": {
          "base_uri": "https://localhost:8080/",
          "height": 300
        },
        "id": "w5CzgXPbLfxs",
        "outputId": "22facb28-53a0-4ea3-ba66-5a2026966e99"
      },
      "outputs": [
        {
          "output_type": "execute_result",
          "data": {
            "text/plain": [
              "               Age   RoomService     FoodCourt  ShoppingMall           Spa  \\\n",
              "count  8514.000000   8512.000000   8510.000000   8485.000000   8510.000000   \n",
              "mean     28.827930    224.687617    458.077203    173.729169    311.138778   \n",
              "std      14.489021    666.717663   1611.489240    604.696458   1136.705535   \n",
              "min       0.000000      0.000000      0.000000      0.000000      0.000000   \n",
              "25%      19.000000      0.000000      0.000000      0.000000      0.000000   \n",
              "50%      27.000000      0.000000      0.000000      0.000000      0.000000   \n",
              "75%      38.000000     47.000000     76.000000     27.000000     59.000000   \n",
              "max      79.000000  14327.000000  29813.000000  23492.000000  22408.000000   \n",
              "\n",
              "             VRDeck        Group  PeopleGroup  \n",
              "count   8505.000000  8693.000000  8693.000000  \n",
              "mean     304.854791  4633.389624     1.517773  \n",
              "std     1145.717189  2671.028856     1.054241  \n",
              "min        0.000000     1.000000     1.000000  \n",
              "25%        0.000000  2319.000000     1.000000  \n",
              "50%        0.000000  4630.000000     1.000000  \n",
              "75%       46.000000  6883.000000     2.000000  \n",
              "max    24133.000000  9280.000000     8.000000  "
            ],
            "text/html": [
              "\n",
              "  <div id=\"df-caa33096-d3a8-4831-9598-479af0bd3912\">\n",
              "    <div class=\"colab-df-container\">\n",
              "      <div>\n",
              "<style scoped>\n",
              "    .dataframe tbody tr th:only-of-type {\n",
              "        vertical-align: middle;\n",
              "    }\n",
              "\n",
              "    .dataframe tbody tr th {\n",
              "        vertical-align: top;\n",
              "    }\n",
              "\n",
              "    .dataframe thead th {\n",
              "        text-align: right;\n",
              "    }\n",
              "</style>\n",
              "<table border=\"1\" class=\"dataframe\">\n",
              "  <thead>\n",
              "    <tr style=\"text-align: right;\">\n",
              "      <th></th>\n",
              "      <th>Age</th>\n",
              "      <th>RoomService</th>\n",
              "      <th>FoodCourt</th>\n",
              "      <th>ShoppingMall</th>\n",
              "      <th>Spa</th>\n",
              "      <th>VRDeck</th>\n",
              "      <th>Group</th>\n",
              "      <th>PeopleGroup</th>\n",
              "    </tr>\n",
              "  </thead>\n",
              "  <tbody>\n",
              "    <tr>\n",
              "      <th>count</th>\n",
              "      <td>8514.000000</td>\n",
              "      <td>8512.000000</td>\n",
              "      <td>8510.000000</td>\n",
              "      <td>8485.000000</td>\n",
              "      <td>8510.000000</td>\n",
              "      <td>8505.000000</td>\n",
              "      <td>8693.000000</td>\n",
              "      <td>8693.000000</td>\n",
              "    </tr>\n",
              "    <tr>\n",
              "      <th>mean</th>\n",
              "      <td>28.827930</td>\n",
              "      <td>224.687617</td>\n",
              "      <td>458.077203</td>\n",
              "      <td>173.729169</td>\n",
              "      <td>311.138778</td>\n",
              "      <td>304.854791</td>\n",
              "      <td>4633.389624</td>\n",
              "      <td>1.517773</td>\n",
              "    </tr>\n",
              "    <tr>\n",
              "      <th>std</th>\n",
              "      <td>14.489021</td>\n",
              "      <td>666.717663</td>\n",
              "      <td>1611.489240</td>\n",
              "      <td>604.696458</td>\n",
              "      <td>1136.705535</td>\n",
              "      <td>1145.717189</td>\n",
              "      <td>2671.028856</td>\n",
              "      <td>1.054241</td>\n",
              "    </tr>\n",
              "    <tr>\n",
              "      <th>min</th>\n",
              "      <td>0.000000</td>\n",
              "      <td>0.000000</td>\n",
              "      <td>0.000000</td>\n",
              "      <td>0.000000</td>\n",
              "      <td>0.000000</td>\n",
              "      <td>0.000000</td>\n",
              "      <td>1.000000</td>\n",
              "      <td>1.000000</td>\n",
              "    </tr>\n",
              "    <tr>\n",
              "      <th>25%</th>\n",
              "      <td>19.000000</td>\n",
              "      <td>0.000000</td>\n",
              "      <td>0.000000</td>\n",
              "      <td>0.000000</td>\n",
              "      <td>0.000000</td>\n",
              "      <td>0.000000</td>\n",
              "      <td>2319.000000</td>\n",
              "      <td>1.000000</td>\n",
              "    </tr>\n",
              "    <tr>\n",
              "      <th>50%</th>\n",
              "      <td>27.000000</td>\n",
              "      <td>0.000000</td>\n",
              "      <td>0.000000</td>\n",
              "      <td>0.000000</td>\n",
              "      <td>0.000000</td>\n",
              "      <td>0.000000</td>\n",
              "      <td>4630.000000</td>\n",
              "      <td>1.000000</td>\n",
              "    </tr>\n",
              "    <tr>\n",
              "      <th>75%</th>\n",
              "      <td>38.000000</td>\n",
              "      <td>47.000000</td>\n",
              "      <td>76.000000</td>\n",
              "      <td>27.000000</td>\n",
              "      <td>59.000000</td>\n",
              "      <td>46.000000</td>\n",
              "      <td>6883.000000</td>\n",
              "      <td>2.000000</td>\n",
              "    </tr>\n",
              "    <tr>\n",
              "      <th>max</th>\n",
              "      <td>79.000000</td>\n",
              "      <td>14327.000000</td>\n",
              "      <td>29813.000000</td>\n",
              "      <td>23492.000000</td>\n",
              "      <td>22408.000000</td>\n",
              "      <td>24133.000000</td>\n",
              "      <td>9280.000000</td>\n",
              "      <td>8.000000</td>\n",
              "    </tr>\n",
              "  </tbody>\n",
              "</table>\n",
              "</div>\n",
              "      <button class=\"colab-df-convert\" onclick=\"convertToInteractive('df-caa33096-d3a8-4831-9598-479af0bd3912')\"\n",
              "              title=\"Convert this dataframe to an interactive table.\"\n",
              "              style=\"display:none;\">\n",
              "        \n",
              "  <svg xmlns=\"http://www.w3.org/2000/svg\" height=\"24px\"viewBox=\"0 0 24 24\"\n",
              "       width=\"24px\">\n",
              "    <path d=\"M0 0h24v24H0V0z\" fill=\"none\"/>\n",
              "    <path d=\"M18.56 5.44l.94 2.06.94-2.06 2.06-.94-2.06-.94-.94-2.06-.94 2.06-2.06.94zm-11 1L8.5 8.5l.94-2.06 2.06-.94-2.06-.94L8.5 2.5l-.94 2.06-2.06.94zm10 10l.94 2.06.94-2.06 2.06-.94-2.06-.94-.94-2.06-.94 2.06-2.06.94z\"/><path d=\"M17.41 7.96l-1.37-1.37c-.4-.4-.92-.59-1.43-.59-.52 0-1.04.2-1.43.59L10.3 9.45l-7.72 7.72c-.78.78-.78 2.05 0 2.83L4 21.41c.39.39.9.59 1.41.59.51 0 1.02-.2 1.41-.59l7.78-7.78 2.81-2.81c.8-.78.8-2.07 0-2.86zM5.41 20L4 18.59l7.72-7.72 1.47 1.35L5.41 20z\"/>\n",
              "  </svg>\n",
              "      </button>\n",
              "      \n",
              "  <style>\n",
              "    .colab-df-container {\n",
              "      display:flex;\n",
              "      flex-wrap:wrap;\n",
              "      gap: 12px;\n",
              "    }\n",
              "\n",
              "    .colab-df-convert {\n",
              "      background-color: #E8F0FE;\n",
              "      border: none;\n",
              "      border-radius: 50%;\n",
              "      cursor: pointer;\n",
              "      display: none;\n",
              "      fill: #1967D2;\n",
              "      height: 32px;\n",
              "      padding: 0 0 0 0;\n",
              "      width: 32px;\n",
              "    }\n",
              "\n",
              "    .colab-df-convert:hover {\n",
              "      background-color: #E2EBFA;\n",
              "      box-shadow: 0px 1px 2px rgba(60, 64, 67, 0.3), 0px 1px 3px 1px rgba(60, 64, 67, 0.15);\n",
              "      fill: #174EA6;\n",
              "    }\n",
              "\n",
              "    [theme=dark] .colab-df-convert {\n",
              "      background-color: #3B4455;\n",
              "      fill: #D2E3FC;\n",
              "    }\n",
              "\n",
              "    [theme=dark] .colab-df-convert:hover {\n",
              "      background-color: #434B5C;\n",
              "      box-shadow: 0px 1px 3px 1px rgba(0, 0, 0, 0.15);\n",
              "      filter: drop-shadow(0px 1px 2px rgba(0, 0, 0, 0.3));\n",
              "      fill: #FFFFFF;\n",
              "    }\n",
              "  </style>\n",
              "\n",
              "      <script>\n",
              "        const buttonEl =\n",
              "          document.querySelector('#df-caa33096-d3a8-4831-9598-479af0bd3912 button.colab-df-convert');\n",
              "        buttonEl.style.display =\n",
              "          google.colab.kernel.accessAllowed ? 'block' : 'none';\n",
              "\n",
              "        async function convertToInteractive(key) {\n",
              "          const element = document.querySelector('#df-caa33096-d3a8-4831-9598-479af0bd3912');\n",
              "          const dataTable =\n",
              "            await google.colab.kernel.invokeFunction('convertToInteractive',\n",
              "                                                     [key], {});\n",
              "          if (!dataTable) return;\n",
              "\n",
              "          const docLinkHtml = 'Like what you see? Visit the ' +\n",
              "            '<a target=\"_blank\" href=https://colab.research.google.com/notebooks/data_table.ipynb>data table notebook</a>'\n",
              "            + ' to learn more about interactive tables.';\n",
              "          element.innerHTML = '';\n",
              "          dataTable['output_type'] = 'display_data';\n",
              "          await google.colab.output.renderOutput(dataTable, element);\n",
              "          const docLink = document.createElement('div');\n",
              "          docLink.innerHTML = docLinkHtml;\n",
              "          element.appendChild(docLink);\n",
              "        }\n",
              "      </script>\n",
              "    </div>\n",
              "  </div>\n",
              "  "
            ]
          },
          "metadata": {},
          "execution_count": 125
        }
      ],
      "source": [
        "#Check more info of train set\n",
        "#Avg age is almost 30\n",
        "#In every spend attr a lot of people spent almost 0 and some spent a lot\n",
        "#avg people in group is 1.5\n",
        "num_attr = \"Age RoomService FoodCourt ShoppingMall Spa VRDeck PeopleGroup\".split(\" \")\n",
        "train_df.describe()"
      ]
    },
    {
      "cell_type": "code",
      "execution_count": 126,
      "metadata": {
        "colab": {
          "base_uri": "https://localhost:8080/",
          "height": 607
        },
        "id": "jfUSOr6zpi7C",
        "outputId": "7d147383-0477-4823-c197-6704646f2486"
      },
      "outputs": [
        {
          "output_type": "display_data",
          "data": {
            "text/plain": [
              "<Figure size 720x720 with 9 Axes>"
            ],
            "image/png": "[encoded data removed]"
          },
          "metadata": {}
        }
      ],
      "source": [
        "#Here we can easly see how a few people spent a lot and the mayority spend almost 0.\n",
        "train_df[num_attr].hist(figsize = (10,10))\n",
        "plt.show()"
      ]
    },
    {
      "cell_type": "code",
      "execution_count": 127,
      "metadata": {
        "colab": {
          "base_uri": "https://localhost:8080/"
        },
        "id": "74CBHizSRwQB",
        "outputId": "e20363a4-d31c-40d2-84f2-1bd14dda081a"
      },
      "outputs": [
        {
          "output_type": "stream",
          "name": "stdout",
          "text": [
            "Age interval\n",
            "(-0.001, 13.0]    947\n",
            "(13.0, 18.0]      918\n",
            "(35.0, 41.0]      911\n",
            "(21.0, 24.0]      907\n",
            "(27.0, 31.0]      882\n",
            "(18.0, 21.0]      881\n",
            "(49.0, 79.0]      811\n",
            "(41.0, 49.0]      791\n",
            "(24.0, 27.0]      770\n",
            "(31.0, 35.0]      696\n",
            "Name: Age, dtype: int64\n",
            "--------------------------------------------------\n",
            "RoomService interval\n",
            "(-0.001, 8.0]       5974\n",
            "(175.6, 753.0]       852\n",
            "(753.0, 14327.0]     851\n",
            "(8.0, 175.6]         835\n",
            "Name: RoomService, dtype: int64\n",
            "--------------------------------------------------\n",
            "FoodCourt interval\n",
            "(-0.001, 13.0]       5967\n",
            "(258.0, 1026.0]       851\n",
            "(1026.0, 29813.0]     850\n",
            "(13.0, 258.0]         842\n",
            "Name: FoodCourt, dtype: int64\n",
            "--------------------------------------------------\n",
            "ShoppingMall interval\n",
            "(-0.001, 5.0]       5962\n",
            "(619.6, 23492.0]     849\n",
            "(97.0, 619.6]        847\n",
            "(5.0, 97.0]          827\n",
            "Name: ShoppingMall, dtype: int64\n",
            "--------------------------------------------------\n",
            "Spa interval\n",
            "(-0.001, 15.0]      5971\n",
            "(179.2, 732.0]       854\n",
            "(732.0, 22408.0]     848\n",
            "(15.0, 179.2]        837\n",
            "Name: Spa, dtype: int64\n",
            "--------------------------------------------------\n",
            "VRDeck interval\n",
            "(-0.001, 9.0]       5974\n",
            "(732.6, 24133.0]     851\n",
            "(156.2, 732.6]       850\n",
            "(9.0, 156.2]         830\n",
            "Name: VRDeck, dtype: int64\n",
            "--------------------------------------------------\n",
            "PeopleGroup interval\n",
            "(0.999, 2.0]    7629\n",
            "(2.0, 3.0]       571\n",
            "(3.0, 8.0]       493\n",
            "Name: PeopleGroup, dtype: int64\n",
            "--------------------------------------------------\n"
          ]
        }
      ],
      "source": [
        "#Here we can see most people did not spend more than 10 dolars per attr\n",
        "#Most people traveled alone\n",
        "for attr in num_attr:\n",
        "  print(f\"{attr} interval\")\n",
        "  print(pd.qcut(train_df[attr], q = 10, duplicates = \"drop\").value_counts())\n",
        "  print(\"-\"*50)"
      ]
    },
    {
      "cell_type": "code",
      "execution_count": 128,
      "metadata": {
        "colab": {
          "base_uri": "https://localhost:8080/",
          "height": 722
        },
        "id": "w91lKSymVm1Z",
        "outputId": "fea582e2-ecab-419d-9d74-0a30650ec0a2"
      },
      "outputs": [
        {
          "output_type": "display_data",
          "data": {
            "text/plain": [
              "<Figure size 1008x864 with 2 Axes>"
            ],
            "image/png": "[encoded data removed]"
          },
          "metadata": {}
        }
      ],
      "source": [
        "#Check correlation between money attr and vip\n",
        "colormap = plt.cm.RdBu\n",
        "plt.figure(figsize=(14,12))\n",
        "plt.title('Correlation of Features', y=1.05, size=15)\n",
        "sns.heatmap(train_df[num_attr + [\"VIP\"] ].astype(float).corr(),linewidths=0.1,vmax=1.0, \n",
        "            square=True, cmap=colormap, linecolor='white', annot=True)\n",
        "plt.show()"
      ]
    },
    {
      "cell_type": "code",
      "execution_count": 129,
      "metadata": {
        "colab": {
          "base_uri": "https://localhost:8080/",
          "height": 175
        },
        "id": "z5qTbduwNQ-j",
        "outputId": "034f6ce9-9032-42c6-e754-4b9ba704a9c9"
      },
      "outputs": [
        {
          "output_type": "execute_result",
          "data": {
            "text/plain": [
              "       HomePlanet CryoSleep    Cabin  Destination    VIP            Name\n",
              "count        8492      8476     8494         8511   8490            8493\n",
              "unique          3         2     6560            3      2            8473\n",
              "top         Earth     False  G/734/S  TRAPPIST-1e  False  Gollux Reedall\n",
              "freq         4602      5439        8         5915   8291               2"
            ],
            "text/html": [
              "\n",
              "  <div id=\"df-e24461e0-4799-4584-8290-8dcc1c23ed66\">\n",
              "    <div class=\"colab-df-container\">\n",
              "      <div>\n",
              "<style scoped>\n",
              "    .dataframe tbody tr th:only-of-type {\n",
              "        vertical-align: middle;\n",
              "    }\n",
              "\n",
              "    .dataframe tbody tr th {\n",
              "        vertical-align: top;\n",
              "    }\n",
              "\n",
              "    .dataframe thead th {\n",
              "        text-align: right;\n",
              "    }\n",
              "</style>\n",
              "<table border=\"1\" class=\"dataframe\">\n",
              "  <thead>\n",
              "    <tr style=\"text-align: right;\">\n",
              "      <th></th>\n",
              "      <th>HomePlanet</th>\n",
              "      <th>CryoSleep</th>\n",
              "      <th>Cabin</th>\n",
              "      <th>Destination</th>\n",
              "      <th>VIP</th>\n",
              "      <th>Name</th>\n",
              "    </tr>\n",
              "  </thead>\n",
              "  <tbody>\n",
              "    <tr>\n",
              "      <th>count</th>\n",
              "      <td>8492</td>\n",
              "      <td>8476</td>\n",
              "      <td>8494</td>\n",
              "      <td>8511</td>\n",
              "      <td>8490</td>\n",
              "      <td>8493</td>\n",
              "    </tr>\n",
              "    <tr>\n",
              "      <th>unique</th>\n",
              "      <td>3</td>\n",
              "      <td>2</td>\n",
              "      <td>6560</td>\n",
              "      <td>3</td>\n",
              "      <td>2</td>\n",
              "      <td>8473</td>\n",
              "    </tr>\n",
              "    <tr>\n",
              "      <th>top</th>\n",
              "      <td>Earth</td>\n",
              "      <td>False</td>\n",
              "      <td>G/734/S</td>\n",
              "      <td>TRAPPIST-1e</td>\n",
              "      <td>False</td>\n",
              "      <td>Gollux Reedall</td>\n",
              "    </tr>\n",
              "    <tr>\n",
              "      <th>freq</th>\n",
              "      <td>4602</td>\n",
              "      <td>5439</td>\n",
              "      <td>8</td>\n",
              "      <td>5915</td>\n",
              "      <td>8291</td>\n",
              "      <td>2</td>\n",
              "    </tr>\n",
              "  </tbody>\n",
              "</table>\n",
              "</div>\n",
              "      <button class=\"colab-df-convert\" onclick=\"convertToInteractive('df-e24461e0-4799-4584-8290-8dcc1c23ed66')\"\n",
              "              title=\"Convert this dataframe to an interactive table.\"\n",
              "              style=\"display:none;\">\n",
              "        \n",
              "  <svg xmlns=\"http://www.w3.org/2000/svg\" height=\"24px\"viewBox=\"0 0 24 24\"\n",
              "       width=\"24px\">\n",
              "    <path d=\"M0 0h24v24H0V0z\" fill=\"none\"/>\n",
              "    <path d=\"M18.56 5.44l.94 2.06.94-2.06 2.06-.94-2.06-.94-.94-2.06-.94 2.06-2.06.94zm-11 1L8.5 8.5l.94-2.06 2.06-.94-2.06-.94L8.5 2.5l-.94 2.06-2.06.94zm10 10l.94 2.06.94-2.06 2.06-.94-2.06-.94-.94-2.06-.94 2.06-2.06.94z\"/><path d=\"M17.41 7.96l-1.37-1.37c-.4-.4-.92-.59-1.43-.59-.52 0-1.04.2-1.43.59L10.3 9.45l-7.72 7.72c-.78.78-.78 2.05 0 2.83L4 21.41c.39.39.9.59 1.41.59.51 0 1.02-.2 1.41-.59l7.78-7.78 2.81-2.81c.8-.78.8-2.07 0-2.86zM5.41 20L4 18.59l7.72-7.72 1.47 1.35L5.41 20z\"/>\n",
              "  </svg>\n",
              "      </button>\n",
              "      \n",
              "  <style>\n",
              "    .colab-df-container {\n",
              "      display:flex;\n",
              "      flex-wrap:wrap;\n",
              "      gap: 12px;\n",
              "    }\n",
              "\n",
              "    .colab-df-convert {\n",
              "      background-color: #E8F0FE;\n",
              "      border: none;\n",
              "      border-radius: 50%;\n",
              "      cursor: pointer;\n",
              "      display: none;\n",
              "      fill: #1967D2;\n",
              "      height: 32px;\n",
              "      padding: 0 0 0 0;\n",
              "      width: 32px;\n",
              "    }\n",
              "\n",
              "    .colab-df-convert:hover {\n",
              "      background-color: #E2EBFA;\n",
              "      box-shadow: 0px 1px 2px rgba(60, 64, 67, 0.3), 0px 1px 3px 1px rgba(60, 64, 67, 0.15);\n",
              "      fill: #174EA6;\n",
              "    }\n",
              "\n",
              "    [theme=dark] .colab-df-convert {\n",
              "      background-color: #3B4455;\n",
              "      fill: #D2E3FC;\n",
              "    }\n",
              "\n",
              "    [theme=dark] .colab-df-convert:hover {\n",
              "      background-color: #434B5C;\n",
              "      box-shadow: 0px 1px 3px 1px rgba(0, 0, 0, 0.15);\n",
              "      filter: drop-shadow(0px 1px 2px rgba(0, 0, 0, 0.3));\n",
              "      fill: #FFFFFF;\n",
              "    }\n",
              "  </style>\n",
              "\n",
              "      <script>\n",
              "        const buttonEl =\n",
              "          document.querySelector('#df-e24461e0-4799-4584-8290-8dcc1c23ed66 button.colab-df-convert');\n",
              "        buttonEl.style.display =\n",
              "          google.colab.kernel.accessAllowed ? 'block' : 'none';\n",
              "\n",
              "        async function convertToInteractive(key) {\n",
              "          const element = document.querySelector('#df-e24461e0-4799-4584-8290-8dcc1c23ed66');\n",
              "          const dataTable =\n",
              "            await google.colab.kernel.invokeFunction('convertToInteractive',\n",
              "                                                     [key], {});\n",
              "          if (!dataTable) return;\n",
              "\n",
              "          const docLinkHtml = 'Like what you see? Visit the ' +\n",
              "            '<a target=\"_blank\" href=https://colab.research.google.com/notebooks/data_table.ipynb>data table notebook</a>'\n",
              "            + ' to learn more about interactive tables.';\n",
              "          element.innerHTML = '';\n",
              "          dataTable['output_type'] = 'display_data';\n",
              "          await google.colab.output.renderOutput(dataTable, element);\n",
              "          const docLink = document.createElement('div');\n",
              "          docLink.innerHTML = docLinkHtml;\n",
              "          element.appendChild(docLink);\n",
              "        }\n",
              "      </script>\n",
              "    </div>\n",
              "  </div>\n",
              "  "
            ]
          },
          "metadata": {},
          "execution_count": 129
        }
      ],
      "source": [
        "#Some repeated names\n",
        "#3 different planets\n",
        "#Most people had unique cabin\n",
        "#3 different destinantion\n",
        "train_df.describe(include=[\"O\"])"
      ]
    },
    {
      "cell_type": "code",
      "execution_count": 130,
      "metadata": {
        "colab": {
          "base_uri": "https://localhost:8080/"
        },
        "id": "3Idqq2_TOfzt",
        "outputId": "c7c5b5ab-cefc-41b8-e07c-bfb8703591c2"
      },
      "outputs": [
        {
          "output_type": "stream",
          "name": "stdout",
          "text": [
            "            Transported\n",
            "HomePlanet             \n",
            "Earth          0.423946\n",
            "Europa         0.658846\n",
            "Mars           0.523024\n",
            "           Transported\n",
            "CryoSleep             \n",
            "False         0.328921\n",
            "True          0.817583\n",
            "               Transported\n",
            "Destination               \n",
            "55 Cancri e       0.610000\n",
            "PSO J318.5-22     0.503769\n",
            "TRAPPIST-1e       0.471175\n",
            "       Transported\n",
            "VIP               \n",
            "False     0.506332\n",
            "True      0.381910\n"
          ]
        }
      ],
      "source": [
        "#Let's check how cattegorical attributes affect target one (Transported)\n",
        "#As we can see Cryosleep seems really importat \n",
        "interesting_attr = \"HomePlanet CryoSleep Destination VIP\".split(\" \")\n",
        "for attr in interesting_attr:\n",
        "  print(train_df[[\"Transported\",attr]].groupby(attr).mean())"
      ]
    },
    {
      "cell_type": "code",
      "source": [
        "class GeneralTransformer(BaseEstimator, TransformerMixin):\n",
        "#General Transformer class created to save some time\n",
        "  def __init__(self):\n",
        "    return self\n",
        "  def fit(self):\n",
        "    return self"
      ],
      "metadata": {
        "id": "MY4SU8u9fTeR"
      },
      "execution_count": 131,
      "outputs": []
    },
    {
      "cell_type": "code",
      "source": [
        "class NullFiller(GeneralTransformer):\n",
        "#Given a dict with key as col name and a method as value and a dataframe or np matrix\n",
        "#returns the same array with filled values following filling methodology provided. \n",
        "  def __init__(self, col_meth):\n",
        "    if type(col_meth) == dict :\n",
        "      self.col_meth = col_meth\n",
        "    else : \n",
        "      raise Exception(\"col_meth must be a dict with key as name of the column and value the method for filling nulls\")\n",
        "    \n",
        "\n",
        "  def transform(self, X, y = None):\n",
        "    #Here we iterate over keys, we target null index and then fill each with filling methodology.\n",
        "    for key in self.col_meth:\n",
        "      condition = X[key].isnull()\n",
        "      null_index = X[key][condition].index\n",
        "      for index in null_index:\n",
        "        X.loc[index, key] = self.col_meth[key]"
      ],
      "metadata": {
        "id": "kBqpt5W2fqqq"
      },
      "execution_count": 132,
      "outputs": []
    },
    {
      "cell_type": "code",
      "execution_count": 133,
      "metadata": {
        "id": "GUJ00tBaktpg"
      },
      "outputs": [],
      "source": [
        "#Age doesn't have much nulls and std is not high we fill age with a random number between meand and one std.\n",
        "def age_generator():\n",
        "  #Create random ages between mean and one std.\n",
        "  rn = np.random.randint(low = train_df[\"Age\"].mean() - train_df[\"Age\"].std() , \n",
        "                        high = train_df[\"Age\"].mean() + train_df[\"Age\"].std() )\n",
        "  return rn"
      ]
    },
    {
      "cell_type": "code",
      "source": [
        "fill_steps = {\n",
        "    \"Age\": age_generator(),\n",
        "    \"Name\" : \"No name\"\n",
        "}\n"
      ],
      "metadata": {
        "id": "gEES33xnhKnl"
      },
      "execution_count": 134,
      "outputs": []
    },
    {
      "cell_type": "code",
      "source": [
        "fill_pipeline = Pipeline(\n",
        "    steps = [\n",
        "             (\"age_generator\",NullFiller(fill_steps) )\n",
        "    ]\n",
        ")"
      ],
      "metadata": {
        "id": "rdUQiCIlcIdU"
      },
      "execution_count": 135,
      "outputs": []
    },
    {
      "cell_type": "code",
      "source": [
        "fill_pipeline.transform(train_df)"
      ],
      "metadata": {
        "id": "aArr_FJNkoX2"
      },
      "execution_count": 136,
      "outputs": []
    },
    {
      "cell_type": "code",
      "execution_count": 137,
      "metadata": {
        "id": "rBnE7a4EpfQx"
      },
      "outputs": [],
      "source": [
        "#Here I define a class to create intervals of continuous attributes\n",
        "class IntervalGenerator(BaseEstimator, TransformerMixin):\n",
        "#Given a DF and columns name of dataframe create int label \n",
        "#param: cuts:int number of cuts 4 for quantiles 10 for deciles\n",
        "#param: drop status: bool if true drop original column   \n",
        "  def __init__(self,cols, drop_status = False ,cuts = 4, stick_interval = False):\n",
        "    self.cuts = cuts\n",
        "    self.drop_status = drop_status\n",
        "    self.cols = cols\n",
        "    self.stick_interval = stick_interval\n",
        "\n",
        "  def fit(self, X, y = None):\n",
        "    return self\n",
        "\n",
        "  def transform(self, X, y=None):\n",
        "    columns = self.cols\n",
        "    if type(columns) is list:\n",
        "      pass\n",
        "    else :\n",
        "      raise Exception(\"Names must be in a list\")\n",
        "    \n",
        "    for column in columns:\n",
        "      labels_ = [i for i in range(self.cuts)]\n",
        "      label_interval = pd.qcut(X[column], q = self.cuts, labels = labels_)\n",
        "      X[f\"{column}Label\"] = label_interval\n",
        "      if self.stick_interval:\n",
        "        X[f\"{column}Interval\"] = intervals\n",
        "        intervals = pd.qcut(X[column], q = self.cuts)\n",
        "      if self.drop_status:\n",
        "        X.drop(column, axis = 1, inplace = True)    "
      ]
    },
    {
      "cell_type": "code",
      "execution_count": 138,
      "metadata": {
        "id": "rndjXCDQplAD"
      },
      "outputs": [],
      "source": [
        "#Create an instane of the class"
      ]
    },
    {
      "cell_type": "code",
      "execution_count": 139,
      "metadata": {
        "id": "cTwIqZ7N3g5k"
      },
      "outputs": [],
      "source": [
        "#Create intervals and labels for age attr\n",
        "interval_pipeline = Pipeline(\n",
        "    steps = [\n",
        "             (\"age_interval\", IntervalGenerator([\"Age\"],drop_status=True) )\n",
        "    ]\n",
        ")"
      ]
    },
    {
      "cell_type": "code",
      "source": [
        "interval_pipeline.transform(train_df)"
      ],
      "metadata": {
        "id": "mdt4PUonn3LE"
      },
      "execution_count": 140,
      "outputs": []
    },
    {
      "cell_type": "code",
      "execution_count": 141,
      "metadata": {
        "colab": {
          "base_uri": "https://localhost:8080/",
          "height": 81
        },
        "id": "TtgHabJQ_GZo",
        "outputId": "e48a5792-724e-443a-ec81-82173d0f9dc9"
      },
      "outputs": [
        {
          "output_type": "execute_result",
          "data": {
            "text/plain": [
              "     HomePlanet CryoSleep    Cabin  Destination    VIP  RoomService  \\\n",
              "8692     Europa     False  E/608/S  TRAPPIST-1e  False        126.0   \n",
              "\n",
              "      FoodCourt  ShoppingMall  Spa  VRDeck              Name  Transported  \\\n",
              "8692     4688.0           0.0  0.0    12.0  Propsh Hontichre         True   \n",
              "\n",
              "      Group  PeopleGroup AgeLabel  \n",
              "8692   9280            2        3  "
            ],
            "text/html": [
              "\n",
              "  <div id=\"df-f2cac70a-907d-4fc9-8ef4-21c5cead7ee8\">\n",
              "    <div class=\"colab-df-container\">\n",
              "      <div>\n",
              "<style scoped>\n",
              "    .dataframe tbody tr th:only-of-type {\n",
              "        vertical-align: middle;\n",
              "    }\n",
              "\n",
              "    .dataframe tbody tr th {\n",
              "        vertical-align: top;\n",
              "    }\n",
              "\n",
              "    .dataframe thead th {\n",
              "        text-align: right;\n",
              "    }\n",
              "</style>\n",
              "<table border=\"1\" class=\"dataframe\">\n",
              "  <thead>\n",
              "    <tr style=\"text-align: right;\">\n",
              "      <th></th>\n",
              "      <th>HomePlanet</th>\n",
              "      <th>CryoSleep</th>\n",
              "      <th>Cabin</th>\n",
              "      <th>Destination</th>\n",
              "      <th>VIP</th>\n",
              "      <th>RoomService</th>\n",
              "      <th>FoodCourt</th>\n",
              "      <th>ShoppingMall</th>\n",
              "      <th>Spa</th>\n",
              "      <th>VRDeck</th>\n",
              "      <th>Name</th>\n",
              "      <th>Transported</th>\n",
              "      <th>Group</th>\n",
              "      <th>PeopleGroup</th>\n",
              "      <th>AgeLabel</th>\n",
              "    </tr>\n",
              "  </thead>\n",
              "  <tbody>\n",
              "    <tr>\n",
              "      <th>8692</th>\n",
              "      <td>Europa</td>\n",
              "      <td>False</td>\n",
              "      <td>E/608/S</td>\n",
              "      <td>TRAPPIST-1e</td>\n",
              "      <td>False</td>\n",
              "      <td>126.0</td>\n",
              "      <td>4688.0</td>\n",
              "      <td>0.0</td>\n",
              "      <td>0.0</td>\n",
              "      <td>12.0</td>\n",
              "      <td>Propsh Hontichre</td>\n",
              "      <td>True</td>\n",
              "      <td>9280</td>\n",
              "      <td>2</td>\n",
              "      <td>3</td>\n",
              "    </tr>\n",
              "  </tbody>\n",
              "</table>\n",
              "</div>\n",
              "      <button class=\"colab-df-convert\" onclick=\"convertToInteractive('df-f2cac70a-907d-4fc9-8ef4-21c5cead7ee8')\"\n",
              "              title=\"Convert this dataframe to an interactive table.\"\n",
              "              style=\"display:none;\">\n",
              "        \n",
              "  <svg xmlns=\"http://www.w3.org/2000/svg\" height=\"24px\"viewBox=\"0 0 24 24\"\n",
              "       width=\"24px\">\n",
              "    <path d=\"M0 0h24v24H0V0z\" fill=\"none\"/>\n",
              "    <path d=\"M18.56 5.44l.94 2.06.94-2.06 2.06-.94-2.06-.94-.94-2.06-.94 2.06-2.06.94zm-11 1L8.5 8.5l.94-2.06 2.06-.94-2.06-.94L8.5 2.5l-.94 2.06-2.06.94zm10 10l.94 2.06.94-2.06 2.06-.94-2.06-.94-.94-2.06-.94 2.06-2.06.94z\"/><path d=\"M17.41 7.96l-1.37-1.37c-.4-.4-.92-.59-1.43-.59-.52 0-1.04.2-1.43.59L10.3 9.45l-7.72 7.72c-.78.78-.78 2.05 0 2.83L4 21.41c.39.39.9.59 1.41.59.51 0 1.02-.2 1.41-.59l7.78-7.78 2.81-2.81c.8-.78.8-2.07 0-2.86zM5.41 20L4 18.59l7.72-7.72 1.47 1.35L5.41 20z\"/>\n",
              "  </svg>\n",
              "      </button>\n",
              "      \n",
              "  <style>\n",
              "    .colab-df-container {\n",
              "      display:flex;\n",
              "      flex-wrap:wrap;\n",
              "      gap: 12px;\n",
              "    }\n",
              "\n",
              "    .colab-df-convert {\n",
              "      background-color: #E8F0FE;\n",
              "      border: none;\n",
              "      border-radius: 50%;\n",
              "      cursor: pointer;\n",
              "      display: none;\n",
              "      fill: #1967D2;\n",
              "      height: 32px;\n",
              "      padding: 0 0 0 0;\n",
              "      width: 32px;\n",
              "    }\n",
              "\n",
              "    .colab-df-convert:hover {\n",
              "      background-color: #E2EBFA;\n",
              "      box-shadow: 0px 1px 2px rgba(60, 64, 67, 0.3), 0px 1px 3px 1px rgba(60, 64, 67, 0.15);\n",
              "      fill: #174EA6;\n",
              "    }\n",
              "\n",
              "    [theme=dark] .colab-df-convert {\n",
              "      background-color: #3B4455;\n",
              "      fill: #D2E3FC;\n",
              "    }\n",
              "\n",
              "    [theme=dark] .colab-df-convert:hover {\n",
              "      background-color: #434B5C;\n",
              "      box-shadow: 0px 1px 3px 1px rgba(0, 0, 0, 0.15);\n",
              "      filter: drop-shadow(0px 1px 2px rgba(0, 0, 0, 0.3));\n",
              "      fill: #FFFFFF;\n",
              "    }\n",
              "  </style>\n",
              "\n",
              "      <script>\n",
              "        const buttonEl =\n",
              "          document.querySelector('#df-f2cac70a-907d-4fc9-8ef4-21c5cead7ee8 button.colab-df-convert');\n",
              "        buttonEl.style.display =\n",
              "          google.colab.kernel.accessAllowed ? 'block' : 'none';\n",
              "\n",
              "        async function convertToInteractive(key) {\n",
              "          const element = document.querySelector('#df-f2cac70a-907d-4fc9-8ef4-21c5cead7ee8');\n",
              "          const dataTable =\n",
              "            await google.colab.kernel.invokeFunction('convertToInteractive',\n",
              "                                                     [key], {});\n",
              "          if (!dataTable) return;\n",
              "\n",
              "          const docLinkHtml = 'Like what you see? Visit the ' +\n",
              "            '<a target=\"_blank\" href=https://colab.research.google.com/notebooks/data_table.ipynb>data table notebook</a>'\n",
              "            + ' to learn more about interactive tables.';\n",
              "          element.innerHTML = '';\n",
              "          dataTable['output_type'] = 'display_data';\n",
              "          await google.colab.output.renderOutput(dataTable, element);\n",
              "          const docLink = document.createElement('div');\n",
              "          docLink.innerHTML = docLinkHtml;\n",
              "          element.appendChild(docLink);\n",
              "        }\n",
              "      </script>\n",
              "    </div>\n",
              "  </div>\n",
              "  "
            ]
          },
          "metadata": {},
          "execution_count": 141
        }
      ],
      "source": [
        "train_df.tail(1)"
      ]
    },
    {
      "cell_type": "code",
      "execution_count": 142,
      "metadata": {
        "id": "rsEqgA3tAdkU",
        "colab": {
          "base_uri": "https://localhost:8080/"
        },
        "outputId": "4196ac68-a12e-4b82-fcf8-67c82f273214"
      },
      "outputs": [
        {
          "output_type": "stream",
          "name": "stdout",
          "text": [
            "<class 'pandas.core.frame.DataFrame'>\n",
            "RangeIndex: 8693 entries, 0 to 8692\n",
            "Data columns (total 15 columns):\n",
            " #   Column        Non-Null Count  Dtype   \n",
            "---  ------        --------------  -----   \n",
            " 0   HomePlanet    8492 non-null   object  \n",
            " 1   CryoSleep     8476 non-null   object  \n",
            " 2   Cabin         8494 non-null   object  \n",
            " 3   Destination   8511 non-null   object  \n",
            " 4   VIP           8490 non-null   object  \n",
            " 5   RoomService   8512 non-null   float64 \n",
            " 6   FoodCourt     8510 non-null   float64 \n",
            " 7   ShoppingMall  8485 non-null   float64 \n",
            " 8   Spa           8510 non-null   float64 \n",
            " 9   VRDeck        8505 non-null   float64 \n",
            " 10  Name          8693 non-null   object  \n",
            " 11  Transported   8693 non-null   bool    \n",
            " 12  Group         8693 non-null   int64   \n",
            " 13  PeopleGroup   8693 non-null   int64   \n",
            " 14  AgeLabel      8693 non-null   category\n",
            "dtypes: bool(1), category(1), float64(5), int64(2), object(6)\n",
            "memory usage: 900.2+ KB\n"
          ]
        }
      ],
      "source": [
        "train_df.info()"
      ]
    },
    {
      "cell_type": "code",
      "execution_count": 113,
      "metadata": {
        "id": "eFKuGSkV4CLo"
      },
      "outputs": [],
      "source": [
        ""
      ]
    },
    {
      "cell_type": "code",
      "source": [
        ""
      ],
      "metadata": {
        "id": "De4EJyyfFRBM"
      },
      "execution_count": null,
      "outputs": []
    }
  ],
  "metadata": {
    "colab": {
      "collapsed_sections": [],
      "name": "Space_titanic",
      "provenance": [],
      "include_colab_link": true
    },
    "kernelspec": {
      "display_name": "Python 3",
      "name": "python3"
    }
  },
  "nbformat": 4,
  "nbformat_minor": 0
}