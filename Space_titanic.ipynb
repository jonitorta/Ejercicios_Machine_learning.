{
  "cells": [
    {
      "cell_type": "markdown",
      "metadata": {
        "id": "view-in-github",
        "colab_type": "text"
      },
      "source": [
        "<a href=\"https://colab.research.google.com/github/jonitorta/Ejercicios_Machine_learning./blob/main/Space_titanic.ipynb\" target=\"_parent\"><img src=\"https://colab.research.google.com/assets/colab-badge.svg\" alt=\"Open In Colab\"/></a>"
      ]
    },
    {
      "cell_type": "code",
      "execution_count": 1,
      "metadata": {
        "colab": {
          "base_uri": "https://localhost:8080/"
        },
        "id": "skHjcJ4UIqDO",
        "outputId": "5e036e8a-97ca-4af3-dd62-ae52b9619369"
      },
      "outputs": [
        {
          "output_type": "stream",
          "name": "stdout",
          "text": [
            "Python version: 3.7.13 (default, Apr 24 2022, 01:04:09) \n",
            "[GCC 7.5.0]\n",
            "Pandas version: 1.3.5\n",
            "Numpy version: 1.21.6\n"
          ]
        }
      ],
      "source": [
        "import sys  \n",
        "import numpy as np\n",
        "import pandas as pd\n",
        "import seaborn as sns\n",
        "import matplotlib.pyplot as plt\n",
        "\n",
        "print(f\"Python version: {sys.version}\")\n",
        "print(f\"Pandas version: {pd.__version__}\")  \n",
        "print(f\"Numpy version: {np.__version__}\")"
      ]
    },
    {
      "cell_type": "code",
      "execution_count": 2,
      "metadata": {
        "id": "M9--WxqWRpPN"
      },
      "outputs": [],
      "source": [
        "from sklearn.base import BaseEstimator, TransformerMixin\n",
        "from sklearn.pipeline import Pipeline\n",
        "from sklearn.impute import SimpleImputer\n",
        "\n",
        "#Plot config\n",
        "%matplotlib inline\n",
        "sns.set_style('white')"
      ]
    },
    {
      "cell_type": "code",
      "execution_count": 3,
      "metadata": {
        "id": "jDHiELoOJygC"
      },
      "outputs": [],
      "source": [
        "#Files paths\n",
        "train_path = \"/content/train.csv\"\n",
        "test_path = \"/content/test.csv\""
      ]
    },
    {
      "cell_type": "markdown",
      "metadata": {
        "id": "rm4l2SkshlWj"
      },
      "source": [
        "# **Data correcting, completing, creating and completing.**\n"
      ]
    },
    {
      "cell_type": "code",
      "execution_count": 4,
      "metadata": {
        "colab": {
          "base_uri": "https://localhost:8080/",
          "height": 206
        },
        "id": "ZRl9Bs3FKP7D",
        "outputId": "aed6df63-2805-4f80-b4e0-d26662a6f440"
      },
      "outputs": [
        {
          "output_type": "execute_result",
          "data": {
            "text/plain": [
              "  PassengerId HomePlanet CryoSleep  Cabin  Destination   Age    VIP  \\\n",
              "0     0001_01     Europa     False  B/0/P  TRAPPIST-1e  39.0  False   \n",
              "1     0002_01      Earth     False  F/0/S  TRAPPIST-1e  24.0  False   \n",
              "2     0003_01     Europa     False  A/0/S  TRAPPIST-1e  58.0   True   \n",
              "3     0003_02     Europa     False  A/0/S  TRAPPIST-1e  33.0  False   \n",
              "4     0004_01      Earth     False  F/1/S  TRAPPIST-1e  16.0  False   \n",
              "\n",
              "   RoomService  FoodCourt  ShoppingMall     Spa  VRDeck               Name  \\\n",
              "0          0.0        0.0           0.0     0.0     0.0    Maham Ofracculy   \n",
              "1        109.0        9.0          25.0   549.0    44.0       Juanna Vines   \n",
              "2         43.0     3576.0           0.0  6715.0    49.0      Altark Susent   \n",
              "3          0.0     1283.0         371.0  3329.0   193.0       Solam Susent   \n",
              "4        303.0       70.0         151.0   565.0     2.0  Willy Santantines   \n",
              "\n",
              "   Transported  \n",
              "0        False  \n",
              "1         True  \n",
              "2        False  \n",
              "3        False  \n",
              "4         True  "
            ],
            "text/html": [
              "\n",
              "  <div id=\"df-70c29a4d-0a5e-4f23-9f1c-b0a6c4b575bf\">\n",
              "    <div class=\"colab-df-container\">\n",
              "      <div>\n",
              "<style scoped>\n",
              "    .dataframe tbody tr th:only-of-type {\n",
              "        vertical-align: middle;\n",
              "    }\n",
              "\n",
              "    .dataframe tbody tr th {\n",
              "        vertical-align: top;\n",
              "    }\n",
              "\n",
              "    .dataframe thead th {\n",
              "        text-align: right;\n",
              "    }\n",
              "</style>\n",
              "<table border=\"1\" class=\"dataframe\">\n",
              "  <thead>\n",
              "    <tr style=\"text-align: right;\">\n",
              "      <th></th>\n",
              "      <th>PassengerId</th>\n",
              "      <th>HomePlanet</th>\n",
              "      <th>CryoSleep</th>\n",
              "      <th>Cabin</th>\n",
              "      <th>Destination</th>\n",
              "      <th>Age</th>\n",
              "      <th>VIP</th>\n",
              "      <th>RoomService</th>\n",
              "      <th>FoodCourt</th>\n",
              "      <th>ShoppingMall</th>\n",
              "      <th>Spa</th>\n",
              "      <th>VRDeck</th>\n",
              "      <th>Name</th>\n",
              "      <th>Transported</th>\n",
              "    </tr>\n",
              "  </thead>\n",
              "  <tbody>\n",
              "    <tr>\n",
              "      <th>0</th>\n",
              "      <td>0001_01</td>\n",
              "      <td>Europa</td>\n",
              "      <td>False</td>\n",
              "      <td>B/0/P</td>\n",
              "      <td>TRAPPIST-1e</td>\n",
              "      <td>39.0</td>\n",
              "      <td>False</td>\n",
              "      <td>0.0</td>\n",
              "      <td>0.0</td>\n",
              "      <td>0.0</td>\n",
              "      <td>0.0</td>\n",
              "      <td>0.0</td>\n",
              "      <td>Maham Ofracculy</td>\n",
              "      <td>False</td>\n",
              "    </tr>\n",
              "    <tr>\n",
              "      <th>1</th>\n",
              "      <td>0002_01</td>\n",
              "      <td>Earth</td>\n",
              "      <td>False</td>\n",
              "      <td>F/0/S</td>\n",
              "      <td>TRAPPIST-1e</td>\n",
              "      <td>24.0</td>\n",
              "      <td>False</td>\n",
              "      <td>109.0</td>\n",
              "      <td>9.0</td>\n",
              "      <td>25.0</td>\n",
              "      <td>549.0</td>\n",
              "      <td>44.0</td>\n",
              "      <td>Juanna Vines</td>\n",
              "      <td>True</td>\n",
              "    </tr>\n",
              "    <tr>\n",
              "      <th>2</th>\n",
              "      <td>0003_01</td>\n",
              "      <td>Europa</td>\n",
              "      <td>False</td>\n",
              "      <td>A/0/S</td>\n",
              "      <td>TRAPPIST-1e</td>\n",
              "      <td>58.0</td>\n",
              "      <td>True</td>\n",
              "      <td>43.0</td>\n",
              "      <td>3576.0</td>\n",
              "      <td>0.0</td>\n",
              "      <td>6715.0</td>\n",
              "      <td>49.0</td>\n",
              "      <td>Altark Susent</td>\n",
              "      <td>False</td>\n",
              "    </tr>\n",
              "    <tr>\n",
              "      <th>3</th>\n",
              "      <td>0003_02</td>\n",
              "      <td>Europa</td>\n",
              "      <td>False</td>\n",
              "      <td>A/0/S</td>\n",
              "      <td>TRAPPIST-1e</td>\n",
              "      <td>33.0</td>\n",
              "      <td>False</td>\n",
              "      <td>0.0</td>\n",
              "      <td>1283.0</td>\n",
              "      <td>371.0</td>\n",
              "      <td>3329.0</td>\n",
              "      <td>193.0</td>\n",
              "      <td>Solam Susent</td>\n",
              "      <td>False</td>\n",
              "    </tr>\n",
              "    <tr>\n",
              "      <th>4</th>\n",
              "      <td>0004_01</td>\n",
              "      <td>Earth</td>\n",
              "      <td>False</td>\n",
              "      <td>F/1/S</td>\n",
              "      <td>TRAPPIST-1e</td>\n",
              "      <td>16.0</td>\n",
              "      <td>False</td>\n",
              "      <td>303.0</td>\n",
              "      <td>70.0</td>\n",
              "      <td>151.0</td>\n",
              "      <td>565.0</td>\n",
              "      <td>2.0</td>\n",
              "      <td>Willy Santantines</td>\n",
              "      <td>True</td>\n",
              "    </tr>\n",
              "  </tbody>\n",
              "</table>\n",
              "</div>\n",
              "      <button class=\"colab-df-convert\" onclick=\"convertToInteractive('df-70c29a4d-0a5e-4f23-9f1c-b0a6c4b575bf')\"\n",
              "              title=\"Convert this dataframe to an interactive table.\"\n",
              "              style=\"display:none;\">\n",
              "        \n",
              "  <svg xmlns=\"http://www.w3.org/2000/svg\" height=\"24px\"viewBox=\"0 0 24 24\"\n",
              "       width=\"24px\">\n",
              "    <path d=\"M0 0h24v24H0V0z\" fill=\"none\"/>\n",
              "    <path d=\"M18.56 5.44l.94 2.06.94-2.06 2.06-.94-2.06-.94-.94-2.06-.94 2.06-2.06.94zm-11 1L8.5 8.5l.94-2.06 2.06-.94-2.06-.94L8.5 2.5l-.94 2.06-2.06.94zm10 10l.94 2.06.94-2.06 2.06-.94-2.06-.94-.94-2.06-.94 2.06-2.06.94z\"/><path d=\"M17.41 7.96l-1.37-1.37c-.4-.4-.92-.59-1.43-.59-.52 0-1.04.2-1.43.59L10.3 9.45l-7.72 7.72c-.78.78-.78 2.05 0 2.83L4 21.41c.39.39.9.59 1.41.59.51 0 1.02-.2 1.41-.59l7.78-7.78 2.81-2.81c.8-.78.8-2.07 0-2.86zM5.41 20L4 18.59l7.72-7.72 1.47 1.35L5.41 20z\"/>\n",
              "  </svg>\n",
              "      </button>\n",
              "      \n",
              "  <style>\n",
              "    .colab-df-container {\n",
              "      display:flex;\n",
              "      flex-wrap:wrap;\n",
              "      gap: 12px;\n",
              "    }\n",
              "\n",
              "    .colab-df-convert {\n",
              "      background-color: #E8F0FE;\n",
              "      border: none;\n",
              "      border-radius: 50%;\n",
              "      cursor: pointer;\n",
              "      display: none;\n",
              "      fill: #1967D2;\n",
              "      height: 32px;\n",
              "      padding: 0 0 0 0;\n",
              "      width: 32px;\n",
              "    }\n",
              "\n",
              "    .colab-df-convert:hover {\n",
              "      background-color: #E2EBFA;\n",
              "      box-shadow: 0px 1px 2px rgba(60, 64, 67, 0.3), 0px 1px 3px 1px rgba(60, 64, 67, 0.15);\n",
              "      fill: #174EA6;\n",
              "    }\n",
              "\n",
              "    [theme=dark] .colab-df-convert {\n",
              "      background-color: #3B4455;\n",
              "      fill: #D2E3FC;\n",
              "    }\n",
              "\n",
              "    [theme=dark] .colab-df-convert:hover {\n",
              "      background-color: #434B5C;\n",
              "      box-shadow: 0px 1px 3px 1px rgba(0, 0, 0, 0.15);\n",
              "      filter: drop-shadow(0px 1px 2px rgba(0, 0, 0, 0.3));\n",
              "      fill: #FFFFFF;\n",
              "    }\n",
              "  </style>\n",
              "\n",
              "      <script>\n",
              "        const buttonEl =\n",
              "          document.querySelector('#df-70c29a4d-0a5e-4f23-9f1c-b0a6c4b575bf button.colab-df-convert');\n",
              "        buttonEl.style.display =\n",
              "          google.colab.kernel.accessAllowed ? 'block' : 'none';\n",
              "\n",
              "        async function convertToInteractive(key) {\n",
              "          const element = document.querySelector('#df-70c29a4d-0a5e-4f23-9f1c-b0a6c4b575bf');\n",
              "          const dataTable =\n",
              "            await google.colab.kernel.invokeFunction('convertToInteractive',\n",
              "                                                     [key], {});\n",
              "          if (!dataTable) return;\n",
              "\n",
              "          const docLinkHtml = 'Like what you see? Visit the ' +\n",
              "            '<a target=\"_blank\" href=https://colab.research.google.com/notebooks/data_table.ipynb>data table notebook</a>'\n",
              "            + ' to learn more about interactive tables.';\n",
              "          element.innerHTML = '';\n",
              "          dataTable['output_type'] = 'display_data';\n",
              "          await google.colab.output.renderOutput(dataTable, element);\n",
              "          const docLink = document.createElement('div');\n",
              "          docLink.innerHTML = docLinkHtml;\n",
              "          element.appendChild(docLink);\n",
              "        }\n",
              "      </script>\n",
              "    </div>\n",
              "  </div>\n",
              "  "
            ]
          },
          "metadata": {},
          "execution_count": 4
        }
      ],
      "source": [
        "#Create DataFrames for both files\n",
        "train_df = pd.read_csv(train_path)\n",
        "test_df = pd.read_csv(test_path)\n",
        "both_df = [train_df, test_df]\n",
        "train_df.head(5)"
      ]
    },
    {
      "cell_type": "code",
      "execution_count": 5,
      "metadata": {
        "colab": {
          "base_uri": "https://localhost:8080/"
        },
        "id": "46tv7HR4LGW9",
        "outputId": "ef0c441d-13a5-49e1-aaa6-fd0691695d32"
      },
      "outputs": [
        {
          "output_type": "stream",
          "name": "stdout",
          "text": [
            "Index(['PassengerId', 'HomePlanet', 'CryoSleep', 'Cabin', 'Destination', 'Age',\n",
            "       'VIP', 'RoomService', 'FoodCourt', 'ShoppingMall', 'Spa', 'VRDeck',\n",
            "       'Name', 'Transported'],\n",
            "      dtype='object')\n"
          ]
        }
      ],
      "source": [
        "#Let's see attributes of data\n",
        "print(train_df.columns)"
      ]
    },
    {
      "cell_type": "code",
      "execution_count": 6,
      "metadata": {
        "colab": {
          "base_uri": "https://localhost:8080/"
        },
        "id": "66cl5sKVMWHh",
        "outputId": "fd96bd82-ea05-431b-f5dc-82aab5826b7b"
      },
      "outputs": [
        {
          "output_type": "stream",
          "name": "stdout",
          "text": [
            "Train size : (8693, 14)\n",
            "Test size : (4277, 13)\n"
          ]
        }
      ],
      "source": [
        "#See data size\n",
        "print(\"Train size : {}\\nTest size : {}\".format(train_df.shape,test_df.shape))"
      ]
    },
    {
      "cell_type": "code",
      "execution_count": 7,
      "metadata": {
        "colab": {
          "base_uri": "https://localhost:8080/"
        },
        "id": "hlJDtu8dKeB_",
        "outputId": "505fd7b5-406e-47cd-ab93-af7c631a0421"
      },
      "outputs": [
        {
          "output_type": "stream",
          "name": "stdout",
          "text": [
            "<class 'pandas.core.frame.DataFrame'>\n",
            "RangeIndex: 8693 entries, 0 to 8692\n",
            "Data columns (total 14 columns):\n",
            " #   Column        Non-Null Count  Dtype  \n",
            "---  ------        --------------  -----  \n",
            " 0   PassengerId   8693 non-null   object \n",
            " 1   HomePlanet    8492 non-null   object \n",
            " 2   CryoSleep     8476 non-null   object \n",
            " 3   Cabin         8494 non-null   object \n",
            " 4   Destination   8511 non-null   object \n",
            " 5   Age           8514 non-null   float64\n",
            " 6   VIP           8490 non-null   object \n",
            " 7   RoomService   8512 non-null   float64\n",
            " 8   FoodCourt     8510 non-null   float64\n",
            " 9   ShoppingMall  8485 non-null   float64\n",
            " 10  Spa           8510 non-null   float64\n",
            " 11  VRDeck        8505 non-null   float64\n",
            " 12  Name          8493 non-null   object \n",
            " 13  Transported   8693 non-null   bool   \n",
            "dtypes: bool(1), float64(6), object(7)\n",
            "memory usage: 891.5+ KB\n",
            "None\n",
            "----------------------------------------\n",
            "<class 'pandas.core.frame.DataFrame'>\n",
            "RangeIndex: 4277 entries, 0 to 4276\n",
            "Data columns (total 13 columns):\n",
            " #   Column        Non-Null Count  Dtype  \n",
            "---  ------        --------------  -----  \n",
            " 0   PassengerId   4277 non-null   object \n",
            " 1   HomePlanet    4190 non-null   object \n",
            " 2   CryoSleep     4184 non-null   object \n",
            " 3   Cabin         4177 non-null   object \n",
            " 4   Destination   4185 non-null   object \n",
            " 5   Age           4186 non-null   float64\n",
            " 6   VIP           4184 non-null   object \n",
            " 7   RoomService   4195 non-null   float64\n",
            " 8   FoodCourt     4171 non-null   float64\n",
            " 9   ShoppingMall  4179 non-null   float64\n",
            " 10  Spa           4176 non-null   float64\n",
            " 11  VRDeck        4197 non-null   float64\n",
            " 12  Name          4183 non-null   object \n",
            "dtypes: float64(6), object(7)\n",
            "memory usage: 434.5+ KB\n",
            "None\n"
          ]
        }
      ],
      "source": [
        "#Check general info of both files\n",
        "print(train_df.info())\n",
        "print(\"-\"*40)\n",
        "print(test_df.info())"
      ]
    },
    {
      "cell_type": "code",
      "execution_count": 8,
      "metadata": {
        "id": "9jeBKncAK9Se",
        "colab": {
          "base_uri": "https://localhost:8080/"
        },
        "outputId": "36b9fd9b-9f26-458d-b9f8-9da25275b1df"
      },
      "outputs": [
        {
          "output_type": "stream",
          "name": "stdout",
          "text": [
            "Train set\n",
            "PassengerId       0\n",
            "HomePlanet      201\n",
            "CryoSleep       217\n",
            "Cabin           199\n",
            "Destination     182\n",
            "Age             179\n",
            "VIP             203\n",
            "RoomService     181\n",
            "FoodCourt       183\n",
            "ShoppingMall    208\n",
            "Spa             183\n",
            "VRDeck          188\n",
            "Name            200\n",
            "Transported       0\n",
            "dtype: int64\n",
            "----------------------------------------\n",
            "Test set\n",
            "PassengerId       0\n",
            "HomePlanet       87\n",
            "CryoSleep        93\n",
            "Cabin           100\n",
            "Destination      92\n",
            "Age              91\n",
            "VIP              93\n",
            "RoomService      82\n",
            "FoodCourt       106\n",
            "ShoppingMall     98\n",
            "Spa             101\n",
            "VRDeck           80\n",
            "Name             94\n",
            "dtype: int64\n"
          ]
        }
      ],
      "source": [
        "#We have some null in every column, fill methodology will be importat\n",
        "print(\"Train set\")\n",
        "print(train_df.isnull().sum())\n",
        "print(\"-\"*40)\n",
        "print(\"Test set\")\n",
        "print(test_df.isnull().sum())"
      ]
    },
    {
      "cell_type": "code",
      "execution_count": 9,
      "metadata": {
        "colab": {
          "base_uri": "https://localhost:8080/"
        },
        "id": "x58cWGXOvHtq",
        "outputId": "af34ec47-8379-4914-c9dd-d928d7221799"
      },
      "outputs": [
        {
          "output_type": "execute_result",
          "data": {
            "text/plain": [
              "True     4378\n",
              "False    4315\n",
              "Name: Transported, dtype: int64"
            ]
          },
          "metadata": {},
          "execution_count": 9
        }
      ],
      "source": [
        "#Here we see that half of the population was transported\n",
        "train_df[\"Transported\"].value_counts()"
      ]
    },
    {
      "cell_type": "code",
      "execution_count": 9,
      "metadata": {
        "id": "nZ3_pg4yIqbN"
      },
      "outputs": [],
      "source": [
        ""
      ]
    },
    {
      "cell_type": "code",
      "execution_count": 10,
      "metadata": {
        "colab": {
          "base_uri": "https://localhost:8080/",
          "height": 300
        },
        "id": "w5CzgXPbLfxs",
        "outputId": "da84f314-5488-437c-a8e2-332f5b0164b3"
      },
      "outputs": [
        {
          "output_type": "execute_result",
          "data": {
            "text/plain": [
              "               Age   RoomService     FoodCourt  ShoppingMall           Spa  \\\n",
              "count  8514.000000   8512.000000   8510.000000   8485.000000   8510.000000   \n",
              "mean     28.827930    224.687617    458.077203    173.729169    311.138778   \n",
              "std      14.489021    666.717663   1611.489240    604.696458   1136.705535   \n",
              "min       0.000000      0.000000      0.000000      0.000000      0.000000   \n",
              "25%      19.000000      0.000000      0.000000      0.000000      0.000000   \n",
              "50%      27.000000      0.000000      0.000000      0.000000      0.000000   \n",
              "75%      38.000000     47.000000     76.000000     27.000000     59.000000   \n",
              "max      79.000000  14327.000000  29813.000000  23492.000000  22408.000000   \n",
              "\n",
              "             VRDeck  \n",
              "count   8505.000000  \n",
              "mean     304.854791  \n",
              "std     1145.717189  \n",
              "min        0.000000  \n",
              "25%        0.000000  \n",
              "50%        0.000000  \n",
              "75%       46.000000  \n",
              "max    24133.000000  "
            ],
            "text/html": [
              "\n",
              "  <div id=\"df-ce387bab-95e9-4dfd-a5dc-6aceef14e947\">\n",
              "    <div class=\"colab-df-container\">\n",
              "      <div>\n",
              "<style scoped>\n",
              "    .dataframe tbody tr th:only-of-type {\n",
              "        vertical-align: middle;\n",
              "    }\n",
              "\n",
              "    .dataframe tbody tr th {\n",
              "        vertical-align: top;\n",
              "    }\n",
              "\n",
              "    .dataframe thead th {\n",
              "        text-align: right;\n",
              "    }\n",
              "</style>\n",
              "<table border=\"1\" class=\"dataframe\">\n",
              "  <thead>\n",
              "    <tr style=\"text-align: right;\">\n",
              "      <th></th>\n",
              "      <th>Age</th>\n",
              "      <th>RoomService</th>\n",
              "      <th>FoodCourt</th>\n",
              "      <th>ShoppingMall</th>\n",
              "      <th>Spa</th>\n",
              "      <th>VRDeck</th>\n",
              "    </tr>\n",
              "  </thead>\n",
              "  <tbody>\n",
              "    <tr>\n",
              "      <th>count</th>\n",
              "      <td>8514.000000</td>\n",
              "      <td>8512.000000</td>\n",
              "      <td>8510.000000</td>\n",
              "      <td>8485.000000</td>\n",
              "      <td>8510.000000</td>\n",
              "      <td>8505.000000</td>\n",
              "    </tr>\n",
              "    <tr>\n",
              "      <th>mean</th>\n",
              "      <td>28.827930</td>\n",
              "      <td>224.687617</td>\n",
              "      <td>458.077203</td>\n",
              "      <td>173.729169</td>\n",
              "      <td>311.138778</td>\n",
              "      <td>304.854791</td>\n",
              "    </tr>\n",
              "    <tr>\n",
              "      <th>std</th>\n",
              "      <td>14.489021</td>\n",
              "      <td>666.717663</td>\n",
              "      <td>1611.489240</td>\n",
              "      <td>604.696458</td>\n",
              "      <td>1136.705535</td>\n",
              "      <td>1145.717189</td>\n",
              "    </tr>\n",
              "    <tr>\n",
              "      <th>min</th>\n",
              "      <td>0.000000</td>\n",
              "      <td>0.000000</td>\n",
              "      <td>0.000000</td>\n",
              "      <td>0.000000</td>\n",
              "      <td>0.000000</td>\n",
              "      <td>0.000000</td>\n",
              "    </tr>\n",
              "    <tr>\n",
              "      <th>25%</th>\n",
              "      <td>19.000000</td>\n",
              "      <td>0.000000</td>\n",
              "      <td>0.000000</td>\n",
              "      <td>0.000000</td>\n",
              "      <td>0.000000</td>\n",
              "      <td>0.000000</td>\n",
              "    </tr>\n",
              "    <tr>\n",
              "      <th>50%</th>\n",
              "      <td>27.000000</td>\n",
              "      <td>0.000000</td>\n",
              "      <td>0.000000</td>\n",
              "      <td>0.000000</td>\n",
              "      <td>0.000000</td>\n",
              "      <td>0.000000</td>\n",
              "    </tr>\n",
              "    <tr>\n",
              "      <th>75%</th>\n",
              "      <td>38.000000</td>\n",
              "      <td>47.000000</td>\n",
              "      <td>76.000000</td>\n",
              "      <td>27.000000</td>\n",
              "      <td>59.000000</td>\n",
              "      <td>46.000000</td>\n",
              "    </tr>\n",
              "    <tr>\n",
              "      <th>max</th>\n",
              "      <td>79.000000</td>\n",
              "      <td>14327.000000</td>\n",
              "      <td>29813.000000</td>\n",
              "      <td>23492.000000</td>\n",
              "      <td>22408.000000</td>\n",
              "      <td>24133.000000</td>\n",
              "    </tr>\n",
              "  </tbody>\n",
              "</table>\n",
              "</div>\n",
              "      <button class=\"colab-df-convert\" onclick=\"convertToInteractive('df-ce387bab-95e9-4dfd-a5dc-6aceef14e947')\"\n",
              "              title=\"Convert this dataframe to an interactive table.\"\n",
              "              style=\"display:none;\">\n",
              "        \n",
              "  <svg xmlns=\"http://www.w3.org/2000/svg\" height=\"24px\"viewBox=\"0 0 24 24\"\n",
              "       width=\"24px\">\n",
              "    <path d=\"M0 0h24v24H0V0z\" fill=\"none\"/>\n",
              "    <path d=\"M18.56 5.44l.94 2.06.94-2.06 2.06-.94-2.06-.94-.94-2.06-.94 2.06-2.06.94zm-11 1L8.5 8.5l.94-2.06 2.06-.94-2.06-.94L8.5 2.5l-.94 2.06-2.06.94zm10 10l.94 2.06.94-2.06 2.06-.94-2.06-.94-.94-2.06-.94 2.06-2.06.94z\"/><path d=\"M17.41 7.96l-1.37-1.37c-.4-.4-.92-.59-1.43-.59-.52 0-1.04.2-1.43.59L10.3 9.45l-7.72 7.72c-.78.78-.78 2.05 0 2.83L4 21.41c.39.39.9.59 1.41.59.51 0 1.02-.2 1.41-.59l7.78-7.78 2.81-2.81c.8-.78.8-2.07 0-2.86zM5.41 20L4 18.59l7.72-7.72 1.47 1.35L5.41 20z\"/>\n",
              "  </svg>\n",
              "      </button>\n",
              "      \n",
              "  <style>\n",
              "    .colab-df-container {\n",
              "      display:flex;\n",
              "      flex-wrap:wrap;\n",
              "      gap: 12px;\n",
              "    }\n",
              "\n",
              "    .colab-df-convert {\n",
              "      background-color: #E8F0FE;\n",
              "      border: none;\n",
              "      border-radius: 50%;\n",
              "      cursor: pointer;\n",
              "      display: none;\n",
              "      fill: #1967D2;\n",
              "      height: 32px;\n",
              "      padding: 0 0 0 0;\n",
              "      width: 32px;\n",
              "    }\n",
              "\n",
              "    .colab-df-convert:hover {\n",
              "      background-color: #E2EBFA;\n",
              "      box-shadow: 0px 1px 2px rgba(60, 64, 67, 0.3), 0px 1px 3px 1px rgba(60, 64, 67, 0.15);\n",
              "      fill: #174EA6;\n",
              "    }\n",
              "\n",
              "    [theme=dark] .colab-df-convert {\n",
              "      background-color: #3B4455;\n",
              "      fill: #D2E3FC;\n",
              "    }\n",
              "\n",
              "    [theme=dark] .colab-df-convert:hover {\n",
              "      background-color: #434B5C;\n",
              "      box-shadow: 0px 1px 3px 1px rgba(0, 0, 0, 0.15);\n",
              "      filter: drop-shadow(0px 1px 2px rgba(0, 0, 0, 0.3));\n",
              "      fill: #FFFFFF;\n",
              "    }\n",
              "  </style>\n",
              "\n",
              "      <script>\n",
              "        const buttonEl =\n",
              "          document.querySelector('#df-ce387bab-95e9-4dfd-a5dc-6aceef14e947 button.colab-df-convert');\n",
              "        buttonEl.style.display =\n",
              "          google.colab.kernel.accessAllowed ? 'block' : 'none';\n",
              "\n",
              "        async function convertToInteractive(key) {\n",
              "          const element = document.querySelector('#df-ce387bab-95e9-4dfd-a5dc-6aceef14e947');\n",
              "          const dataTable =\n",
              "            await google.colab.kernel.invokeFunction('convertToInteractive',\n",
              "                                                     [key], {});\n",
              "          if (!dataTable) return;\n",
              "\n",
              "          const docLinkHtml = 'Like what you see? Visit the ' +\n",
              "            '<a target=\"_blank\" href=https://colab.research.google.com/notebooks/data_table.ipynb>data table notebook</a>'\n",
              "            + ' to learn more about interactive tables.';\n",
              "          element.innerHTML = '';\n",
              "          dataTable['output_type'] = 'display_data';\n",
              "          await google.colab.output.renderOutput(dataTable, element);\n",
              "          const docLink = document.createElement('div');\n",
              "          docLink.innerHTML = docLinkHtml;\n",
              "          element.appendChild(docLink);\n",
              "        }\n",
              "      </script>\n",
              "    </div>\n",
              "  </div>\n",
              "  "
            ]
          },
          "metadata": {},
          "execution_count": 10
        }
      ],
      "source": [
        "#Check more info of train set\n",
        "#Avg age is almost 30\n",
        "#In every spend attr a lot of people spent almost 0 and some spent a lot\n",
        "#avg people in group is 1.5\n",
        "num_attr = \"Age RoomService FoodCourt ShoppingMall Spa VRDeck\".split(\" \")\n",
        "train_df.describe()"
      ]
    },
    {
      "cell_type": "code",
      "execution_count": 11,
      "metadata": {
        "colab": {
          "base_uri": "https://localhost:8080/",
          "height": 607
        },
        "id": "jfUSOr6zpi7C",
        "outputId": "4748dcbf-c029-401a-f205-c73675bde644"
      },
      "outputs": [
        {
          "output_type": "display_data",
          "data": {
            "text/plain": [
              "<Figure size 720x720 with 6 Axes>"
            ],
            "image/png": "[encoded data removed]"
          },
          "metadata": {}
        }
      ],
      "source": [
        "#Here we can easly see how a few people spent a lot and the mayority spend almost 0.\n",
        "train_df[num_attr].hist(figsize = (10,10))\n",
        "plt.show()"
      ]
    },
    {
      "cell_type": "code",
      "execution_count": 12,
      "metadata": {
        "colab": {
          "base_uri": "https://localhost:8080/"
        },
        "id": "74CBHizSRwQB",
        "outputId": "1c39127b-4f13-4be3-b374-cf4db9c7fd32"
      },
      "outputs": [
        {
          "output_type": "stream",
          "name": "stdout",
          "text": [
            "Age interval\n",
            "(-0.001, 13.0]    947\n",
            "(13.0, 18.0]      918\n",
            "(35.0, 41.0]      911\n",
            "(21.0, 24.0]      907\n",
            "(27.0, 31.0]      882\n",
            "(18.0, 21.0]      881\n",
            "(49.0, 79.0]      811\n",
            "(41.0, 49.0]      791\n",
            "(24.0, 27.0]      770\n",
            "(31.0, 35.0]      696\n",
            "Name: Age, dtype: int64\n",
            "--------------------------------------------------\n",
            "RoomService interval\n",
            "(-0.001, 8.0]       5974\n",
            "(175.6, 753.0]       852\n",
            "(753.0, 14327.0]     851\n",
            "(8.0, 175.6]         835\n",
            "Name: RoomService, dtype: int64\n",
            "--------------------------------------------------\n",
            "FoodCourt interval\n",
            "(-0.001, 13.0]       5967\n",
            "(258.0, 1026.0]       851\n",
            "(1026.0, 29813.0]     850\n",
            "(13.0, 258.0]         842\n",
            "Name: FoodCourt, dtype: int64\n",
            "--------------------------------------------------\n",
            "ShoppingMall interval\n",
            "(-0.001, 5.0]       5962\n",
            "(619.6, 23492.0]     849\n",
            "(97.0, 619.6]        847\n",
            "(5.0, 97.0]          827\n",
            "Name: ShoppingMall, dtype: int64\n",
            "--------------------------------------------------\n",
            "Spa interval\n",
            "(-0.001, 15.0]      5971\n",
            "(179.2, 732.0]       854\n",
            "(732.0, 22408.0]     848\n",
            "(15.0, 179.2]        837\n",
            "Name: Spa, dtype: int64\n",
            "--------------------------------------------------\n",
            "VRDeck interval\n",
            "(-0.001, 9.0]       5974\n",
            "(732.6, 24133.0]     851\n",
            "(156.2, 732.6]       850\n",
            "(9.0, 156.2]         830\n",
            "Name: VRDeck, dtype: int64\n",
            "--------------------------------------------------\n"
          ]
        }
      ],
      "source": [
        "#Here we can see most people did not spend more than 10 dolars per attr\n",
        "#Most people traveled alone\n",
        "for attr in num_attr:\n",
        "  print(f\"{attr} interval\")\n",
        "  print(pd.qcut(train_df[attr], q = 10, duplicates = \"drop\").value_counts())\n",
        "  print(\"-\"*50)"
      ]
    },
    {
      "cell_type": "code",
      "execution_count": 13,
      "metadata": {
        "colab": {
          "base_uri": "https://localhost:8080/",
          "height": 722
        },
        "id": "w91lKSymVm1Z",
        "outputId": "225cb001-33b8-44f8-e7a1-9e9d08745603"
      },
      "outputs": [
        {
          "output_type": "display_data",
          "data": {
            "text/plain": [
              "<Figure size 1008x864 with 2 Axes>"
            ],
            "image/png": "[encoded data removed]"
          },
          "metadata": {}
        }
      ],
      "source": [
        "#Check correlation between money attr and vip\n",
        "colormap = plt.cm.RdBu\n",
        "plt.figure(figsize=(14,12))\n",
        "plt.title('Correlation of Features', y=1.05, size=15)\n",
        "sns.heatmap(train_df[num_attr + [\"VIP\"] ].astype(float).corr(),linewidths=0.1,vmax=1.0, \n",
        "            square=True, cmap=colormap, linecolor='white', annot=True)\n",
        "plt.show()"
      ]
    },
    {
      "cell_type": "code",
      "execution_count": 14,
      "metadata": {
        "colab": {
          "base_uri": "https://localhost:8080/",
          "height": 175
        },
        "id": "z5qTbduwNQ-j",
        "outputId": "de495afd-8bd6-4dd4-a55f-151fef18760d"
      },
      "outputs": [
        {
          "output_type": "execute_result",
          "data": {
            "text/plain": [
              "       PassengerId HomePlanet CryoSleep    Cabin  Destination    VIP  \\\n",
              "count         8693       8492      8476     8494         8511   8490   \n",
              "unique        8693          3         2     6560            3      2   \n",
              "top        0001_01      Earth     False  G/734/S  TRAPPIST-1e  False   \n",
              "freq             1       4602      5439        8         5915   8291   \n",
              "\n",
              "                  Name  \n",
              "count             8493  \n",
              "unique            8473  \n",
              "top     Gollux Reedall  \n",
              "freq                 2  "
            ],
            "text/html": [
              "\n",
              "  <div id=\"df-0199cf75-3259-4510-b16b-98956380b55e\">\n",
              "    <div class=\"colab-df-container\">\n",
              "      <div>\n",
              "<style scoped>\n",
              "    .dataframe tbody tr th:only-of-type {\n",
              "        vertical-align: middle;\n",
              "    }\n",
              "\n",
              "    .dataframe tbody tr th {\n",
              "        vertical-align: top;\n",
              "    }\n",
              "\n",
              "    .dataframe thead th {\n",
              "        text-align: right;\n",
              "    }\n",
              "</style>\n",
              "<table border=\"1\" class=\"dataframe\">\n",
              "  <thead>\n",
              "    <tr style=\"text-align: right;\">\n",
              "      <th></th>\n",
              "      <th>PassengerId</th>\n",
              "      <th>HomePlanet</th>\n",
              "      <th>CryoSleep</th>\n",
              "      <th>Cabin</th>\n",
              "      <th>Destination</th>\n",
              "      <th>VIP</th>\n",
              "      <th>Name</th>\n",
              "    </tr>\n",
              "  </thead>\n",
              "  <tbody>\n",
              "    <tr>\n",
              "      <th>count</th>\n",
              "      <td>8693</td>\n",
              "      <td>8492</td>\n",
              "      <td>8476</td>\n",
              "      <td>8494</td>\n",
              "      <td>8511</td>\n",
              "      <td>8490</td>\n",
              "      <td>8493</td>\n",
              "    </tr>\n",
              "    <tr>\n",
              "      <th>unique</th>\n",
              "      <td>8693</td>\n",
              "      <td>3</td>\n",
              "      <td>2</td>\n",
              "      <td>6560</td>\n",
              "      <td>3</td>\n",
              "      <td>2</td>\n",
              "      <td>8473</td>\n",
              "    </tr>\n",
              "    <tr>\n",
              "      <th>top</th>\n",
              "      <td>0001_01</td>\n",
              "      <td>Earth</td>\n",
              "      <td>False</td>\n",
              "      <td>G/734/S</td>\n",
              "      <td>TRAPPIST-1e</td>\n",
              "      <td>False</td>\n",
              "      <td>Gollux Reedall</td>\n",
              "    </tr>\n",
              "    <tr>\n",
              "      <th>freq</th>\n",
              "      <td>1</td>\n",
              "      <td>4602</td>\n",
              "      <td>5439</td>\n",
              "      <td>8</td>\n",
              "      <td>5915</td>\n",
              "      <td>8291</td>\n",
              "      <td>2</td>\n",
              "    </tr>\n",
              "  </tbody>\n",
              "</table>\n",
              "</div>\n",
              "      <button class=\"colab-df-convert\" onclick=\"convertToInteractive('df-0199cf75-3259-4510-b16b-98956380b55e')\"\n",
              "              title=\"Convert this dataframe to an interactive table.\"\n",
              "              style=\"display:none;\">\n",
              "        \n",
              "  <svg xmlns=\"http://www.w3.org/2000/svg\" height=\"24px\"viewBox=\"0 0 24 24\"\n",
              "       width=\"24px\">\n",
              "    <path d=\"M0 0h24v24H0V0z\" fill=\"none\"/>\n",
              "    <path d=\"M18.56 5.44l.94 2.06.94-2.06 2.06-.94-2.06-.94-.94-2.06-.94 2.06-2.06.94zm-11 1L8.5 8.5l.94-2.06 2.06-.94-2.06-.94L8.5 2.5l-.94 2.06-2.06.94zm10 10l.94 2.06.94-2.06 2.06-.94-2.06-.94-.94-2.06-.94 2.06-2.06.94z\"/><path d=\"M17.41 7.96l-1.37-1.37c-.4-.4-.92-.59-1.43-.59-.52 0-1.04.2-1.43.59L10.3 9.45l-7.72 7.72c-.78.78-.78 2.05 0 2.83L4 21.41c.39.39.9.59 1.41.59.51 0 1.02-.2 1.41-.59l7.78-7.78 2.81-2.81c.8-.78.8-2.07 0-2.86zM5.41 20L4 18.59l7.72-7.72 1.47 1.35L5.41 20z\"/>\n",
              "  </svg>\n",
              "      </button>\n",
              "      \n",
              "  <style>\n",
              "    .colab-df-container {\n",
              "      display:flex;\n",
              "      flex-wrap:wrap;\n",
              "      gap: 12px;\n",
              "    }\n",
              "\n",
              "    .colab-df-convert {\n",
              "      background-color: #E8F0FE;\n",
              "      border: none;\n",
              "      border-radius: 50%;\n",
              "      cursor: pointer;\n",
              "      display: none;\n",
              "      fill: #1967D2;\n",
              "      height: 32px;\n",
              "      padding: 0 0 0 0;\n",
              "      width: 32px;\n",
              "    }\n",
              "\n",
              "    .colab-df-convert:hover {\n",
              "      background-color: #E2EBFA;\n",
              "      box-shadow: 0px 1px 2px rgba(60, 64, 67, 0.3), 0px 1px 3px 1px rgba(60, 64, 67, 0.15);\n",
              "      fill: #174EA6;\n",
              "    }\n",
              "\n",
              "    [theme=dark] .colab-df-convert {\n",
              "      background-color: #3B4455;\n",
              "      fill: #D2E3FC;\n",
              "    }\n",
              "\n",
              "    [theme=dark] .colab-df-convert:hover {\n",
              "      background-color: #434B5C;\n",
              "      box-shadow: 0px 1px 3px 1px rgba(0, 0, 0, 0.15);\n",
              "      filter: drop-shadow(0px 1px 2px rgba(0, 0, 0, 0.3));\n",
              "      fill: #FFFFFF;\n",
              "    }\n",
              "  </style>\n",
              "\n",
              "      <script>\n",
              "        const buttonEl =\n",
              "          document.querySelector('#df-0199cf75-3259-4510-b16b-98956380b55e button.colab-df-convert');\n",
              "        buttonEl.style.display =\n",
              "          google.colab.kernel.accessAllowed ? 'block' : 'none';\n",
              "\n",
              "        async function convertToInteractive(key) {\n",
              "          const element = document.querySelector('#df-0199cf75-3259-4510-b16b-98956380b55e');\n",
              "          const dataTable =\n",
              "            await google.colab.kernel.invokeFunction('convertToInteractive',\n",
              "                                                     [key], {});\n",
              "          if (!dataTable) return;\n",
              "\n",
              "          const docLinkHtml = 'Like what you see? Visit the ' +\n",
              "            '<a target=\"_blank\" href=https://colab.research.google.com/notebooks/data_table.ipynb>data table notebook</a>'\n",
              "            + ' to learn more about interactive tables.';\n",
              "          element.innerHTML = '';\n",
              "          dataTable['output_type'] = 'display_data';\n",
              "          await google.colab.output.renderOutput(dataTable, element);\n",
              "          const docLink = document.createElement('div');\n",
              "          docLink.innerHTML = docLinkHtml;\n",
              "          element.appendChild(docLink);\n",
              "        }\n",
              "      </script>\n",
              "    </div>\n",
              "  </div>\n",
              "  "
            ]
          },
          "metadata": {},
          "execution_count": 14
        }
      ],
      "source": [
        "#Some repeated names\n",
        "#3 different planets\n",
        "#Most people had unique cabin\n",
        "#3 different destinantion\n",
        "train_df.describe(include=[\"O\"])"
      ]
    },
    {
      "cell_type": "code",
      "execution_count": 15,
      "metadata": {
        "colab": {
          "base_uri": "https://localhost:8080/"
        },
        "id": "3Idqq2_TOfzt",
        "outputId": "85299111-a853-4079-d8a4-50bb66cc68d3"
      },
      "outputs": [
        {
          "output_type": "stream",
          "name": "stdout",
          "text": [
            "            Transported\n",
            "HomePlanet             \n",
            "Earth          0.423946\n",
            "Europa         0.658846\n",
            "Mars           0.523024\n",
            "           Transported\n",
            "CryoSleep             \n",
            "False         0.328921\n",
            "True          0.817583\n",
            "               Transported\n",
            "Destination               \n",
            "55 Cancri e       0.610000\n",
            "PSO J318.5-22     0.503769\n",
            "TRAPPIST-1e       0.471175\n",
            "       Transported\n",
            "VIP               \n",
            "False     0.506332\n",
            "True      0.381910\n"
          ]
        }
      ],
      "source": [
        "#Let's check how cattegorical attributes affect target one (Transported)\n",
        "#As we can see Cryosleep seems really importat \n",
        "interesting_attr = \"HomePlanet CryoSleep Destination VIP\".split(\" \")\n",
        "for attr in interesting_attr:\n",
        "  print(train_df[[\"Transported\",attr]].groupby(attr).mean())"
      ]
    },
    {
      "cell_type": "code",
      "source": [
        "def spendcheck(spend_attr, x, dataframe = train_df, hue = None):\n",
        "  #Create plot of spend attr vs x of specified kind\n",
        "  # attr : spend_attr : list of spend attributes\n",
        "  # attr: x : target to compare\n",
        "  # attr : kind : type of graph\n",
        "  # attr : dataframe: source dataframe\n",
        "\n",
        "  fig, axes = plt.subplots(2,3, figsize=(15,10))\n",
        "  graph_order = list(zip(spend_attr[0:3], axes[0])) + list(zip(spend_attr[3:5], axes[1]))\n",
        "\n",
        "  for attr, ax in graph_order:\n",
        "    sns.barplot(x = x, y = attr, data = dataframe, ax = ax, hue = hue)\n",
        "  axes[1,2].set_visible(False)  \n"
      ],
      "metadata": {
        "id": "yveJJ8I-BDHy"
      },
      "execution_count": 16,
      "outputs": []
    },
    {
      "cell_type": "code",
      "source": [
        "#Create spend attr list\n",
        "spend_attr = \"RoomService FoodCourt ShoppingMall Spa VRDeck\".split(\" \")"
      ],
      "metadata": {
        "id": "pk1XiT7qGE-F"
      },
      "execution_count": 17,
      "outputs": []
    },
    {
      "cell_type": "code",
      "source": [
        "#Here we can see cryospleep people did not spend a single dolar\n",
        "#remember cryosleep is strongly correlate to target var so study how to fill this attr is really important\n",
        "spendcheck(x = \"CryoSleep\", spend_attr=spend_attr)"
      ],
      "metadata": {
        "id": "De4EJyyfFRBM",
        "colab": {
          "base_uri": "https://localhost:8080/",
          "height": 608
        },
        "outputId": "a3bfd87e-4941-4730-9dd9-68c1d7ef7b0d"
      },
      "execution_count": 18,
      "outputs": [
        {
          "output_type": "display_data",
          "data": {
            "text/plain": [
              "<Figure size 1080x720 with 6 Axes>"
            ],
            "image/png": "[encoded data removed]"
          },
          "metadata": {}
        }
      ]
    },
    {
      "cell_type": "code",
      "execution_count": 19,
      "metadata": {
        "id": "eFKuGSkV4CLo",
        "colab": {
          "base_uri": "https://localhost:8080/",
          "height": 607
        },
        "outputId": "03c6948d-bf8b-4dd4-a3d6-816560b88b18"
      },
      "outputs": [
        {
          "output_type": "display_data",
          "data": {
            "text/plain": [
              "<Figure size 1080x720 with 6 Axes>"
            ],
            "image/png": "[encoded data removed]"
          },
          "metadata": {}
        }
      ],
      "source": [
        "#In correlation matrix we saw vip people spend more so we can use money spend as threshold for vip  \n",
        "spendcheck(x = \"VIP\", spend_attr=spend_attr)"
      ]
    },
    {
      "cell_type": "code",
      "source": [
        "#Here we can see there are not vips cryosleeping so we can safely use the total spend criteria for filling null vips\n",
        "sns.countplot(x = \"CryoSleep\", data = train_df, hue = \"VIP\")\n",
        "plt.show()"
      ],
      "metadata": {
        "colab": {
          "base_uri": "https://localhost:8080/",
          "height": 279
        },
        "id": "zZuVDURZBH6u",
        "outputId": "cc4b93ff-32ef-4999-963b-a04ab8e42c37"
      },
      "execution_count": 20,
      "outputs": [
        {
          "output_type": "display_data",
          "data": {
            "text/plain": [
              "<Figure size 432x288 with 1 Axes>"
            ],
            "image/png": "[encoded data removed]"
          },
          "metadata": {}
        }
      ]
    },
    {
      "cell_type": "code",
      "source": [
        "#We can fill some cryosleep with the new attr total spend when total spend is not 0 cryosleep is false when it is 0 it is true\n",
        "train_df[\"TotalSpend\"] = train_df[\"RoomService\"] + train_df[\"FoodCourt\"] + train_df[\"Spa\"] + train_df[\"VRDeck\"] + train_df[\"ShoppingMall\"] \n",
        "condition = (train_df[\"CryoSleep\"].isnull()) & (train_df[\"TotalSpend\"] == 0)\n",
        "print(train_df.loc[condition][[\"CryoSleep\", \"TotalSpend\"]].head(3))\n",
        "#Let's throw this column and create a class to add new attr so we can implement this in a pipeline\n",
        "train_df.drop(\"TotalSpend\", axis = 1 , inplace = True)"
      ],
      "metadata": {
        "id": "HMkA6mG8J4gr",
        "colab": {
          "base_uri": "https://localhost:8080/"
        },
        "outputId": "e8c59758-64f1-49b7-c6c7-62ca191f5ed3"
      },
      "execution_count": 21,
      "outputs": [
        {
          "output_type": "stream",
          "name": "stdout",
          "text": [
            "    CryoSleep  TotalSpend\n",
            "92        NaN         0.0\n",
            "175       NaN         0.0\n",
            "266       NaN         0.0\n"
          ]
        }
      ]
    },
    {
      "cell_type": "code",
      "source": [
        "#Let's check HomePlanets patterns and try to fill them.\n",
        "#Here we can see that if someone destination is PSO J318 then their home planet is likely to be the earth\n",
        "#So we can fill null home planets with destination people going to PSO will be filled with earth\n",
        "#people going to 55 Cancri will be filled to Europa and Earth \n",
        "#people going to TRAPPiST will be filled to each planet but earth will have a bigger weight\n",
        "sns.countplot(x = \"HomePlanet\", data = train_df, hue = \"Destination\")\n",
        "plt.show()"
      ],
      "metadata": {
        "colab": {
          "base_uri": "https://localhost:8080/",
          "height": 279
        },
        "id": "Z1e0KvkqtLB7",
        "outputId": "5eebf123-4cd3-463f-b5c1-036c24b1a69a"
      },
      "execution_count": 22,
      "outputs": [
        {
          "output_type": "display_data",
          "data": {
            "text/plain": [
              "<Figure size 432x288 with 1 Axes>"
            ],
            "image/png": "[encoded data removed]"
          },
          "metadata": {}
        }
      ]
    },
    {
      "cell_type": "code",
      "source": [
        "#From kaggle spaceship titanic comp we can read that:\n",
        "#CryoSleep - Indicates whether the passenger elected to be put into suspended animation for the duration of the voyage. \n",
        "#Passengers in cryosleep are confined to their cabins.\n",
        "#The cabin number where the passenger is staying. Takes the form deck/num/side, where side can be either P for Port or S for Starboard\n",
        "#Let's extract side from cabbin\n",
        "train_df[\"Cabin\"][0]"
      ],
      "metadata": {
        "colab": {
          "base_uri": "https://localhost:8080/",
          "height": 36
        },
        "id": "oGhyQmB-3CSn",
        "outputId": "10fa1915-5f33-46b6-deba-a7ebe117fe33"
      },
      "execution_count": 23,
      "outputs": [
        {
          "output_type": "execute_result",
          "data": {
            "text/plain": [
              "'B/0/P'"
            ],
            "application/vnd.google.colaboratory.intrinsic+json": {
              "type": "string"
            }
          },
          "metadata": {},
          "execution_count": 23
        }
      ]
    },
    {
      "cell_type": "code",
      "source": [
        "#In the data description some attr have hiden info let's extract it\n",
        "#For example PassengerId is of the form gggg_pp where gggg indicates group and\n",
        "#pp number of people in group we can extract each in different columns and drop \n",
        "#passengerid, REMEMBER passid has not nulls so we can do this before filling nulls.\n",
        "train_df[\"PassengerId\"][:5]"
      ],
      "metadata": {
        "colab": {
          "base_uri": "https://localhost:8080/"
        },
        "id": "DxkDLh3f9Ouy",
        "outputId": "86cb293a-0291-4b63-bb24-266bac6f1772"
      },
      "execution_count": 24,
      "outputs": [
        {
          "output_type": "execute_result",
          "data": {
            "text/plain": [
              "0    0001_01\n",
              "1    0002_01\n",
              "2    0003_01\n",
              "3    0003_02\n",
              "4    0004_01\n",
              "Name: PassengerId, dtype: object"
            ]
          },
          "metadata": {},
          "execution_count": 24
        }
      ]
    },
    {
      "cell_type": "code",
      "source": [
        "#Spend money doesn't look helpful for filling nulls in destination\n",
        "spendcheck(x = \"Destination\", spend_attr=spend_attr)"
      ],
      "metadata": {
        "colab": {
          "base_uri": "https://localhost:8080/",
          "height": 606
        },
        "id": "cCVGQzgTDd3w",
        "outputId": "859f1040-8dd5-433d-c9e2-85eda81e9053"
      },
      "execution_count": 70,
      "outputs": [
        {
          "output_type": "display_data",
          "data": {
            "text/plain": [
              "<Figure size 1080x720 with 6 Axes>"
            ],
            "image/png": "[encoded data removed]"
          },
          "metadata": {}
        }
      ]
    },
    {
      "cell_type": "code",
      "source": [
        "#As we can see here most people go to TRAPPIST so we can fill destination with TRAPPIST and maybe change when we see how good is model.\n",
        "#TRAPPIST is the planet with lowest transported rate, as i said if model performs bad this maybe the first thing I change.\n",
        "sns.countplot(x = \"Destination\", data = train_df)\n",
        "plt.show()"
      ],
      "metadata": {
        "colab": {
          "base_uri": "https://localhost:8080/",
          "height": 279
        },
        "id": "C-4QBogpEg7I",
        "outputId": "8a4d616b-8662-4aa7-f5ce-bd33f412ebd2"
      },
      "execution_count": 74,
      "outputs": [
        {
          "output_type": "display_data",
          "data": {
            "text/plain": [
              "<Figure size 432x288 with 1 Axes>"
            ],
            "image/png": "[encoded data removed]"
          },
          "metadata": {}
        }
      ]
    },
    {
      "cell_type": "markdown",
      "source": [
        "## Inferences\n",
        "- We can fill CryoSleep attribute creating a new class named totalspend and fill null CryoSleep where totaspend is 0 CryoSleep is True and where totalspend is not 0 CryoSleep is False.\n",
        "- Age is not high std so i will fill it with mean +/- one std.\n",
        "- We can fill some null HomePlanet based on Destination.\n",
        "- Crete two new attr Port and Starboard from Cabin.\n",
        "- Create two new attributes People group and number of people in that group.\n",
        "- Use total spend as a threshold for vip null filling."
      ],
      "metadata": {
        "id": "--h-Tz-vsHOx"
      }
    },
    {
      "cell_type": "code",
      "source": [
        "class GeneralTransformer(BaseEstimator, TransformerMixin):\n",
        "#General Transformer class created to save some time\n",
        "  def __init__(self):\n",
        "    return self\n",
        "  def fit(self, X, y = None):\n",
        "    return self"
      ],
      "metadata": {
        "id": "MY4SU8u9fTeR"
      },
      "execution_count": 25,
      "outputs": []
    },
    {
      "cell_type": "code",
      "source": [
        "class NullFiller(GeneralTransformer):\n",
        "#Given a dict with key as col name and a method as value and a dataframe\n",
        "#returns the same array with filled values following filling methodology. \n",
        "  def __init__(self, fill_age = False, fill_0_spend = False, fill_homeplanet = False, fill_vip = False, fill_destination = False, fill_spend_attr = False):\n",
        "      self.fill_age = fill_age\n",
        "      self.fill_0_spend = fill_0_spend\n",
        "      self.fill_homeplanet = fill_homeplanet\n",
        "      self.fill_vip = fill_vip\n",
        "      self.fill_destination = fill_destination\n",
        "      self.fill_spend_attr = fill_spend_attr\n",
        "\n",
        "  def age_generator(self, data):\n",
        "  #Create random ages between mean and one std.\n",
        "    rn = np.random.randint(low = data[\"Age\"].mean() - data[\"Age\"].std() , \n",
        "                          high = data[\"Age\"].mean() + data[\"Age\"].std() )\n",
        "    return rn\n",
        "\n",
        "\n",
        "  def transform(self, X, y = None):\n",
        "    \n",
        "    if self.fill_age :\n",
        "      condition = X[\"Age\"].isnull()\n",
        "      null_index = X[\"Age\"][condition].index\n",
        "      for index in null_index:\n",
        "        X.loc[index, \"Age\"] = self.age_generator(data = X)\n",
        "      \n",
        "    if self.fill_0_spend:\n",
        "      no_condition = (X[\"CryoSleep\"].isnull()) & (X[\"TotalSpend\"] == 0) \n",
        "      condition = (X[\"CryoSleep\"].isnull()) & (X[\"TotalSpend\"] != 0)\n",
        "      X.loc[no_condition, \"CryoSleep\"] = True\n",
        "      X.loc[condition, \"CryoSleep\"] = False\n",
        "\n",
        "    if self.fill_homeplanet:\n",
        "      condition = (X[\"Destination\"] == \"PSO J318.5-22\") &  (X[\"HomePlanet\"].isnull())\n",
        "      X.loc[condition, \"HomePlanet\"] = \"Earth\"\n",
        "      \n",
        "      \n",
        "      condition = (X[\"Destination\"] == \"55 Cancri e\") &  (X[\"HomePlanet\"].isnull())\n",
        "      null_index = X[\"HomePlanet\"][condition].index \n",
        "      for index in null_index:\n",
        "        random_number = np.random.randint(0,1)\n",
        "        if random_number == 1 : \n",
        "          X.loc[index, \"HomePlanet\"] = \"Europa\"\n",
        "        else : \n",
        "          X.loc[index, \"HomePlanet\"] = \"Earth\" \n",
        "        \n",
        "      \n",
        "      condition = (X[\"Destination\"] == \"TRAPPIST-1e\") &  (X[\"HomePlanet\"].isnull())             \n",
        "      null_index = X[\"HomePlanet\"][condition].index\n",
        "      for index in null_index:\n",
        "        random_number = (0,3)\n",
        "        if random_number == 0:\n",
        "          X.loc[index, \"HomePlanet\"] = \"Europa\"\n",
        "        elif random_number == 1:\n",
        "          X.loc[index, \"HomePlanet\"] = \"Mars\"\n",
        "        else :\n",
        "          X.loc[index, \"HomePlanet\"] = \"Earth\"\n",
        "\n",
        "      condition = X[\"HomePlanet\"].isnull()\n",
        "      X.loc[condition, \"HomePlanet\"] = \"Earth\"\n",
        "    \n",
        "    if self.fill_vip:\n",
        "      condition = X[\"VIP\"] == True\n",
        "      vip_spend = X.loc[condition, \"TotalSpend\"].mean()\n",
        "      null_index = X[\"VIP\"].isnull()\n",
        "      vip_con = (null_index) & (X[\"TotalSpend\"]>=vip_spend)\n",
        "      no_vip = (null_index) & (X[\"TotalSpend\"]<vip_spend)\n",
        "      X.loc[vip_con,\"VIP\"] = True\n",
        "      X.loc[no_vip,\"VIP\"] = False\n",
        "      null_index = X[\"VIP\"].isnull()\n",
        "      X.loc[null_index, \"VIP\"] = True\n",
        "    \n",
        "    if self.fill_destination:\n",
        "      null_index = X[\"Destination\"].isnull()\n",
        "      X.loc[null_index, \"Destination\"] = \"TRAPPIST-1e\" \n",
        "\n",
        "    if self.fill_spend_attr:\n",
        "      #spend_attr = \"RoomService FoodCourt ShoppingMall Spa VRDeck\".split(\" \")\n",
        "      X.fillna(X.mean(), inplace = True)\n",
        "    \n",
        "    return X\n"
      ],
      "metadata": {
        "id": "kBqpt5W2fqqq"
      },
      "execution_count": 162,
      "outputs": []
    },
    {
      "cell_type": "code",
      "execution_count": 163,
      "metadata": {
        "id": "rBnE7a4EpfQx"
      },
      "outputs": [],
      "source": [
        "#Here I define a class to create intervals of continuous attributes\n",
        "class IntervalGenerator(GeneralTransformer):\n",
        "#Given a DF and columns name of dataframe create int label column\n",
        "#param: cuts:int number of cuts 4 for quantiles 10 for deciles\n",
        "#param: drop status: bool if true drop original column   \n",
        "  def __init__(self,cols, drop_status = False ,cuts = 4, stick_interval = False):\n",
        "    self.cuts = cuts\n",
        "    self.drop_status = drop_status\n",
        "    self.cols = cols\n",
        "    self.stick_interval = stick_interval\n",
        "\n",
        "  def transform(self, X, y=None):\n",
        "    columns = self.cols\n",
        "    if type(columns) is list:\n",
        "      pass\n",
        "    else :\n",
        "      raise Exception(\"Names must be in a list\")\n",
        "    \n",
        "    for column in columns:\n",
        "      labels_ = [i for i in range(self.cuts)]\n",
        "      label_interval = pd.qcut(X[column], q = self.cuts, labels = labels_)\n",
        "      X[f\"{column}Label\"] = label_interval\n",
        "      if self.stick_interval:\n",
        "        X[f\"{column}Interval\"] = intervals\n",
        "        intervals = pd.qcut(X[column], q = self.cuts)\n",
        "      if self.drop_status:\n",
        "        X.drop(column, axis = 1, inplace = True)\n",
        "      \n",
        "    return X    "
      ]
    },
    {
      "cell_type": "code",
      "source": [
        "class AttrDroper(GeneralTransformer):\n",
        "#Drop an attr from a df given a name or a list of names\n",
        "  def __init__(self,columns):\n",
        "    self.columns = columns\n",
        "\n",
        "  def transform(self, X, y = None):\n",
        "    X.drop(self.columns, axis = 1, inplace = True)\n",
        "    return X"
      ],
      "metadata": {
        "id": "NBpm8k9KYLpY"
      },
      "execution_count": 164,
      "outputs": []
    },
    {
      "cell_type": "code",
      "source": [
        "class AttrAdder(GeneralTransformer):\n",
        "  #Add attr to dataframe, condition is formated as add_attr = (add attr =True/False , drop columns used to add attr =True/False)\n",
        "  def __init__(self, add_totalspend = (False,False), add_p_s = (False,False), add_group_people = (False,False) ):\n",
        "    self.add_totalspend = add_totalspend\n",
        "    self.add_p_s = add_p_s\n",
        "    self.add_group_people = add_group_people\n",
        "\n",
        "  def transform(self, X, y = None):\n",
        "    if self.add_totalspend[0]:\n",
        "      X[\"TotalSpend\"] = X[\"RoomService\"] + X[\"FoodCourt\"] + X[\"Spa\"] + X[\"VRDeck\"] + X[\"ShoppingMall\"]\n",
        "      if self.add_totalspend[1]:\n",
        "        X.drop([\"RoomService\", \"FoodCourt\", \"Spa\", \"VRDeck\", \"ShoppingMall\"], axis = 1, inplace = True)\n",
        "\n",
        "    if self.add_p_s[0]:\n",
        "      place_record = X[\"Cabin\"].str.split(\"/\").str[-1].values\n",
        "      X.loc[place_record == \"S\", \"Starboard\"] = 1\n",
        "      X.loc[place_record != \"S\", \"Starboard\"] = 0\n",
        "      X.loc[place_record == \"P\", \"Port\"] = 1\n",
        "      X.loc[place_record != \"P\", \"Port\"] = 0\n",
        "      \n",
        "      if self.add_p_s[1]:\n",
        "        X.drop(\"Cabin\", axis = 1, inplace = True)\n",
        "\n",
        "    if self.add_group_people[0]:\n",
        "      X[[\"Group\",\"PeopleGroup\"]] =  X[\"PassengerId\"].str.split(\"_\", expand = True).astype(int)\n",
        "      if self.add_group_people[1]:\n",
        "        X.drop(\"PassengerId\", axis = 1, inplace = True)          \n",
        "    \n",
        "    return X"
      ],
      "metadata": {
        "id": "wTLOiV7P3onx"
      },
      "execution_count": 165,
      "outputs": []
    },
    {
      "cell_type": "code",
      "source": [
        "#Create DataFrames for both files\n",
        "train_df = pd.read_csv(train_path)\n",
        "test_df = pd.read_csv(test_path)\n",
        "both_df = [train_df, test_df]"
      ],
      "metadata": {
        "id": "AvNzNvMzCe2n"
      },
      "execution_count": 166,
      "outputs": []
    },
    {
      "cell_type": "code",
      "source": [
        "first_steps = [\n",
        "               (\"Add total spend\", AttrAdder(add_totalspend=(True,False))),\n",
        "               (\"Add port and starboard\", AttrAdder(add_p_s=(True,False))),\n",
        "               (\"Add people in group and group and drop id\", AttrAdder(add_group_people=(True,True))),\n",
        "               (\"Fill age and cat attr\", NullFiller(fill_age=True, fill_0_spend=True, fill_homeplanet=True, fill_vip=True, fill_destination = True)),\n",
        "               (\"Drop total spend, name and cabin\", AttrDroper ([\"TotalSpend\",\"Name\",\"Cabin\" ])),\n",
        "               (\"Generate age labels and drop age\", IntervalGenerator([\"Age\"], drop_status=True )),\n",
        "               (\"Fill spend attr with mean\", NullFiller(fill_spend_attr=True)),\n",
        "              ]"
      ],
      "metadata": {
        "id": "U0xICJAh1RCx"
      },
      "execution_count": 167,
      "outputs": []
    },
    {
      "cell_type": "code",
      "source": [
        "first_pipeline = Pipeline(steps = first_steps)"
      ],
      "metadata": {
        "id": "7aFxe80I1LFA"
      },
      "execution_count": 168,
      "outputs": []
    },
    {
      "cell_type": "code",
      "source": [
        "prepared_data =first_pipeline.fit_transform(train_df)\n",
        "prepared_data.info()"
      ],
      "metadata": {
        "colab": {
          "base_uri": "https://localhost:8080/"
        },
        "id": "PBUkC3cd2ZWY",
        "outputId": "c3ab0a2e-0eb8-4ba3-fe3e-488184a02c66"
      },
      "execution_count": 169,
      "outputs": [
        {
          "output_type": "stream",
          "name": "stdout",
          "text": [
            "<class 'pandas.core.frame.DataFrame'>\n",
            "RangeIndex: 8693 entries, 0 to 8692\n",
            "Data columns (total 15 columns):\n",
            " #   Column        Non-Null Count  Dtype   \n",
            "---  ------        --------------  -----   \n",
            " 0   HomePlanet    8693 non-null   object  \n",
            " 1   CryoSleep     8693 non-null   bool    \n",
            " 2   Destination   8693 non-null   object  \n",
            " 3   VIP           8693 non-null   bool    \n",
            " 4   RoomService   8693 non-null   float64 \n",
            " 5   FoodCourt     8693 non-null   float64 \n",
            " 6   ShoppingMall  8693 non-null   float64 \n",
            " 7   Spa           8693 non-null   float64 \n",
            " 8   VRDeck        8693 non-null   float64 \n",
            " 9   Transported   8693 non-null   bool    \n",
            " 10  Starboard     8693 non-null   float64 \n",
            " 11  Port          8693 non-null   float64 \n",
            " 12  Group         8693 non-null   int64   \n",
            " 13  PeopleGroup   8693 non-null   int64   \n",
            " 14  AgeLabel      8693 non-null   category\n",
            "dtypes: bool(3), category(1), float64(7), int64(2), object(2)\n",
            "memory usage: 781.3+ KB\n"
          ]
        },
        {
          "output_type": "stream",
          "name": "stderr",
          "text": [
            "/usr/local/lib/python3.7/dist-packages/ipykernel_launcher.py:79: FutureWarning: Dropping of nuisance columns in DataFrame reductions (with 'numeric_only=None') is deprecated; in a future version this will raise TypeError.  Select only valid columns before calling the reduction.\n"
          ]
        }
      ]
    },
    {
      "cell_type": "code",
      "source": [
        "prepared_data.tail()"
      ],
      "metadata": {
        "colab": {
          "base_uri": "https://localhost:8080/",
          "height": 206
        },
        "id": "R_SyDPF6MEyQ",
        "outputId": "b6d8cbd5-1520-4e32-c7f3-6a2e812cb114"
      },
      "execution_count": 170,
      "outputs": [
        {
          "output_type": "execute_result",
          "data": {
            "text/plain": [
              "     HomePlanet  CryoSleep    Destination    VIP  RoomService  FoodCourt  \\\n",
              "8688     Europa      False    55 Cancri e   True          0.0     6819.0   \n",
              "8689      Earth       True  PSO J318.5-22  False          0.0        0.0   \n",
              "8690      Earth      False    TRAPPIST-1e  False          0.0        0.0   \n",
              "8691     Europa      False    55 Cancri e  False          0.0     1049.0   \n",
              "8692     Europa      False    TRAPPIST-1e  False        126.0     4688.0   \n",
              "\n",
              "      ShoppingMall     Spa  VRDeck  Transported  Starboard  Port  Group  \\\n",
              "8688           0.0  1643.0    74.0        False        0.0   1.0   9276   \n",
              "8689           0.0     0.0     0.0        False        1.0   0.0   9278   \n",
              "8690        1872.0     1.0     0.0         True        1.0   0.0   9279   \n",
              "8691           0.0   353.0  3235.0        False        1.0   0.0   9280   \n",
              "8692           0.0     0.0    12.0         True        1.0   0.0   9280   \n",
              "\n",
              "      PeopleGroup AgeLabel  \n",
              "8688            1        3  \n",
              "8689            1        0  \n",
              "8690            1        1  \n",
              "8691            1        2  \n",
              "8692            2        3  "
            ],
            "text/html": [
              "\n",
              "  <div id=\"df-c6d8b5af-10b9-45b7-93bf-ee662ddca0bf\">\n",
              "    <div class=\"colab-df-container\">\n",
              "      <div>\n",
              "<style scoped>\n",
              "    .dataframe tbody tr th:only-of-type {\n",
              "        vertical-align: middle;\n",
              "    }\n",
              "\n",
              "    .dataframe tbody tr th {\n",
              "        vertical-align: top;\n",
              "    }\n",
              "\n",
              "    .dataframe thead th {\n",
              "        text-align: right;\n",
              "    }\n",
              "</style>\n",
              "<table border=\"1\" class=\"dataframe\">\n",
              "  <thead>\n",
              "    <tr style=\"text-align: right;\">\n",
              "      <th></th>\n",
              "      <th>HomePlanet</th>\n",
              "      <th>CryoSleep</th>\n",
              "      <th>Destination</th>\n",
              "      <th>VIP</th>\n",
              "      <th>RoomService</th>\n",
              "      <th>FoodCourt</th>\n",
              "      <th>ShoppingMall</th>\n",
              "      <th>Spa</th>\n",
              "      <th>VRDeck</th>\n",
              "      <th>Transported</th>\n",
              "      <th>Starboard</th>\n",
              "      <th>Port</th>\n",
              "      <th>Group</th>\n",
              "      <th>PeopleGroup</th>\n",
              "      <th>AgeLabel</th>\n",
              "    </tr>\n",
              "  </thead>\n",
              "  <tbody>\n",
              "    <tr>\n",
              "      <th>8688</th>\n",
              "      <td>Europa</td>\n",
              "      <td>False</td>\n",
              "      <td>55 Cancri e</td>\n",
              "      <td>True</td>\n",
              "      <td>0.0</td>\n",
              "      <td>6819.0</td>\n",
              "      <td>0.0</td>\n",
              "      <td>1643.0</td>\n",
              "      <td>74.0</td>\n",
              "      <td>False</td>\n",
              "      <td>0.0</td>\n",
              "      <td>1.0</td>\n",
              "      <td>9276</td>\n",
              "      <td>1</td>\n",
              "      <td>3</td>\n",
              "    </tr>\n",
              "    <tr>\n",
              "      <th>8689</th>\n",
              "      <td>Earth</td>\n",
              "      <td>True</td>\n",
              "      <td>PSO J318.5-22</td>\n",
              "      <td>False</td>\n",
              "      <td>0.0</td>\n",
              "      <td>0.0</td>\n",
              "      <td>0.0</td>\n",
              "      <td>0.0</td>\n",
              "      <td>0.0</td>\n",
              "      <td>False</td>\n",
              "      <td>1.0</td>\n",
              "      <td>0.0</td>\n",
              "      <td>9278</td>\n",
              "      <td>1</td>\n",
              "      <td>0</td>\n",
              "    </tr>\n",
              "    <tr>\n",
              "      <th>8690</th>\n",
              "      <td>Earth</td>\n",
              "      <td>False</td>\n",
              "      <td>TRAPPIST-1e</td>\n",
              "      <td>False</td>\n",
              "      <td>0.0</td>\n",
              "      <td>0.0</td>\n",
              "      <td>1872.0</td>\n",
              "      <td>1.0</td>\n",
              "      <td>0.0</td>\n",
              "      <td>True</td>\n",
              "      <td>1.0</td>\n",
              "      <td>0.0</td>\n",
              "      <td>9279</td>\n",
              "      <td>1</td>\n",
              "      <td>1</td>\n",
              "    </tr>\n",
              "    <tr>\n",
              "      <th>8691</th>\n",
              "      <td>Europa</td>\n",
              "      <td>False</td>\n",
              "      <td>55 Cancri e</td>\n",
              "      <td>False</td>\n",
              "      <td>0.0</td>\n",
              "      <td>1049.0</td>\n",
              "      <td>0.0</td>\n",
              "      <td>353.0</td>\n",
              "      <td>3235.0</td>\n",
              "      <td>False</td>\n",
              "      <td>1.0</td>\n",
              "      <td>0.0</td>\n",
              "      <td>9280</td>\n",
              "      <td>1</td>\n",
              "      <td>2</td>\n",
              "    </tr>\n",
              "    <tr>\n",
              "      <th>8692</th>\n",
              "      <td>Europa</td>\n",
              "      <td>False</td>\n",
              "      <td>TRAPPIST-1e</td>\n",
              "      <td>False</td>\n",
              "      <td>126.0</td>\n",
              "      <td>4688.0</td>\n",
              "      <td>0.0</td>\n",
              "      <td>0.0</td>\n",
              "      <td>12.0</td>\n",
              "      <td>True</td>\n",
              "      <td>1.0</td>\n",
              "      <td>0.0</td>\n",
              "      <td>9280</td>\n",
              "      <td>2</td>\n",
              "      <td>3</td>\n",
              "    </tr>\n",
              "  </tbody>\n",
              "</table>\n",
              "</div>\n",
              "      <button class=\"colab-df-convert\" onclick=\"convertToInteractive('df-c6d8b5af-10b9-45b7-93bf-ee662ddca0bf')\"\n",
              "              title=\"Convert this dataframe to an interactive table.\"\n",
              "              style=\"display:none;\">\n",
              "        \n",
              "  <svg xmlns=\"http://www.w3.org/2000/svg\" height=\"24px\"viewBox=\"0 0 24 24\"\n",
              "       width=\"24px\">\n",
              "    <path d=\"M0 0h24v24H0V0z\" fill=\"none\"/>\n",
              "    <path d=\"M18.56 5.44l.94 2.06.94-2.06 2.06-.94-2.06-.94-.94-2.06-.94 2.06-2.06.94zm-11 1L8.5 8.5l.94-2.06 2.06-.94-2.06-.94L8.5 2.5l-.94 2.06-2.06.94zm10 10l.94 2.06.94-2.06 2.06-.94-2.06-.94-.94-2.06-.94 2.06-2.06.94z\"/><path d=\"M17.41 7.96l-1.37-1.37c-.4-.4-.92-.59-1.43-.59-.52 0-1.04.2-1.43.59L10.3 9.45l-7.72 7.72c-.78.78-.78 2.05 0 2.83L4 21.41c.39.39.9.59 1.41.59.51 0 1.02-.2 1.41-.59l7.78-7.78 2.81-2.81c.8-.78.8-2.07 0-2.86zM5.41 20L4 18.59l7.72-7.72 1.47 1.35L5.41 20z\"/>\n",
              "  </svg>\n",
              "      </button>\n",
              "      \n",
              "  <style>\n",
              "    .colab-df-container {\n",
              "      display:flex;\n",
              "      flex-wrap:wrap;\n",
              "      gap: 12px;\n",
              "    }\n",
              "\n",
              "    .colab-df-convert {\n",
              "      background-color: #E8F0FE;\n",
              "      border: none;\n",
              "      border-radius: 50%;\n",
              "      cursor: pointer;\n",
              "      display: none;\n",
              "      fill: #1967D2;\n",
              "      height: 32px;\n",
              "      padding: 0 0 0 0;\n",
              "      width: 32px;\n",
              "    }\n",
              "\n",
              "    .colab-df-convert:hover {\n",
              "      background-color: #E2EBFA;\n",
              "      box-shadow: 0px 1px 2px rgba(60, 64, 67, 0.3), 0px 1px 3px 1px rgba(60, 64, 67, 0.15);\n",
              "      fill: #174EA6;\n",
              "    }\n",
              "\n",
              "    [theme=dark] .colab-df-convert {\n",
              "      background-color: #3B4455;\n",
              "      fill: #D2E3FC;\n",
              "    }\n",
              "\n",
              "    [theme=dark] .colab-df-convert:hover {\n",
              "      background-color: #434B5C;\n",
              "      box-shadow: 0px 1px 3px 1px rgba(0, 0, 0, 0.15);\n",
              "      filter: drop-shadow(0px 1px 2px rgba(0, 0, 0, 0.3));\n",
              "      fill: #FFFFFF;\n",
              "    }\n",
              "  </style>\n",
              "\n",
              "      <script>\n",
              "        const buttonEl =\n",
              "          document.querySelector('#df-c6d8b5af-10b9-45b7-93bf-ee662ddca0bf button.colab-df-convert');\n",
              "        buttonEl.style.display =\n",
              "          google.colab.kernel.accessAllowed ? 'block' : 'none';\n",
              "\n",
              "        async function convertToInteractive(key) {\n",
              "          const element = document.querySelector('#df-c6d8b5af-10b9-45b7-93bf-ee662ddca0bf');\n",
              "          const dataTable =\n",
              "            await google.colab.kernel.invokeFunction('convertToInteractive',\n",
              "                                                     [key], {});\n",
              "          if (!dataTable) return;\n",
              "\n",
              "          const docLinkHtml = 'Like what you see? Visit the ' +\n",
              "            '<a target=\"_blank\" href=https://colab.research.google.com/notebooks/data_table.ipynb>data table notebook</a>'\n",
              "            + ' to learn more about interactive tables.';\n",
              "          element.innerHTML = '';\n",
              "          dataTable['output_type'] = 'display_data';\n",
              "          await google.colab.output.renderOutput(dataTable, element);\n",
              "          const docLink = document.createElement('div');\n",
              "          docLink.innerHTML = docLinkHtml;\n",
              "          element.appendChild(docLink);\n",
              "        }\n",
              "      </script>\n",
              "    </div>\n",
              "  </div>\n",
              "  "
            ]
          },
          "metadata": {},
          "execution_count": 170
        }
      ]
    },
    {
      "cell_type": "code",
      "source": [
        ""
      ],
      "metadata": {
        "id": "FG3z4BayMHD6"
      },
      "execution_count": null,
      "outputs": []
    }
  ],
  "metadata": {
    "colab": {
      "collapsed_sections": [],
      "name": "Space_titanic",
      "provenance": [],
      "include_colab_link": true
    },
    "kernelspec": {
      "display_name": "Python 3",
      "name": "python3"
    }
  },
  "nbformat": 4,
  "nbformat_minor": 0
}