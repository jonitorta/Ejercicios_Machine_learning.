{
  "nbformat": 4,
  "nbformat_minor": 0,
  "metadata": {
    "colab": {
      "name": "FPPDatamodels",
      "provenance": [],
      "include_colab_link": true
    },
    "kernelspec": {
      "name": "python3",
      "display_name": "Python 3"
    }
  },
  "cells": [
    {
      "cell_type": "markdown",
      "metadata": {
        "id": "view-in-github",
        "colab_type": "text"
      },
      "source": [
        "<a href=\"https://colab.research.google.com/github/jonitorta/Ejercicios_Machine_learning./blob/main/FPPDatamodels.ipynb\" target=\"_parent\"><img src=\"https://colab.research.google.com/assets/colab-badge.svg\" alt=\"Open In Colab\"/></a>"
      ]
    },
    {
      "cell_type": "code",
      "metadata": {
        "id": "d_YWqCikiR5P"
      },
      "source": [
        "import collections"
      ],
      "execution_count": 1,
      "outputs": []
    },
    {
      "cell_type": "code",
      "metadata": {
        "id": "mXzOD-3Gprim"
      },
      "source": [
        "#Creamos un objeto llamado card el cual es simplemente un tuple con dos entradas\n",
        "#rank y suit, este objeto se comporta exactamente como un tuple esa es la utilidad.\n",
        "Card = collections.namedtuple('Card', ['rank', 'suit'])"
      ],
      "execution_count": 3,
      "outputs": []
    },
    {
      "cell_type": "code",
      "metadata": {
        "id": "uCHpUz6hilKn"
      },
      "source": [
        "class FrenchDeck:\n",
        "  #Como podemos ver define los rangos y tipos de cartas, lo interesante es como \n",
        "  #luego llama a self.suits sin definirlo en __init__ de igual manera con self.ranks\n",
        "  #Cuando creamos entonces cosas fuera del __init__ de manera automática se asignan con self.\n",
        "  ranks = [str(n) for n in range(2, 11)] + list('JQKA')\n",
        "  suits = 'spades diamonds clubs hearts'.split()\n",
        "  def __init__(self):\n",
        "    #Usa un doble for loop contraction por cada suit itera sobre el rango asi crea una carta con\n",
        "    #suit y le da a cada carta con suit su rango 4*13 = 52 cartas \n",
        "    self._cards = [Card(rank, suit) for suit in self.suits\n",
        "    for rank in self.ranks]\n",
        "  def __len__(self):\n",
        "    #Método mágico para dar la longitud como es una lista pues la definición es sencilla.\n",
        "    return len(self._cards)\n",
        "  def __getitem__(self, position):\n",
        "    #De igual manera método mágico para iterar sobre el objeto como es una lista la definición es sencilla.\n",
        "    #Como getitem esta asociado a [] podemos hacer slicing\n",
        "    #y ademas es iterable\n",
        "    return self._cards[position]"
      ],
      "execution_count": 18,
      "outputs": []
    },
    {
      "cell_type": "code",
      "metadata": {
        "id": "lPCtR8qco5lU",
        "colab": {
          "base_uri": "https://localhost:8080/"
        },
        "outputId": "cb641a07-5b3b-4e52-d170-4b01f2688b47"
      },
      "source": [
        "beer_car = Card(\"7\",\"diamonds\")\n",
        "beer_car "
      ],
      "execution_count": 19,
      "outputs": [
        {
          "output_type": "execute_result",
          "data": {
            "text/plain": [
              "Card(rank='7', suit='diamonds')"
            ]
          },
          "metadata": {},
          "execution_count": 19
        }
      ]
    },
    {
      "cell_type": "code",
      "metadata": {
        "id": "UB5nJmz8o8xG"
      },
      "source": [
        "#Choice toma un item de manera aleatoria de una secuencia.\n",
        "from random import choice"
      ],
      "execution_count": 20,
      "outputs": []
    },
    {
      "cell_type": "code",
      "metadata": {
        "id": "GsDazsT_uvun"
      },
      "source": [
        "deck = FrenchDeck()"
      ],
      "execution_count": 21,
      "outputs": []
    },
    {
      "cell_type": "code",
      "metadata": {
        "id": "OGxvjcTkuw6V",
        "colab": {
          "base_uri": "https://localhost:8080/"
        },
        "outputId": "211a119c-1a8e-44fb-8e13-b77ba132f9ee"
      },
      "source": [
        "len(deck)"
      ],
      "execution_count": 23,
      "outputs": [
        {
          "output_type": "execute_result",
          "data": {
            "text/plain": [
              "52"
            ]
          },
          "metadata": {},
          "execution_count": 23
        }
      ]
    },
    {
      "cell_type": "code",
      "metadata": {
        "id": "xrmxXLFfvnbF",
        "colab": {
          "base_uri": "https://localhost:8080/"
        },
        "outputId": "b0491e62-c17d-448a-f334-53c2df513f80"
      },
      "source": [
        "deck[0]"
      ],
      "execution_count": 24,
      "outputs": [
        {
          "output_type": "execute_result",
          "data": {
            "text/plain": [
              "Card(rank='2', suit='spades')"
            ]
          },
          "metadata": {},
          "execution_count": 24
        }
      ]
    },
    {
      "cell_type": "code",
      "metadata": {
        "id": "yuuxUB6Tvn32",
        "colab": {
          "base_uri": "https://localhost:8080/"
        },
        "outputId": "1ac041eb-8ff5-4714-db90-34a0d11c3fec"
      },
      "source": [
        "choice(deck)"
      ],
      "execution_count": 25,
      "outputs": [
        {
          "output_type": "execute_result",
          "data": {
            "text/plain": [
              "Card(rank='A', suit='clubs')"
            ]
          },
          "metadata": {},
          "execution_count": 25
        }
      ]
    },
    {
      "cell_type": "code",
      "source": [
        "choice(deck)"
      ],
      "metadata": {
        "colab": {
          "base_uri": "https://localhost:8080/"
        },
        "id": "A4oMW894cA2v",
        "outputId": "1f3cf628-c067-4856-e6b6-58398749f24a"
      },
      "execution_count": 26,
      "outputs": [
        {
          "output_type": "execute_result",
          "data": {
            "text/plain": [
              "Card(rank='K', suit='clubs')"
            ]
          },
          "metadata": {},
          "execution_count": 26
        }
      ]
    },
    {
      "cell_type": "code",
      "source": [
        "deck[0:5]"
      ],
      "metadata": {
        "colab": {
          "base_uri": "https://localhost:8080/"
        },
        "id": "EsOlR0EYcCKA",
        "outputId": "aadfd1bb-0ddc-4eab-9a33-d76dbd0d54f9"
      },
      "execution_count": 28,
      "outputs": [
        {
          "output_type": "execute_result",
          "data": {
            "text/plain": [
              "[Card(rank='2', suit='spades'),\n",
              " Card(rank='3', suit='spades'),\n",
              " Card(rank='4', suit='spades'),\n",
              " Card(rank='5', suit='spades'),\n",
              " Card(rank='6', suit='spades')]"
            ]
          },
          "metadata": {},
          "execution_count": 28
        }
      ]
    },
    {
      "cell_type": "code",
      "source": [
        "for card in deck:\n",
        "  pass"
      ],
      "metadata": {
        "id": "CpQHAnwVdwXS"
      },
      "execution_count": 29,
      "outputs": []
    },
    {
      "cell_type": "code",
      "source": [
        "#Podemos verificar si existe algun elemento en el mazo\n",
        "Card('Q', 'hearts') in deck"
      ],
      "metadata": {
        "colab": {
          "base_uri": "https://localhost:8080/"
        },
        "id": "K7UT1Mn9eFt2",
        "outputId": "fa87830c-3762-43ee-bb0c-933a2c7a781d"
      },
      "execution_count": 30,
      "outputs": [
        {
          "output_type": "execute_result",
          "data": {
            "text/plain": [
              "True"
            ]
          },
          "metadata": {},
          "execution_count": 30
        }
      ]
    },
    {
      "cell_type": "code",
      "source": [
        "Card('7', 'beasts') in deck"
      ],
      "metadata": {
        "colab": {
          "base_uri": "https://localhost:8080/"
        },
        "id": "n7xyvi4heYN2",
        "outputId": "0d90c94a-86bd-4864-e42b-c610df7d81b5"
      },
      "execution_count": 31,
      "outputs": [
        {
          "output_type": "execute_result",
          "data": {
            "text/plain": [
              "False"
            ]
          },
          "metadata": {},
          "execution_count": 31
        }
      ]
    },
    {
      "cell_type": "code",
      "source": [
        "#Creamos un diccionario rápidamente\n",
        "suit_values = dict(spades=3, hearts=2, diamonds=1, clubs=0)\n",
        "suit_values"
      ],
      "metadata": {
        "colab": {
          "base_uri": "https://localhost:8080/"
        },
        "id": "lZm641TSeZhO",
        "outputId": "e3bf3772-69ee-4b16-f8b0-361507d876e7"
      },
      "execution_count": 37,
      "outputs": [
        {
          "output_type": "execute_result",
          "data": {
            "text/plain": [
              "{'clubs': 0, 'diamonds': 1, 'hearts': 2, 'spades': 3}"
            ]
          },
          "metadata": {},
          "execution_count": 37
        }
      ]
    },
    {
      "cell_type": "code",
      "source": [
        "def spades_high(card):\n",
        " rank_value = FrenchDeck.ranks.index(card.rank)\n",
        " return rank_value * len(suit_values) + suit_values[card.suit]"
      ],
      "metadata": {
        "id": "Aw3jJLHAelb2"
      },
      "execution_count": 38,
      "outputs": []
    },
    {
      "cell_type": "code",
      "source": [
        "#sorted ordena los objetos de un iterable con la key\n",
        "#spades_high da prioridad a la string spades\n",
        "for card in sorted(deck, key=spades_high, reverse = True ):\n",
        "  print(card)"
      ],
      "metadata": {
        "colab": {
          "base_uri": "https://localhost:8080/"
        },
        "id": "u0Y6jMmwemTO",
        "outputId": "8797deff-90c7-4438-e6d1-23c4028d61b5"
      },
      "execution_count": 46,
      "outputs": [
        {
          "output_type": "stream",
          "name": "stdout",
          "text": [
            "Card(rank='A', suit='spades')\n",
            "Card(rank='A', suit='hearts')\n",
            "Card(rank='A', suit='diamonds')\n",
            "Card(rank='A', suit='clubs')\n",
            "Card(rank='K', suit='spades')\n",
            "Card(rank='K', suit='hearts')\n",
            "Card(rank='K', suit='diamonds')\n",
            "Card(rank='K', suit='clubs')\n",
            "Card(rank='Q', suit='spades')\n",
            "Card(rank='Q', suit='hearts')\n",
            "Card(rank='Q', suit='diamonds')\n",
            "Card(rank='Q', suit='clubs')\n",
            "Card(rank='J', suit='spades')\n",
            "Card(rank='J', suit='hearts')\n",
            "Card(rank='J', suit='diamonds')\n",
            "Card(rank='J', suit='clubs')\n",
            "Card(rank='10', suit='spades')\n",
            "Card(rank='10', suit='hearts')\n",
            "Card(rank='10', suit='diamonds')\n",
            "Card(rank='10', suit='clubs')\n",
            "Card(rank='9', suit='spades')\n",
            "Card(rank='9', suit='hearts')\n",
            "Card(rank='9', suit='diamonds')\n",
            "Card(rank='9', suit='clubs')\n",
            "Card(rank='8', suit='spades')\n",
            "Card(rank='8', suit='hearts')\n",
            "Card(rank='8', suit='diamonds')\n",
            "Card(rank='8', suit='clubs')\n",
            "Card(rank='7', suit='spades')\n",
            "Card(rank='7', suit='hearts')\n",
            "Card(rank='7', suit='diamonds')\n",
            "Card(rank='7', suit='clubs')\n",
            "Card(rank='6', suit='spades')\n",
            "Card(rank='6', suit='hearts')\n",
            "Card(rank='6', suit='diamonds')\n",
            "Card(rank='6', suit='clubs')\n",
            "Card(rank='5', suit='spades')\n",
            "Card(rank='5', suit='hearts')\n",
            "Card(rank='5', suit='diamonds')\n",
            "Card(rank='5', suit='clubs')\n",
            "Card(rank='4', suit='spades')\n",
            "Card(rank='4', suit='hearts')\n",
            "Card(rank='4', suit='diamonds')\n",
            "Card(rank='4', suit='clubs')\n",
            "Card(rank='3', suit='spades')\n",
            "Card(rank='3', suit='hearts')\n",
            "Card(rank='3', suit='diamonds')\n",
            "Card(rank='3', suit='clubs')\n",
            "Card(rank='2', suit='spades')\n",
            "Card(rank='2', suit='hearts')\n",
            "Card(rank='2', suit='diamonds')\n",
            "Card(rank='2', suit='clubs')\n"
          ]
        }
      ]
    },
    {
      "cell_type": "code",
      "source": [
        "from math import hypot\n",
        "#Creemos un vector\n",
        "class Vector:\n",
        "  def __init__(self, x , y):\n",
        "    self.x = x \n",
        "    self.y = y\n",
        "#Definimos la representación de nuestro vector\n",
        "  def __repr__(self):\n",
        "    return f'Vector({self.x},{self.y})' \n",
        "#El valor absoluto o sea abs(Vector)\n",
        "  def __abs__(self):\n",
        "    return hypot(self.x, self.y)\n",
        "#El bool de nuestro vecor\n",
        "  def __bool__(self):\n",
        "    return bool(abs(self))\n",
        "#Como se suma nuestro vector\n",
        "  def __add__(self, other):\n",
        "    x = self.x + other.x\n",
        "    y = self.y + other.y\n",
        "    return Vector(x, y)\n",
        "#Como se multiplica por un escalar nuestro vector\n",
        "  def __mul__(self, scalar):\n",
        "    return Vector(self.x * scalar, self.y * scalar)\n",
        "\n"
      ],
      "metadata": {
        "id": "Efn1ccHKfSMg"
      },
      "execution_count": 56,
      "outputs": []
    },
    {
      "cell_type": "code",
      "source": [
        "vec1 = Vector(1,1)\n",
        "vec2 = Vector(2,2)\n",
        "vec1+vec2"
      ],
      "metadata": {
        "colab": {
          "base_uri": "https://localhost:8080/"
        },
        "id": "13cC_1F7i-7P",
        "outputId": "569d196e-4ea4-4e0b-be21-03eb383fe68c"
      },
      "execution_count": 57,
      "outputs": [
        {
          "output_type": "execute_result",
          "data": {
            "text/plain": [
              "Vector(3,3)"
            ]
          },
          "metadata": {},
          "execution_count": 57
        }
      ]
    },
    {
      "cell_type": "code",
      "source": [
        "#Esto llama a __repr__\n",
        "vec1"
      ],
      "metadata": {
        "colab": {
          "base_uri": "https://localhost:8080/"
        },
        "id": "CHv4BrcYl9N_",
        "outputId": "c16421f6-47cf-4fd7-ebf5-40835fd0ac99"
      },
      "execution_count": 59,
      "outputs": [
        {
          "output_type": "execute_result",
          "data": {
            "text/plain": [
              "Vector(1,1)"
            ]
          },
          "metadata": {},
          "execution_count": 59
        }
      ]
    },
    {
      "cell_type": "code",
      "source": [
        "#Para comparar vectores usamos el bool\n",
        "vec1 == vec2"
      ],
      "metadata": {
        "colab": {
          "base_uri": "https://localhost:8080/"
        },
        "id": "ECrrMH9SmHNe",
        "outputId": "a01f8b46-fd7a-4378-f9b6-17fb948680ac"
      },
      "execution_count": 65,
      "outputs": [
        {
          "output_type": "execute_result",
          "data": {
            "text/plain": [
              "False"
            ]
          },
          "metadata": {},
          "execution_count": 65
        }
      ]
    },
    {
      "cell_type": "code",
      "source": [
        "#La multiplicación utiliza __mul__ pero tiene un problemita que arreglaremos luego.\n",
        "try : \n",
        "  5*vec1\n",
        "except  TypeError :\n",
        "  print(\"No se puede hacer escalar * vector solo vector * escalar\")\n",
        "  print(vec1*5) "
      ],
      "metadata": {
        "colab": {
          "base_uri": "https://localhost:8080/"
        },
        "id": "K96nUDIbmhtt",
        "outputId": "9bc25093-f977-4397-ea36-851f7e83495d"
      },
      "execution_count": 74,
      "outputs": [
        {
          "output_type": "stream",
          "name": "stdout",
          "text": [
            "No se puede hacer escalar * vector solo vector * escalar\n",
            "Vector(5,5)\n"
          ]
        }
      ]
    },
    {
      "cell_type": "code",
      "source": [
        "x, y = 1, 2\n",
        "bool(0 or 1 )"
      ],
      "metadata": {
        "colab": {
          "base_uri": "https://localhost:8080/"
        },
        "id": "DY3kdjIem7wd",
        "outputId": "bf7a5beb-7211-49a5-fbbd-6c7844ab00c7"
      },
      "execution_count": 76,
      "outputs": [
        {
          "output_type": "execute_result",
          "data": {
            "text/plain": [
              "True"
            ]
          },
          "metadata": {},
          "execution_count": 76
        }
      ]
    },
    {
      "cell_type": "code",
      "source": [
        ""
      ],
      "metadata": {
        "id": "DCOEAzdCopy1"
      },
      "execution_count": null,
      "outputs": []
    }
  ]
}